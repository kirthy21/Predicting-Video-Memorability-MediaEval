{
 "cells": [
  {
   "cell_type": "markdown",
   "metadata": {
    "colab_type": "text",
    "id": "yZHXFUuMEVjk"
   },
   "source": [
    "# Predicting Memorability\n"
   ]
  },
  {
   "cell_type": "markdown",
   "metadata": {},
   "source": [
    "In this notebook I have combined the videos captions, C3D and HMP features to predict video memorability and run them through an Gradient Boosting regressor model after experimenting with different models and combinations of features.\n",
    "\n",
    "The notebook is divided into two sections\n",
    "\n",
    "1. Final ML Model - The final model which I used for the prediction task i.e. Gradient Boosting regressor model with a combination of captions, C3D and HMP.\n",
    "2. Explorations - Different models were run with individual features and combination of features to find the best model for prediction."
   ]
  },
  {
   "cell_type": "markdown",
   "metadata": {},
   "source": [
    "## Installing and setting up Libraries"
   ]
  },
  {
   "cell_type": "code",
   "execution_count": 1,
   "metadata": {
    "colab": {
     "base_uri": "https://localhost:8080/",
     "height": 84
    },
    "colab_type": "code",
    "executionInfo": {
     "elapsed": 53433,
     "status": "ok",
     "timestamp": 1587595167862,
     "user": {
      "displayName": "Kirthy Francis",
      "photoUrl": "https://lh3.googleusercontent.com/a-/AOh14GijNK7FM2xrZUykCoHIPFo4MIEzIh7vdAuLb-2L=s64",
      "userId": "00800941396627043895"
     },
     "user_tz": -60
    },
    "id": "ZJVSOv49Cbkn",
    "outputId": "708fe47c-1891-4f73-b7b6-5bba3b885805"
   },
   "outputs": [
    {
     "name": "stdout",
     "output_type": "stream",
     "text": [
      "Requirement already satisfied: pyprind in d:\\program\\lib\\site-packages (2.11.2)\n"
     ]
    }
   ],
   "source": [
    "!pip install pyprind"
   ]
  },
  {
   "cell_type": "code",
   "execution_count": 2,
   "metadata": {},
   "outputs": [
    {
     "name": "stdout",
     "output_type": "stream",
     "text": [
      "Requirement already satisfied: xgboost in d:\\program\\lib\\site-packages (0.90)\n",
      "Requirement already satisfied: scipy in d:\\program\\lib\\site-packages (from xgboost) (1.4.1)\n",
      "Requirement already satisfied: numpy in d:\\program\\lib\\site-packages (from xgboost) (1.18.1)\n"
     ]
    }
   ],
   "source": [
    "!pip install xgboost "
   ]
  },
  {
   "cell_type": "code",
   "execution_count": 3,
   "metadata": {
    "colab": {
     "base_uri": "https://localhost:8080/",
     "height": 34
    },
    "colab_type": "code",
    "collapsed": true,
    "executionInfo": {
     "elapsed": 55412,
     "status": "ok",
     "timestamp": 1587595169870,
     "user": {
      "displayName": "Kirthy Francis",
      "photoUrl": "https://lh3.googleusercontent.com/a-/AOh14GijNK7FM2xrZUykCoHIPFo4MIEzIh7vdAuLb-2L=s64",
      "userId": "00800941396627043895"
     },
     "user_tz": -60
    },
    "id": "VDkSNu-XCe0b",
    "outputId": "33e07e9f-2522-4498-c43a-14d5df8a6a68"
   },
   "outputs": [
    {
     "name": "stderr",
     "output_type": "stream",
     "text": [
      "Using TensorFlow backend.\n",
      "D:\\Program\\lib\\site-packages\\tensorflow\\python\\framework\\dtypes.py:516: FutureWarning: Passing (type, 1) or '1type' as a synonym of type is deprecated; in a future version of numpy, it will be understood as (type, (1,)) / '(1,)type'.\n",
      "  _np_qint8 = np.dtype([(\"qint8\", np.int8, 1)])\n",
      "D:\\Program\\lib\\site-packages\\tensorflow\\python\\framework\\dtypes.py:517: FutureWarning: Passing (type, 1) or '1type' as a synonym of type is deprecated; in a future version of numpy, it will be understood as (type, (1,)) / '(1,)type'.\n",
      "  _np_quint8 = np.dtype([(\"quint8\", np.uint8, 1)])\n",
      "D:\\Program\\lib\\site-packages\\tensorflow\\python\\framework\\dtypes.py:518: FutureWarning: Passing (type, 1) or '1type' as a synonym of type is deprecated; in a future version of numpy, it will be understood as (type, (1,)) / '(1,)type'.\n",
      "  _np_qint16 = np.dtype([(\"qint16\", np.int16, 1)])\n",
      "D:\\Program\\lib\\site-packages\\tensorflow\\python\\framework\\dtypes.py:519: FutureWarning: Passing (type, 1) or '1type' as a synonym of type is deprecated; in a future version of numpy, it will be understood as (type, (1,)) / '(1,)type'.\n",
      "  _np_quint16 = np.dtype([(\"quint16\", np.uint16, 1)])\n",
      "D:\\Program\\lib\\site-packages\\tensorflow\\python\\framework\\dtypes.py:520: FutureWarning: Passing (type, 1) or '1type' as a synonym of type is deprecated; in a future version of numpy, it will be understood as (type, (1,)) / '(1,)type'.\n",
      "  _np_qint32 = np.dtype([(\"qint32\", np.int32, 1)])\n",
      "D:\\Program\\lib\\site-packages\\tensorflow\\python\\framework\\dtypes.py:525: FutureWarning: Passing (type, 1) or '1type' as a synonym of type is deprecated; in a future version of numpy, it will be understood as (type, (1,)) / '(1,)type'.\n",
      "  np_resource = np.dtype([(\"resource\", np.ubyte, 1)])\n",
      "D:\\Program\\lib\\site-packages\\tensorboard\\compat\\tensorflow_stub\\dtypes.py:541: FutureWarning: Passing (type, 1) or '1type' as a synonym of type is deprecated; in a future version of numpy, it will be understood as (type, (1,)) / '(1,)type'.\n",
      "  _np_qint8 = np.dtype([(\"qint8\", np.int8, 1)])\n",
      "D:\\Program\\lib\\site-packages\\tensorboard\\compat\\tensorflow_stub\\dtypes.py:542: FutureWarning: Passing (type, 1) or '1type' as a synonym of type is deprecated; in a future version of numpy, it will be understood as (type, (1,)) / '(1,)type'.\n",
      "  _np_quint8 = np.dtype([(\"quint8\", np.uint8, 1)])\n",
      "D:\\Program\\lib\\site-packages\\tensorboard\\compat\\tensorflow_stub\\dtypes.py:543: FutureWarning: Passing (type, 1) or '1type' as a synonym of type is deprecated; in a future version of numpy, it will be understood as (type, (1,)) / '(1,)type'.\n",
      "  _np_qint16 = np.dtype([(\"qint16\", np.int16, 1)])\n",
      "D:\\Program\\lib\\site-packages\\tensorboard\\compat\\tensorflow_stub\\dtypes.py:544: FutureWarning: Passing (type, 1) or '1type' as a synonym of type is deprecated; in a future version of numpy, it will be understood as (type, (1,)) / '(1,)type'.\n",
      "  _np_quint16 = np.dtype([(\"quint16\", np.uint16, 1)])\n",
      "D:\\Program\\lib\\site-packages\\tensorboard\\compat\\tensorflow_stub\\dtypes.py:545: FutureWarning: Passing (type, 1) or '1type' as a synonym of type is deprecated; in a future version of numpy, it will be understood as (type, (1,)) / '(1,)type'.\n",
      "  _np_qint32 = np.dtype([(\"qint32\", np.int32, 1)])\n",
      "D:\\Program\\lib\\site-packages\\tensorboard\\compat\\tensorflow_stub\\dtypes.py:550: FutureWarning: Passing (type, 1) or '1type' as a synonym of type is deprecated; in a future version of numpy, it will be understood as (type, (1,)) / '(1,)type'.\n",
      "  np_resource = np.dtype([(\"resource\", np.ubyte, 1)])\n"
     ]
    }
   ],
   "source": [
    "#import panda and other libraries required\n",
    "\n",
    "import os\n",
    "import pandas as pd\n",
    "from keras import Sequential\n",
    "from keras import layers\n",
    "from keras import regularizers\n",
    "import numpy as np\n",
    "from string import punctuation\n",
    "import pyprind\n",
    "from collections import Counter\n",
    "from keras.preprocessing.text import Tokenizer\n",
    "from sklearn.model_selection import train_test_split\n",
    "from keras import preprocessing\n",
    "from functools import reduce\n",
    "import xgboost as xgb\n",
    "from sklearn.linear_model import LinearRegression\n",
    "from sklearn.tree import DecisionTreeRegressor\n",
    "from sklearn.ensemble import RandomForestRegressor\n",
    "from numpy import loadtxt   \n",
    "from xgboost import XGBClassifier\n",
    "from sklearn.model_selection import train_test_split\n",
    "from sklearn import ensemble\n",
    "\n",
    "#Randomising for reproducability\n",
    "from numpy.random import seed\n",
    "seed(1)\n",
    "import tensorflow \n",
    "tensorflow.random.set_random_seed(1)"
   ]
  },
  {
   "cell_type": "markdown",
   "metadata": {},
   "source": [
    "#### Spearman Function"
   ]
  },
  {
   "cell_type": "code",
   "execution_count": 4,
   "metadata": {
    "colab": {},
    "colab_type": "code",
    "id": "wkWYzaSiCher"
   },
   "outputs": [],
   "source": [
    "def Get_score(Y_pred,Y_true):    #Spearman function\n",
    "    '''Calculate the Spearmann\"s correlation coefficient'''\n",
    "    Y_pred = np.squeeze(Y_pred)\n",
    "    Y_true = np.squeeze(Y_true)\n",
    "    if Y_pred.shape != Y_true.shape:\n",
    "        print('Input shapes don\\'t match!')\n",
    "    else:\n",
    "        if len(Y_pred.shape) == 1:\n",
    "            Res = pd.DataFrame({'Y_true':Y_true,'Y_pred':Y_pred})\n",
    "            score_mat = Res[['Y_true','Y_pred']].corr(method='spearman',min_periods=1)\n",
    "            print('The Spearman\\'s correlation coefficient is: %.3f' % score_mat.iloc[1][0])\n",
    "        else:\n",
    "            for ii in range(Y_pred.shape[1]):\n",
    "                Get_score(Y_pred[:,ii],Y_true[:,ii])"
   ]
  },
  {
   "cell_type": "code",
   "execution_count": 5,
   "metadata": {},
   "outputs": [
    {
     "name": "stdout",
     "output_type": "stream",
     "text": [
      "1.14.0\n"
     ]
    }
   ],
   "source": [
    "print(tensorflow.__version__)"
   ]
  },
  {
   "cell_type": "markdown",
   "metadata": {},
   "source": [
    "## Gradient Boosting Regressor (Final model) is run on a combination of the features (Captions + C3D + HMP)"
   ]
  },
  {
   "cell_type": "markdown",
   "metadata": {},
   "source": [
    "#### Loading Caption features Test Set"
   ]
  },
  {
   "cell_type": "code",
   "execution_count": 105,
   "metadata": {
    "colab": {},
    "colab_type": "code",
    "id": "OaEvSCp0FFHz"
   },
   "outputs": [],
   "source": [
    "# load the test captions txt file\n",
    "test_cap_path = 'D:/MCM_Second_Sem/Machine Learning/CA684_Assignment/Test-set/Captions_test/test-set-1_video-captions.txt'\n",
    "df_test_cap=read_caps(test_cap_path)# load the test captions txt file"
   ]
  },
  {
   "cell_type": "code",
   "execution_count": 106,
   "metadata": {
    "colab": {
     "base_uri": "https://localhost:8080/",
     "height": 252
    },
    "colab_type": "code",
    "executionInfo": {
     "elapsed": 68455,
     "status": "ok",
     "timestamp": 1587595183298,
     "user": {
      "displayName": "Kirthy Francis",
      "photoUrl": "https://lh3.googleusercontent.com/a-/AOh14GijNK7FM2xrZUykCoHIPFo4MIEzIh7vdAuLb-2L=s64",
      "userId": "00800941396627043895"
     },
     "user_tz": -60
    },
    "id": "3n5AOP1oFIq5",
    "outputId": "9bffea4b-46f5-4948-8ce1-5511dd5f1a82"
   },
   "outputs": [
    {
     "data": {
      "text/html": [
       "<div>\n",
       "<style scoped>\n",
       "    .dataframe tbody tr th:only-of-type {\n",
       "        vertical-align: middle;\n",
       "    }\n",
       "\n",
       "    .dataframe tbody tr th {\n",
       "        vertical-align: top;\n",
       "    }\n",
       "\n",
       "    .dataframe thead th {\n",
       "        text-align: right;\n",
       "    }\n",
       "</style>\n",
       "<table border=\"1\" class=\"dataframe\">\n",
       "  <thead>\n",
       "    <tr style=\"text-align: right;\">\n",
       "      <th></th>\n",
       "      <th>video</th>\n",
       "      <th>caption</th>\n",
       "    </tr>\n",
       "  </thead>\n",
       "  <tbody>\n",
       "    <tr>\n",
       "      <th>0</th>\n",
       "      <td>video7494.webm</td>\n",
       "      <td>green-jeep-struggling-to-drive-over-huge-rocks</td>\n",
       "    </tr>\n",
       "    <tr>\n",
       "      <th>1</th>\n",
       "      <td>video7495.webm</td>\n",
       "      <td>hiking-woman-tourist-is-walking-forward-in-mou...</td>\n",
       "    </tr>\n",
       "    <tr>\n",
       "      <th>2</th>\n",
       "      <td>video7496.webm</td>\n",
       "      <td>close-up-of-african-american-doctors-hands-usi...</td>\n",
       "    </tr>\n",
       "    <tr>\n",
       "      <th>3</th>\n",
       "      <td>video7497.webm</td>\n",
       "      <td>slow-motion-of-a-man-using-treadmill-in-the-gy...</td>\n",
       "    </tr>\n",
       "    <tr>\n",
       "      <th>4</th>\n",
       "      <td>video7498.webm</td>\n",
       "      <td>slow-motion-of-photographer-in-national-park</td>\n",
       "    </tr>\n",
       "  </tbody>\n",
       "</table>\n",
       "</div>"
      ],
      "text/plain": [
       "            video                                            caption\n",
       "0  video7494.webm     green-jeep-struggling-to-drive-over-huge-rocks\n",
       "1  video7495.webm  hiking-woman-tourist-is-walking-forward-in-mou...\n",
       "2  video7496.webm  close-up-of-african-american-doctors-hands-usi...\n",
       "3  video7497.webm  slow-motion-of-a-man-using-treadmill-in-the-gy...\n",
       "4  video7498.webm       slow-motion-of-photographer-in-national-park"
      ]
     },
     "execution_count": 106,
     "metadata": {},
     "output_type": "execute_result"
    }
   ],
   "source": [
    "df_test_cap.head()"
   ]
  },
  {
   "cell_type": "markdown",
   "metadata": {},
   "source": [
    "#### Loading C3D features Test Set"
   ]
  },
  {
   "cell_type": "code",
   "execution_count": 107,
   "metadata": {},
   "outputs": [],
   "source": [
    "# Load testing data - this should load in test set of video features \n",
    "\n",
    "vid = df_test_cap.video.values  #pull in video labels first\n",
    "\n",
    "Features_test = pd.DataFrame({'video': vid,\n",
    "                   'C3D': [read_C3D('D:/MCM_Second_Sem/Machine Learning/CA684_Assignment/Test-set/C3D_test/'+os.path.splitext(item)[0]+'.txt') for item in vid],\n",
    "                       })"
   ]
  },
  {
   "cell_type": "code",
   "execution_count": 108,
   "metadata": {},
   "outputs": [
    {
     "data": {
      "text/plain": [
       "2000"
      ]
     },
     "execution_count": 108,
     "metadata": {},
     "output_type": "execute_result"
    }
   ],
   "source": [
    "len(Features_test)"
   ]
  },
  {
   "cell_type": "code",
   "execution_count": 109,
   "metadata": {
    "colab": {
     "base_uri": "https://localhost:8080/",
     "height": 328
    },
    "colab_type": "code",
    "executionInfo": {
     "elapsed": 68406,
     "status": "ok",
     "timestamp": 1587595183300,
     "user": {
      "displayName": "Kirthy Francis",
      "photoUrl": "https://lh3.googleusercontent.com/a-/AOh14GijNK7FM2xrZUykCoHIPFo4MIEzIh7vdAuLb-2L=s64",
      "userId": "00800941396627043895"
     },
     "user_tz": -60
    },
    "id": "J2TRMIyiBwyr",
    "outputId": "428967a9-7978-4b7b-c844-e088342bee97",
    "scrolled": true
   },
   "outputs": [
    {
     "data": {
      "text/html": [
       "<div>\n",
       "<style scoped>\n",
       "    .dataframe tbody tr th:only-of-type {\n",
       "        vertical-align: middle;\n",
       "    }\n",
       "\n",
       "    .dataframe tbody tr th {\n",
       "        vertical-align: top;\n",
       "    }\n",
       "\n",
       "    .dataframe thead th {\n",
       "        text-align: right;\n",
       "    }\n",
       "</style>\n",
       "<table border=\"1\" class=\"dataframe\">\n",
       "  <thead>\n",
       "    <tr style=\"text-align: right;\">\n",
       "      <th></th>\n",
       "      <th>video</th>\n",
       "      <th>C3D</th>\n",
       "    </tr>\n",
       "  </thead>\n",
       "  <tbody>\n",
       "    <tr>\n",
       "      <th>0</th>\n",
       "      <td>video7494.webm</td>\n",
       "      <td>[0.00013576, 0.0002133, 0.00124759, 1.149e-05,...</td>\n",
       "    </tr>\n",
       "    <tr>\n",
       "      <th>1</th>\n",
       "      <td>video7495.webm</td>\n",
       "      <td>[0.00012659, 2.377e-05, 0.04950115, 2.418e-05,...</td>\n",
       "    </tr>\n",
       "    <tr>\n",
       "      <th>2</th>\n",
       "      <td>video7496.webm</td>\n",
       "      <td>[0.48898152, 0.00058536, 2.454e-05, 0.00016031...</td>\n",
       "    </tr>\n",
       "    <tr>\n",
       "      <th>3</th>\n",
       "      <td>video7497.webm</td>\n",
       "      <td>[0.24925078, 0.00101763, 8.02e-06, 1.92e-05, 2...</td>\n",
       "    </tr>\n",
       "    <tr>\n",
       "      <th>4</th>\n",
       "      <td>video7498.webm</td>\n",
       "      <td>[0.00989415, 3.413e-05, 0.00261261, 2.1e-06, 1...</td>\n",
       "    </tr>\n",
       "  </tbody>\n",
       "</table>\n",
       "</div>"
      ],
      "text/plain": [
       "            video                                                C3D\n",
       "0  video7494.webm  [0.00013576, 0.0002133, 0.00124759, 1.149e-05,...\n",
       "1  video7495.webm  [0.00012659, 2.377e-05, 0.04950115, 2.418e-05,...\n",
       "2  video7496.webm  [0.48898152, 0.00058536, 2.454e-05, 0.00016031...\n",
       "3  video7497.webm  [0.24925078, 0.00101763, 8.02e-06, 1.92e-05, 2...\n",
       "4  video7498.webm  [0.00989415, 3.413e-05, 0.00261261, 2.1e-06, 1..."
      ]
     },
     "execution_count": 109,
     "metadata": {},
     "output_type": "execute_result"
    }
   ],
   "source": [
    "Features_test.head()"
   ]
  },
  {
   "cell_type": "markdown",
   "metadata": {},
   "source": [
    "#### Loading HMP features Test Set"
   ]
  },
  {
   "cell_type": "code",
   "execution_count": 110,
   "metadata": {},
   "outputs": [],
   "source": [
    "# Load testing data - this should load in test set of video features\n",
    "\n",
    "vid = df_test_cap.video.values  #pull in video labels first\n",
    "\n",
    "HMP_Features_test = pd.DataFrame({'video': vid,\n",
    "                   'HMP': [read_HMP('D:/MCM_Second_Sem/Machine Learning/CA684_Assignment/Test-set/HMP_test/'+os.path.splitext(item)[0]+'.txt') for item in vid],\n",
    "                       })"
   ]
  },
  {
   "cell_type": "code",
   "execution_count": 111,
   "metadata": {},
   "outputs": [
    {
     "data": {
      "text/plain": [
       "2000"
      ]
     },
     "execution_count": 111,
     "metadata": {},
     "output_type": "execute_result"
    }
   ],
   "source": [
    "len(HMP_Features_test)"
   ]
  },
  {
   "cell_type": "code",
   "execution_count": 112,
   "metadata": {},
   "outputs": [
    {
     "data": {
      "text/html": [
       "<div>\n",
       "<style scoped>\n",
       "    .dataframe tbody tr th:only-of-type {\n",
       "        vertical-align: middle;\n",
       "    }\n",
       "\n",
       "    .dataframe tbody tr th {\n",
       "        vertical-align: top;\n",
       "    }\n",
       "\n",
       "    .dataframe thead th {\n",
       "        text-align: right;\n",
       "    }\n",
       "</style>\n",
       "<table border=\"1\" class=\"dataframe\">\n",
       "  <thead>\n",
       "    <tr style=\"text-align: right;\">\n",
       "      <th></th>\n",
       "      <th>video</th>\n",
       "      <th>HMP</th>\n",
       "    </tr>\n",
       "  </thead>\n",
       "  <tbody>\n",
       "    <tr>\n",
       "      <th>0</th>\n",
       "      <td>video7494.webm</td>\n",
       "      <td>[0.022039, 0.005264, 9.8e-05, 0.0, 0.003689, 0...</td>\n",
       "    </tr>\n",
       "    <tr>\n",
       "      <th>1</th>\n",
       "      <td>video7495.webm</td>\n",
       "      <td>[0.004694, 0.001934, 4e-05, 0.0, 0.001226, 5.8...</td>\n",
       "    </tr>\n",
       "    <tr>\n",
       "      <th>2</th>\n",
       "      <td>video7496.webm</td>\n",
       "      <td>[0.02653, 0.006208, 5.8e-05, 0.0, 0.00228, 3.1...</td>\n",
       "    </tr>\n",
       "    <tr>\n",
       "      <th>3</th>\n",
       "      <td>video7497.webm</td>\n",
       "      <td>[0.045109, 0.008317, 0.000151, 0.0, 0.005598, ...</td>\n",
       "    </tr>\n",
       "    <tr>\n",
       "      <th>4</th>\n",
       "      <td>video7498.webm</td>\n",
       "      <td>[0.034691, 0.008619, 0.000412, 0.0, 0.028355, ...</td>\n",
       "    </tr>\n",
       "  </tbody>\n",
       "</table>\n",
       "</div>"
      ],
      "text/plain": [
       "            video                                                HMP\n",
       "0  video7494.webm  [0.022039, 0.005264, 9.8e-05, 0.0, 0.003689, 0...\n",
       "1  video7495.webm  [0.004694, 0.001934, 4e-05, 0.0, 0.001226, 5.8...\n",
       "2  video7496.webm  [0.02653, 0.006208, 5.8e-05, 0.0, 0.00228, 3.1...\n",
       "3  video7497.webm  [0.045109, 0.008317, 0.000151, 0.0, 0.005598, ...\n",
       "4  video7498.webm  [0.034691, 0.008619, 0.000412, 0.0, 0.028355, ..."
      ]
     },
     "execution_count": 112,
     "metadata": {},
     "output_type": "execute_result"
    }
   ],
   "source": [
    "HMP_Features_test.head()"
   ]
  },
  {
   "cell_type": "markdown",
   "metadata": {},
   "source": [
    "#### Preprocessing Captions"
   ]
  },
  {
   "cell_type": "code",
   "execution_count": 113,
   "metadata": {
    "colab": {
     "base_uri": "https://localhost:8080/",
     "height": 67
    },
    "colab_type": "code",
    "executionInfo": {
     "elapsed": 69939,
     "status": "ok",
     "timestamp": 1587595184912,
     "user": {
      "displayName": "Kirthy Francis",
      "photoUrl": "https://lh3.googleusercontent.com/a-/AOh14GijNK7FM2xrZUykCoHIPFo4MIEzIh7vdAuLb-2L=s64",
      "userId": "00800941396627043895"
     },
     "user_tz": -60
    },
    "id": "phGK1NMMF-Ct",
    "outputId": "efb2d9fb-10d4-4463-dc4f-1527bc011e2e",
    "scrolled": true
   },
   "outputs": [
    {
     "name": "stderr",
     "output_type": "stream",
     "text": [
      "Counting word occurrences\n",
      "0% [##############################] 100% | ETA: 00:00:00\n",
      "Total time elapsed: 00:00:01\n"
     ]
    }
   ],
   "source": [
    "counts = Counter()\n",
    "# setup prograss tracker\n",
    "pbar = pyprind.ProgBar(len(df_test_cap['caption']), title='Counting word occurrences')\n",
    "for i, cap in enumerate(df_test_cap['caption']):\n",
    "    # replace punctuations with space\n",
    "    # convert words to lower case \n",
    "    text = ''.join([c if c not in punctuation else ' ' for c in cap]).lower()\n",
    "    df_test_cap.loc[i,'caption'] = text\n",
    "    pbar.update()\n",
    "    counts.update(text.split())"
   ]
  },
  {
   "cell_type": "code",
   "execution_count": 114,
   "metadata": {
    "colab": {
     "base_uri": "https://localhost:8080/",
     "height": 34
    },
    "colab_type": "code",
    "executionInfo": {
     "elapsed": 69922,
     "status": "ok",
     "timestamp": 1587595184913,
     "user": {
      "displayName": "Kirthy Francis",
      "photoUrl": "https://lh3.googleusercontent.com/a-/AOh14GijNK7FM2xrZUykCoHIPFo4MIEzIh7vdAuLb-2L=s64",
      "userId": "00800941396627043895"
     },
     "user_tz": -60
    },
    "id": "dCBJaMfEGACn",
    "outputId": "d0712cdc-9455-4f30-9443-9a149e2ced66"
   },
   "outputs": [
    {
     "name": "stdout",
     "output_type": "stream",
     "text": [
      "3197\n"
     ]
    }
   ],
   "source": [
    "# build the word index\n",
    "len_token = len(counts)\n",
    "tokenizer = Tokenizer(num_words=len_token)\n",
    "print(len_token)"
   ]
  },
  {
   "cell_type": "code",
   "execution_count": 115,
   "metadata": {
    "colab": {},
    "colab_type": "code",
    "id": "0SN26qNQGB7-"
   },
   "outputs": [],
   "source": [
    "tokenizer.fit_on_texts(list(df_test_cap.caption.values))"
   ]
  },
  {
   "cell_type": "code",
   "execution_count": 116,
   "metadata": {
    "colab": {},
    "colab_type": "code",
    "id": "wRd3S9TqGEJg"
   },
   "outputs": [],
   "source": [
    "one_hot_res = tokenizer.texts_to_matrix(list(df_test_cap.caption.values),mode='binary')\n",
    "test_sequences = tokenizer.texts_to_sequences(list(df_test_cap.caption.values))"
   ]
  },
  {
   "cell_type": "code",
   "execution_count": 117,
   "metadata": {
    "colab": {
     "base_uri": "https://localhost:8080/",
     "height": 34
    },
    "colab_type": "code",
    "executionInfo": {
     "elapsed": 70166,
     "status": "ok",
     "timestamp": 1587595185198,
     "user": {
      "displayName": "Kirthy Francis",
      "photoUrl": "https://lh3.googleusercontent.com/a-/AOh14GijNK7FM2xrZUykCoHIPFo4MIEzIh7vdAuLb-2L=s64",
      "userId": "00800941396627043895"
     },
     "user_tz": -60
    },
    "id": "0HIMtB45GH4Z",
    "outputId": "b34f7165-9cf3-459d-9e99-5182d762acab"
   },
   "outputs": [
    {
     "data": {
      "text/plain": [
       "(2000, 50)"
      ]
     },
     "execution_count": 117,
     "metadata": {},
     "output_type": "execute_result"
    }
   ],
   "source": [
    "X_test_seq = np.zeros((len(test_sequences),max_len))\n",
    "for i in range(len(test_sequences)):\n",
    "    n = len(test_sequences[i])\n",
    "    if n==0:\n",
    "        print(i)\n",
    "    else:\n",
    "        X_test_seq[i,-n:] = test_sequences[i]\n",
    "X_test_seq.shape"
   ]
  },
  {
   "cell_type": "code",
   "execution_count": 118,
   "metadata": {
    "colab": {},
    "colab_type": "code",
    "id": "7fU7_aafGIMC"
   },
   "outputs": [],
   "source": [
    "df_test_seq = pd.DataFrame(X_test_seq)    #create dataframe with the sequences\n",
    "df_test_seq = pd.concat([df_test_cap, df_test_seq], axis = 1)   #merging sequnces dataframe and the captions dataframe to I can line up video name to each sequence\n",
    "df_test_seq = df_test_seq.drop(\"caption\", axis=1)  #removing column with word version of caption so we have a dataframe where the integer sequences are algined with the primary key (video names)"
   ]
  },
  {
   "cell_type": "code",
   "execution_count": 119,
   "metadata": {
    "colab": {
     "base_uri": "https://localhost:8080/",
     "height": 252
    },
    "colab_type": "code",
    "executionInfo": {
     "elapsed": 70133,
     "status": "ok",
     "timestamp": 1587595185199,
     "user": {
      "displayName": "Kirthy Francis",
      "photoUrl": "https://lh3.googleusercontent.com/a-/AOh14GijNK7FM2xrZUykCoHIPFo4MIEzIh7vdAuLb-2L=s64",
      "userId": "00800941396627043895"
     },
     "user_tz": -60
    },
    "id": "h7lhEbYjGKG-",
    "outputId": "131c0772-7aaf-4fb5-f8a6-2eb2c2e52103"
   },
   "outputs": [
    {
     "data": {
      "text/html": [
       "<div>\n",
       "<style scoped>\n",
       "    .dataframe tbody tr th:only-of-type {\n",
       "        vertical-align: middle;\n",
       "    }\n",
       "\n",
       "    .dataframe tbody tr th {\n",
       "        vertical-align: top;\n",
       "    }\n",
       "\n",
       "    .dataframe thead th {\n",
       "        text-align: right;\n",
       "    }\n",
       "</style>\n",
       "<table border=\"1\" class=\"dataframe\">\n",
       "  <thead>\n",
       "    <tr style=\"text-align: right;\">\n",
       "      <th></th>\n",
       "      <th>video</th>\n",
       "      <th>0</th>\n",
       "      <th>1</th>\n",
       "      <th>2</th>\n",
       "      <th>3</th>\n",
       "      <th>4</th>\n",
       "      <th>5</th>\n",
       "      <th>6</th>\n",
       "      <th>7</th>\n",
       "      <th>8</th>\n",
       "      <th>...</th>\n",
       "      <th>40</th>\n",
       "      <th>41</th>\n",
       "      <th>42</th>\n",
       "      <th>43</th>\n",
       "      <th>44</th>\n",
       "      <th>45</th>\n",
       "      <th>46</th>\n",
       "      <th>47</th>\n",
       "      <th>48</th>\n",
       "      <th>49</th>\n",
       "    </tr>\n",
       "  </thead>\n",
       "  <tbody>\n",
       "    <tr>\n",
       "      <th>0</th>\n",
       "      <td>video7494.webm</td>\n",
       "      <td>0.0</td>\n",
       "      <td>0.0</td>\n",
       "      <td>0.0</td>\n",
       "      <td>0.0</td>\n",
       "      <td>0.0</td>\n",
       "      <td>0.0</td>\n",
       "      <td>0.0</td>\n",
       "      <td>0.0</td>\n",
       "      <td>0.0</td>\n",
       "      <td>...</td>\n",
       "      <td>0.0</td>\n",
       "      <td>0.0</td>\n",
       "      <td>61.0</td>\n",
       "      <td>640.0</td>\n",
       "      <td>1088.0</td>\n",
       "      <td>12.0</td>\n",
       "      <td>1089.0</td>\n",
       "      <td>66.0</td>\n",
       "      <td>428.0</td>\n",
       "      <td>283.0</td>\n",
       "    </tr>\n",
       "    <tr>\n",
       "      <th>1</th>\n",
       "      <td>video7495.webm</td>\n",
       "      <td>0.0</td>\n",
       "      <td>0.0</td>\n",
       "      <td>0.0</td>\n",
       "      <td>0.0</td>\n",
       "      <td>0.0</td>\n",
       "      <td>0.0</td>\n",
       "      <td>0.0</td>\n",
       "      <td>0.0</td>\n",
       "      <td>0.0</td>\n",
       "      <td>...</td>\n",
       "      <td>27.0</td>\n",
       "      <td>1605.0</td>\n",
       "      <td>118.0</td>\n",
       "      <td>12.0</td>\n",
       "      <td>1090.0</td>\n",
       "      <td>17.0</td>\n",
       "      <td>6.0</td>\n",
       "      <td>27.0</td>\n",
       "      <td>13.0</td>\n",
       "      <td>14.0</td>\n",
       "    </tr>\n",
       "    <tr>\n",
       "      <th>2</th>\n",
       "      <td>video7496.webm</td>\n",
       "      <td>0.0</td>\n",
       "      <td>0.0</td>\n",
       "      <td>0.0</td>\n",
       "      <td>0.0</td>\n",
       "      <td>0.0</td>\n",
       "      <td>0.0</td>\n",
       "      <td>0.0</td>\n",
       "      <td>0.0</td>\n",
       "      <td>0.0</td>\n",
       "      <td>...</td>\n",
       "      <td>90.0</td>\n",
       "      <td>362.0</td>\n",
       "      <td>53.0</td>\n",
       "      <td>29.0</td>\n",
       "      <td>5.0</td>\n",
       "      <td>1606.0</td>\n",
       "      <td>12.0</td>\n",
       "      <td>1091.0</td>\n",
       "      <td>1607.0</td>\n",
       "      <td>1092.0</td>\n",
       "    </tr>\n",
       "    <tr>\n",
       "      <th>3</th>\n",
       "      <td>video7497.webm</td>\n",
       "      <td>0.0</td>\n",
       "      <td>0.0</td>\n",
       "      <td>0.0</td>\n",
       "      <td>0.0</td>\n",
       "      <td>0.0</td>\n",
       "      <td>0.0</td>\n",
       "      <td>0.0</td>\n",
       "      <td>0.0</td>\n",
       "      <td>0.0</td>\n",
       "      <td>...</td>\n",
       "      <td>1093.0</td>\n",
       "      <td>1608.0</td>\n",
       "      <td>804.0</td>\n",
       "      <td>26.0</td>\n",
       "      <td>1609.0</td>\n",
       "      <td>35.0</td>\n",
       "      <td>34.0</td>\n",
       "      <td>7.0</td>\n",
       "      <td>805.0</td>\n",
       "      <td>1610.0</td>\n",
       "    </tr>\n",
       "    <tr>\n",
       "      <th>4</th>\n",
       "      <td>video7498.webm</td>\n",
       "      <td>0.0</td>\n",
       "      <td>0.0</td>\n",
       "      <td>0.0</td>\n",
       "      <td>0.0</td>\n",
       "      <td>0.0</td>\n",
       "      <td>0.0</td>\n",
       "      <td>0.0</td>\n",
       "      <td>0.0</td>\n",
       "      <td>0.0</td>\n",
       "      <td>...</td>\n",
       "      <td>0.0</td>\n",
       "      <td>0.0</td>\n",
       "      <td>0.0</td>\n",
       "      <td>13.0</td>\n",
       "      <td>14.0</td>\n",
       "      <td>7.0</td>\n",
       "      <td>1611.0</td>\n",
       "      <td>1.0</td>\n",
       "      <td>76.0</td>\n",
       "      <td>19.0</td>\n",
       "    </tr>\n",
       "  </tbody>\n",
       "</table>\n",
       "<p>5 rows × 51 columns</p>\n",
       "</div>"
      ],
      "text/plain": [
       "            video    0    1    2    3    4    5    6    7    8  ...      40  \\\n",
       "0  video7494.webm  0.0  0.0  0.0  0.0  0.0  0.0  0.0  0.0  0.0  ...     0.0   \n",
       "1  video7495.webm  0.0  0.0  0.0  0.0  0.0  0.0  0.0  0.0  0.0  ...    27.0   \n",
       "2  video7496.webm  0.0  0.0  0.0  0.0  0.0  0.0  0.0  0.0  0.0  ...    90.0   \n",
       "3  video7497.webm  0.0  0.0  0.0  0.0  0.0  0.0  0.0  0.0  0.0  ...  1093.0   \n",
       "4  video7498.webm  0.0  0.0  0.0  0.0  0.0  0.0  0.0  0.0  0.0  ...     0.0   \n",
       "\n",
       "       41     42     43      44      45      46      47      48      49  \n",
       "0     0.0   61.0  640.0  1088.0    12.0  1089.0    66.0   428.0   283.0  \n",
       "1  1605.0  118.0   12.0  1090.0    17.0     6.0    27.0    13.0    14.0  \n",
       "2   362.0   53.0   29.0     5.0  1606.0    12.0  1091.0  1607.0  1092.0  \n",
       "3  1608.0  804.0   26.0  1609.0    35.0    34.0     7.0   805.0  1610.0  \n",
       "4     0.0    0.0   13.0    14.0     7.0  1611.0     1.0    76.0    19.0  \n",
       "\n",
       "[5 rows x 51 columns]"
      ]
     },
     "execution_count": 119,
     "metadata": {},
     "output_type": "execute_result"
    }
   ],
   "source": [
    "df_test_seq.head()"
   ]
  },
  {
   "cell_type": "markdown",
   "metadata": {},
   "source": [
    "#### Preprocessing C3D features"
   ]
  },
  {
   "cell_type": "code",
   "execution_count": 120,
   "metadata": {},
   "outputs": [],
   "source": [
    "Features_test1 = pd.DataFrame(Features_test.C3D.apply(pd.Series)) \n",
    "Features_test2 = pd.concat([Features_test, Features_test1], axis = 1)  #merges features and features1 (splits out into columns)\n",
    "Features_test2 = Features_test2.drop(\"C3D\", axis=1)    #drops column where all c3d features are combined in 1 column"
   ]
  },
  {
   "cell_type": "code",
   "execution_count": 121,
   "metadata": {},
   "outputs": [
    {
     "data": {
      "text/html": [
       "<div>\n",
       "<style scoped>\n",
       "    .dataframe tbody tr th:only-of-type {\n",
       "        vertical-align: middle;\n",
       "    }\n",
       "\n",
       "    .dataframe tbody tr th {\n",
       "        vertical-align: top;\n",
       "    }\n",
       "\n",
       "    .dataframe thead th {\n",
       "        text-align: right;\n",
       "    }\n",
       "</style>\n",
       "<table border=\"1\" class=\"dataframe\">\n",
       "  <thead>\n",
       "    <tr style=\"text-align: right;\">\n",
       "      <th></th>\n",
       "      <th>video</th>\n",
       "      <th>0</th>\n",
       "      <th>1</th>\n",
       "      <th>2</th>\n",
       "      <th>3</th>\n",
       "      <th>4</th>\n",
       "      <th>5</th>\n",
       "      <th>6</th>\n",
       "      <th>7</th>\n",
       "      <th>8</th>\n",
       "      <th>...</th>\n",
       "      <th>91</th>\n",
       "      <th>92</th>\n",
       "      <th>93</th>\n",
       "      <th>94</th>\n",
       "      <th>95</th>\n",
       "      <th>96</th>\n",
       "      <th>97</th>\n",
       "      <th>98</th>\n",
       "      <th>99</th>\n",
       "      <th>100</th>\n",
       "    </tr>\n",
       "  </thead>\n",
       "  <tbody>\n",
       "    <tr>\n",
       "      <th>0</th>\n",
       "      <td>video7494.webm</td>\n",
       "      <td>0.000136</td>\n",
       "      <td>0.000213</td>\n",
       "      <td>0.001248</td>\n",
       "      <td>0.000011</td>\n",
       "      <td>1.180000e-06</td>\n",
       "      <td>4.276000e-05</td>\n",
       "      <td>5.800000e-07</td>\n",
       "      <td>5.820000e-06</td>\n",
       "      <td>0.000007</td>\n",
       "      <td>...</td>\n",
       "      <td>0.000003</td>\n",
       "      <td>5.620000e-06</td>\n",
       "      <td>1.260000e-06</td>\n",
       "      <td>0.000199</td>\n",
       "      <td>1.500000e-06</td>\n",
       "      <td>2.000000e-07</td>\n",
       "      <td>5.840000e-06</td>\n",
       "      <td>0.000006</td>\n",
       "      <td>0.000210</td>\n",
       "      <td>0.195120</td>\n",
       "    </tr>\n",
       "    <tr>\n",
       "      <th>1</th>\n",
       "      <td>video7495.webm</td>\n",
       "      <td>0.000127</td>\n",
       "      <td>0.000024</td>\n",
       "      <td>0.049501</td>\n",
       "      <td>0.000024</td>\n",
       "      <td>2.361000e-05</td>\n",
       "      <td>3.440000e-06</td>\n",
       "      <td>5.102000e-05</td>\n",
       "      <td>1.240200e-04</td>\n",
       "      <td>0.000023</td>\n",
       "      <td>...</td>\n",
       "      <td>0.000173</td>\n",
       "      <td>3.019200e-04</td>\n",
       "      <td>2.649800e-04</td>\n",
       "      <td>0.000163</td>\n",
       "      <td>1.050000e-05</td>\n",
       "      <td>2.540000e-06</td>\n",
       "      <td>3.619300e-04</td>\n",
       "      <td>0.000016</td>\n",
       "      <td>0.000010</td>\n",
       "      <td>0.000392</td>\n",
       "    </tr>\n",
       "    <tr>\n",
       "      <th>2</th>\n",
       "      <td>video7496.webm</td>\n",
       "      <td>0.488982</td>\n",
       "      <td>0.000585</td>\n",
       "      <td>0.000025</td>\n",
       "      <td>0.000160</td>\n",
       "      <td>2.400000e-07</td>\n",
       "      <td>8.300000e-07</td>\n",
       "      <td>3.620000e-06</td>\n",
       "      <td>5.200000e-07</td>\n",
       "      <td>0.000027</td>\n",
       "      <td>...</td>\n",
       "      <td>0.000002</td>\n",
       "      <td>1.900000e-07</td>\n",
       "      <td>3.200000e-07</td>\n",
       "      <td>0.001802</td>\n",
       "      <td>2.640000e-06</td>\n",
       "      <td>9.000000e-08</td>\n",
       "      <td>2.600000e-07</td>\n",
       "      <td>0.000067</td>\n",
       "      <td>0.000123</td>\n",
       "      <td>0.000015</td>\n",
       "    </tr>\n",
       "    <tr>\n",
       "      <th>3</th>\n",
       "      <td>video7497.webm</td>\n",
       "      <td>0.249251</td>\n",
       "      <td>0.001018</td>\n",
       "      <td>0.000008</td>\n",
       "      <td>0.000019</td>\n",
       "      <td>2.200000e-07</td>\n",
       "      <td>8.800000e-07</td>\n",
       "      <td>1.646560e-02</td>\n",
       "      <td>4.701000e-05</td>\n",
       "      <td>0.000025</td>\n",
       "      <td>...</td>\n",
       "      <td>0.000065</td>\n",
       "      <td>8.400000e-07</td>\n",
       "      <td>1.700000e-07</td>\n",
       "      <td>0.000808</td>\n",
       "      <td>9.700000e-07</td>\n",
       "      <td>7.670000e-06</td>\n",
       "      <td>9.100000e-07</td>\n",
       "      <td>0.000015</td>\n",
       "      <td>0.000707</td>\n",
       "      <td>0.000010</td>\n",
       "    </tr>\n",
       "    <tr>\n",
       "      <th>4</th>\n",
       "      <td>video7498.webm</td>\n",
       "      <td>0.009894</td>\n",
       "      <td>0.000034</td>\n",
       "      <td>0.002613</td>\n",
       "      <td>0.000002</td>\n",
       "      <td>1.010000e-06</td>\n",
       "      <td>8.770000e-06</td>\n",
       "      <td>2.610000e-06</td>\n",
       "      <td>4.500000e-07</td>\n",
       "      <td>0.000005</td>\n",
       "      <td>...</td>\n",
       "      <td>0.000012</td>\n",
       "      <td>6.600000e-07</td>\n",
       "      <td>8.770000e-06</td>\n",
       "      <td>0.000132</td>\n",
       "      <td>7.400000e-07</td>\n",
       "      <td>2.120000e-06</td>\n",
       "      <td>8.260000e-06</td>\n",
       "      <td>0.001402</td>\n",
       "      <td>0.000745</td>\n",
       "      <td>0.000456</td>\n",
       "    </tr>\n",
       "  </tbody>\n",
       "</table>\n",
       "<p>5 rows × 102 columns</p>\n",
       "</div>"
      ],
      "text/plain": [
       "            video         0         1         2         3             4  \\\n",
       "0  video7494.webm  0.000136  0.000213  0.001248  0.000011  1.180000e-06   \n",
       "1  video7495.webm  0.000127  0.000024  0.049501  0.000024  2.361000e-05   \n",
       "2  video7496.webm  0.488982  0.000585  0.000025  0.000160  2.400000e-07   \n",
       "3  video7497.webm  0.249251  0.001018  0.000008  0.000019  2.200000e-07   \n",
       "4  video7498.webm  0.009894  0.000034  0.002613  0.000002  1.010000e-06   \n",
       "\n",
       "              5             6             7         8  ...        91  \\\n",
       "0  4.276000e-05  5.800000e-07  5.820000e-06  0.000007  ...  0.000003   \n",
       "1  3.440000e-06  5.102000e-05  1.240200e-04  0.000023  ...  0.000173   \n",
       "2  8.300000e-07  3.620000e-06  5.200000e-07  0.000027  ...  0.000002   \n",
       "3  8.800000e-07  1.646560e-02  4.701000e-05  0.000025  ...  0.000065   \n",
       "4  8.770000e-06  2.610000e-06  4.500000e-07  0.000005  ...  0.000012   \n",
       "\n",
       "             92            93        94            95            96  \\\n",
       "0  5.620000e-06  1.260000e-06  0.000199  1.500000e-06  2.000000e-07   \n",
       "1  3.019200e-04  2.649800e-04  0.000163  1.050000e-05  2.540000e-06   \n",
       "2  1.900000e-07  3.200000e-07  0.001802  2.640000e-06  9.000000e-08   \n",
       "3  8.400000e-07  1.700000e-07  0.000808  9.700000e-07  7.670000e-06   \n",
       "4  6.600000e-07  8.770000e-06  0.000132  7.400000e-07  2.120000e-06   \n",
       "\n",
       "             97        98        99       100  \n",
       "0  5.840000e-06  0.000006  0.000210  0.195120  \n",
       "1  3.619300e-04  0.000016  0.000010  0.000392  \n",
       "2  2.600000e-07  0.000067  0.000123  0.000015  \n",
       "3  9.100000e-07  0.000015  0.000707  0.000010  \n",
       "4  8.260000e-06  0.001402  0.000745  0.000456  \n",
       "\n",
       "[5 rows x 102 columns]"
      ]
     },
     "execution_count": 121,
     "metadata": {},
     "output_type": "execute_result"
    }
   ],
   "source": [
    "Features_test2.head()"
   ]
  },
  {
   "cell_type": "markdown",
   "metadata": {},
   "source": [
    "#### Preprocessing HMP features"
   ]
  },
  {
   "cell_type": "code",
   "execution_count": 122,
   "metadata": {},
   "outputs": [
    {
     "data": {
      "text/html": [
       "<div>\n",
       "<style scoped>\n",
       "    .dataframe tbody tr th:only-of-type {\n",
       "        vertical-align: middle;\n",
       "    }\n",
       "\n",
       "    .dataframe tbody tr th {\n",
       "        vertical-align: top;\n",
       "    }\n",
       "\n",
       "    .dataframe thead th {\n",
       "        text-align: right;\n",
       "    }\n",
       "</style>\n",
       "<table border=\"1\" class=\"dataframe\">\n",
       "  <thead>\n",
       "    <tr style=\"text-align: right;\">\n",
       "      <th></th>\n",
       "      <th>video</th>\n",
       "      <th>0</th>\n",
       "      <th>1</th>\n",
       "      <th>2</th>\n",
       "      <th>3</th>\n",
       "      <th>4</th>\n",
       "      <th>5</th>\n",
       "      <th>6</th>\n",
       "      <th>7</th>\n",
       "      <th>8</th>\n",
       "      <th>...</th>\n",
       "      <th>6065</th>\n",
       "      <th>6066</th>\n",
       "      <th>6067</th>\n",
       "      <th>6068</th>\n",
       "      <th>6069</th>\n",
       "      <th>6070</th>\n",
       "      <th>6071</th>\n",
       "      <th>6072</th>\n",
       "      <th>6073</th>\n",
       "      <th>6074</th>\n",
       "    </tr>\n",
       "  </thead>\n",
       "  <tbody>\n",
       "    <tr>\n",
       "      <th>0</th>\n",
       "      <td>video7494.webm</td>\n",
       "      <td>0.022039</td>\n",
       "      <td>0.005264</td>\n",
       "      <td>0.000098</td>\n",
       "      <td>0.0</td>\n",
       "      <td>0.003689</td>\n",
       "      <td>0.000129</td>\n",
       "      <td>0.0</td>\n",
       "      <td>0.000000</td>\n",
       "      <td>0.000045</td>\n",
       "      <td>...</td>\n",
       "      <td>0.000025</td>\n",
       "      <td>0.000114</td>\n",
       "      <td>0.000056</td>\n",
       "      <td>0.000002</td>\n",
       "      <td>0.000136</td>\n",
       "      <td>0.000388</td>\n",
       "      <td>0.000038</td>\n",
       "      <td>0.000165</td>\n",
       "      <td>0.000488</td>\n",
       "      <td>0.000187</td>\n",
       "    </tr>\n",
       "    <tr>\n",
       "      <th>1</th>\n",
       "      <td>video7495.webm</td>\n",
       "      <td>0.004694</td>\n",
       "      <td>0.001934</td>\n",
       "      <td>0.000040</td>\n",
       "      <td>0.0</td>\n",
       "      <td>0.001226</td>\n",
       "      <td>0.000058</td>\n",
       "      <td>0.0</td>\n",
       "      <td>0.000000</td>\n",
       "      <td>0.000025</td>\n",
       "      <td>...</td>\n",
       "      <td>0.000000</td>\n",
       "      <td>0.000056</td>\n",
       "      <td>0.000027</td>\n",
       "      <td>0.000002</td>\n",
       "      <td>0.000087</td>\n",
       "      <td>0.000121</td>\n",
       "      <td>0.000004</td>\n",
       "      <td>0.000109</td>\n",
       "      <td>0.000136</td>\n",
       "      <td>0.000029</td>\n",
       "    </tr>\n",
       "    <tr>\n",
       "      <th>2</th>\n",
       "      <td>video7496.webm</td>\n",
       "      <td>0.026530</td>\n",
       "      <td>0.006208</td>\n",
       "      <td>0.000058</td>\n",
       "      <td>0.0</td>\n",
       "      <td>0.002280</td>\n",
       "      <td>0.000031</td>\n",
       "      <td>0.0</td>\n",
       "      <td>0.000000</td>\n",
       "      <td>0.000009</td>\n",
       "      <td>...</td>\n",
       "      <td>0.000011</td>\n",
       "      <td>0.000034</td>\n",
       "      <td>0.000011</td>\n",
       "      <td>0.000002</td>\n",
       "      <td>0.000063</td>\n",
       "      <td>0.000081</td>\n",
       "      <td>0.000004</td>\n",
       "      <td>0.000092</td>\n",
       "      <td>0.000143</td>\n",
       "      <td>0.000051</td>\n",
       "    </tr>\n",
       "    <tr>\n",
       "      <th>3</th>\n",
       "      <td>video7497.webm</td>\n",
       "      <td>0.045109</td>\n",
       "      <td>0.008317</td>\n",
       "      <td>0.000151</td>\n",
       "      <td>0.0</td>\n",
       "      <td>0.005598</td>\n",
       "      <td>0.000128</td>\n",
       "      <td>0.0</td>\n",
       "      <td>0.000008</td>\n",
       "      <td>0.000050</td>\n",
       "      <td>...</td>\n",
       "      <td>0.000035</td>\n",
       "      <td>0.000256</td>\n",
       "      <td>0.000083</td>\n",
       "      <td>0.000003</td>\n",
       "      <td>0.000116</td>\n",
       "      <td>0.000467</td>\n",
       "      <td>0.000020</td>\n",
       "      <td>0.000279</td>\n",
       "      <td>0.000470</td>\n",
       "      <td>0.000219</td>\n",
       "    </tr>\n",
       "    <tr>\n",
       "      <th>4</th>\n",
       "      <td>video7498.webm</td>\n",
       "      <td>0.034691</td>\n",
       "      <td>0.008619</td>\n",
       "      <td>0.000412</td>\n",
       "      <td>0.0</td>\n",
       "      <td>0.028355</td>\n",
       "      <td>0.000538</td>\n",
       "      <td>0.0</td>\n",
       "      <td>0.000000</td>\n",
       "      <td>0.000325</td>\n",
       "      <td>...</td>\n",
       "      <td>0.000009</td>\n",
       "      <td>0.000148</td>\n",
       "      <td>0.000038</td>\n",
       "      <td>0.000002</td>\n",
       "      <td>0.000117</td>\n",
       "      <td>0.000206</td>\n",
       "      <td>0.000022</td>\n",
       "      <td>0.000228</td>\n",
       "      <td>0.000334</td>\n",
       "      <td>0.000086</td>\n",
       "    </tr>\n",
       "  </tbody>\n",
       "</table>\n",
       "<p>5 rows × 6076 columns</p>\n",
       "</div>"
      ],
      "text/plain": [
       "            video         0         1         2    3         4         5    6  \\\n",
       "0  video7494.webm  0.022039  0.005264  0.000098  0.0  0.003689  0.000129  0.0   \n",
       "1  video7495.webm  0.004694  0.001934  0.000040  0.0  0.001226  0.000058  0.0   \n",
       "2  video7496.webm  0.026530  0.006208  0.000058  0.0  0.002280  0.000031  0.0   \n",
       "3  video7497.webm  0.045109  0.008317  0.000151  0.0  0.005598  0.000128  0.0   \n",
       "4  video7498.webm  0.034691  0.008619  0.000412  0.0  0.028355  0.000538  0.0   \n",
       "\n",
       "          7         8  ...      6065      6066      6067      6068      6069  \\\n",
       "0  0.000000  0.000045  ...  0.000025  0.000114  0.000056  0.000002  0.000136   \n",
       "1  0.000000  0.000025  ...  0.000000  0.000056  0.000027  0.000002  0.000087   \n",
       "2  0.000000  0.000009  ...  0.000011  0.000034  0.000011  0.000002  0.000063   \n",
       "3  0.000008  0.000050  ...  0.000035  0.000256  0.000083  0.000003  0.000116   \n",
       "4  0.000000  0.000325  ...  0.000009  0.000148  0.000038  0.000002  0.000117   \n",
       "\n",
       "       6070      6071      6072      6073      6074  \n",
       "0  0.000388  0.000038  0.000165  0.000488  0.000187  \n",
       "1  0.000121  0.000004  0.000109  0.000136  0.000029  \n",
       "2  0.000081  0.000004  0.000092  0.000143  0.000051  \n",
       "3  0.000467  0.000020  0.000279  0.000470  0.000219  \n",
       "4  0.000206  0.000022  0.000228  0.000334  0.000086  \n",
       "\n",
       "[5 rows x 6076 columns]"
      ]
     },
     "execution_count": 122,
     "metadata": {},
     "output_type": "execute_result"
    }
   ],
   "source": [
    "df_hmp_test1 = pd.DataFrame(HMP_Features_test.HMP.apply(pd.Series)) \n",
    "df_hmp_test = pd.concat([HMP_Features_test, df_hmp_test1], axis = 1)  #merges features and features1 (splits out into columns)\n",
    "df_hmp_test = df_hmp_test.drop(\"HMP\", axis=1)    #drops column where all c3d features are combined in 1 column\n",
    "df_hmp_test.head()"
   ]
  },
  {
   "cell_type": "markdown",
   "metadata": {},
   "source": [
    "Merging the features"
   ]
  },
  {
   "cell_type": "code",
   "execution_count": 124,
   "metadata": {},
   "outputs": [],
   "source": [
    "data_frames = [df_test_seq, Features_test2, df_hmp_test]\n",
    "df_merged = reduce(lambda  left,right: pd.merge(left,right,on=['video'],\n",
    "                                            how='outer'), data_frames)"
   ]
  },
  {
   "cell_type": "code",
   "execution_count": 127,
   "metadata": {
    "colab": {},
    "colab_type": "code",
    "id": "xcwV043oGR5l"
   },
   "outputs": [],
   "source": [
    "df_test_x = df_merged.drop('video', axis = 1)"
   ]
  },
  {
   "cell_type": "code",
   "execution_count": 128,
   "metadata": {
    "colab": {
     "base_uri": "https://localhost:8080/",
     "height": 252
    },
    "colab_type": "code",
    "executionInfo": {
     "elapsed": 70999,
     "status": "ok",
     "timestamp": 1587595186125,
     "user": {
      "displayName": "Kirthy Francis",
      "photoUrl": "https://lh3.googleusercontent.com/a-/AOh14GijNK7FM2xrZUykCoHIPFo4MIEzIh7vdAuLb-2L=s64",
      "userId": "00800941396627043895"
     },
     "user_tz": -60
    },
    "id": "8J1345WKLEGI",
    "outputId": "44f30df1-f5c9-45f9-aa6c-d306babf2db1",
    "scrolled": true
   },
   "outputs": [
    {
     "data": {
      "text/html": [
       "<div>\n",
       "<style scoped>\n",
       "    .dataframe tbody tr th:only-of-type {\n",
       "        vertical-align: middle;\n",
       "    }\n",
       "\n",
       "    .dataframe tbody tr th {\n",
       "        vertical-align: top;\n",
       "    }\n",
       "\n",
       "    .dataframe thead th {\n",
       "        text-align: right;\n",
       "    }\n",
       "</style>\n",
       "<table border=\"1\" class=\"dataframe\">\n",
       "  <thead>\n",
       "    <tr style=\"text-align: right;\">\n",
       "      <th></th>\n",
       "      <th>0_x</th>\n",
       "      <th>1_x</th>\n",
       "      <th>2_x</th>\n",
       "      <th>3_x</th>\n",
       "      <th>4_x</th>\n",
       "      <th>5_x</th>\n",
       "      <th>6_x</th>\n",
       "      <th>7_x</th>\n",
       "      <th>8_x</th>\n",
       "      <th>9_x</th>\n",
       "      <th>...</th>\n",
       "      <th>6065</th>\n",
       "      <th>6066</th>\n",
       "      <th>6067</th>\n",
       "      <th>6068</th>\n",
       "      <th>6069</th>\n",
       "      <th>6070</th>\n",
       "      <th>6071</th>\n",
       "      <th>6072</th>\n",
       "      <th>6073</th>\n",
       "      <th>6074</th>\n",
       "    </tr>\n",
       "  </thead>\n",
       "  <tbody>\n",
       "    <tr>\n",
       "      <th>0</th>\n",
       "      <td>0.0</td>\n",
       "      <td>0.0</td>\n",
       "      <td>0.0</td>\n",
       "      <td>0.0</td>\n",
       "      <td>0.0</td>\n",
       "      <td>0.0</td>\n",
       "      <td>0.0</td>\n",
       "      <td>0.0</td>\n",
       "      <td>0.0</td>\n",
       "      <td>0.0</td>\n",
       "      <td>...</td>\n",
       "      <td>0.000025</td>\n",
       "      <td>0.000114</td>\n",
       "      <td>0.000056</td>\n",
       "      <td>0.000002</td>\n",
       "      <td>0.000136</td>\n",
       "      <td>0.000388</td>\n",
       "      <td>0.000038</td>\n",
       "      <td>0.000165</td>\n",
       "      <td>0.000488</td>\n",
       "      <td>0.000187</td>\n",
       "    </tr>\n",
       "    <tr>\n",
       "      <th>1</th>\n",
       "      <td>0.0</td>\n",
       "      <td>0.0</td>\n",
       "      <td>0.0</td>\n",
       "      <td>0.0</td>\n",
       "      <td>0.0</td>\n",
       "      <td>0.0</td>\n",
       "      <td>0.0</td>\n",
       "      <td>0.0</td>\n",
       "      <td>0.0</td>\n",
       "      <td>0.0</td>\n",
       "      <td>...</td>\n",
       "      <td>0.000000</td>\n",
       "      <td>0.000056</td>\n",
       "      <td>0.000027</td>\n",
       "      <td>0.000002</td>\n",
       "      <td>0.000087</td>\n",
       "      <td>0.000121</td>\n",
       "      <td>0.000004</td>\n",
       "      <td>0.000109</td>\n",
       "      <td>0.000136</td>\n",
       "      <td>0.000029</td>\n",
       "    </tr>\n",
       "    <tr>\n",
       "      <th>2</th>\n",
       "      <td>0.0</td>\n",
       "      <td>0.0</td>\n",
       "      <td>0.0</td>\n",
       "      <td>0.0</td>\n",
       "      <td>0.0</td>\n",
       "      <td>0.0</td>\n",
       "      <td>0.0</td>\n",
       "      <td>0.0</td>\n",
       "      <td>0.0</td>\n",
       "      <td>0.0</td>\n",
       "      <td>...</td>\n",
       "      <td>0.000011</td>\n",
       "      <td>0.000034</td>\n",
       "      <td>0.000011</td>\n",
       "      <td>0.000002</td>\n",
       "      <td>0.000063</td>\n",
       "      <td>0.000081</td>\n",
       "      <td>0.000004</td>\n",
       "      <td>0.000092</td>\n",
       "      <td>0.000143</td>\n",
       "      <td>0.000051</td>\n",
       "    </tr>\n",
       "    <tr>\n",
       "      <th>3</th>\n",
       "      <td>0.0</td>\n",
       "      <td>0.0</td>\n",
       "      <td>0.0</td>\n",
       "      <td>0.0</td>\n",
       "      <td>0.0</td>\n",
       "      <td>0.0</td>\n",
       "      <td>0.0</td>\n",
       "      <td>0.0</td>\n",
       "      <td>0.0</td>\n",
       "      <td>0.0</td>\n",
       "      <td>...</td>\n",
       "      <td>0.000035</td>\n",
       "      <td>0.000256</td>\n",
       "      <td>0.000083</td>\n",
       "      <td>0.000003</td>\n",
       "      <td>0.000116</td>\n",
       "      <td>0.000467</td>\n",
       "      <td>0.000020</td>\n",
       "      <td>0.000279</td>\n",
       "      <td>0.000470</td>\n",
       "      <td>0.000219</td>\n",
       "    </tr>\n",
       "    <tr>\n",
       "      <th>4</th>\n",
       "      <td>0.0</td>\n",
       "      <td>0.0</td>\n",
       "      <td>0.0</td>\n",
       "      <td>0.0</td>\n",
       "      <td>0.0</td>\n",
       "      <td>0.0</td>\n",
       "      <td>0.0</td>\n",
       "      <td>0.0</td>\n",
       "      <td>0.0</td>\n",
       "      <td>0.0</td>\n",
       "      <td>...</td>\n",
       "      <td>0.000009</td>\n",
       "      <td>0.000148</td>\n",
       "      <td>0.000038</td>\n",
       "      <td>0.000002</td>\n",
       "      <td>0.000117</td>\n",
       "      <td>0.000206</td>\n",
       "      <td>0.000022</td>\n",
       "      <td>0.000228</td>\n",
       "      <td>0.000334</td>\n",
       "      <td>0.000086</td>\n",
       "    </tr>\n",
       "  </tbody>\n",
       "</table>\n",
       "<p>5 rows × 6226 columns</p>\n",
       "</div>"
      ],
      "text/plain": [
       "   0_x  1_x  2_x  3_x  4_x  5_x  6_x  7_x  8_x  9_x  ...      6065      6066  \\\n",
       "0  0.0  0.0  0.0  0.0  0.0  0.0  0.0  0.0  0.0  0.0  ...  0.000025  0.000114   \n",
       "1  0.0  0.0  0.0  0.0  0.0  0.0  0.0  0.0  0.0  0.0  ...  0.000000  0.000056   \n",
       "2  0.0  0.0  0.0  0.0  0.0  0.0  0.0  0.0  0.0  0.0  ...  0.000011  0.000034   \n",
       "3  0.0  0.0  0.0  0.0  0.0  0.0  0.0  0.0  0.0  0.0  ...  0.000035  0.000256   \n",
       "4  0.0  0.0  0.0  0.0  0.0  0.0  0.0  0.0  0.0  0.0  ...  0.000009  0.000148   \n",
       "\n",
       "       6067      6068      6069      6070      6071      6072      6073  \\\n",
       "0  0.000056  0.000002  0.000136  0.000388  0.000038  0.000165  0.000488   \n",
       "1  0.000027  0.000002  0.000087  0.000121  0.000004  0.000109  0.000136   \n",
       "2  0.000011  0.000002  0.000063  0.000081  0.000004  0.000092  0.000143   \n",
       "3  0.000083  0.000003  0.000116  0.000467  0.000020  0.000279  0.000470   \n",
       "4  0.000038  0.000002  0.000117  0.000206  0.000022  0.000228  0.000334   \n",
       "\n",
       "       6074  \n",
       "0  0.000187  \n",
       "1  0.000029  \n",
       "2  0.000051  \n",
       "3  0.000219  \n",
       "4  0.000086  \n",
       "\n",
       "[5 rows x 6226 columns]"
      ]
     },
     "execution_count": 128,
     "metadata": {},
     "output_type": "execute_result"
    }
   ],
   "source": [
    "df_test_x.head()"
   ]
  },
  {
   "cell_type": "code",
   "execution_count": 187,
   "metadata": {},
   "outputs": [
    {
     "data": {
      "text/plain": [
       "(2000, 6226)"
      ]
     },
     "execution_count": 187,
     "metadata": {},
     "output_type": "execute_result"
    }
   ],
   "source": [
    "df_test_x.shape"
   ]
  },
  {
   "cell_type": "markdown",
   "metadata": {},
   "source": [
    "#### Splitting into Long term and Short term"
   ]
  },
  {
   "cell_type": "code",
   "execution_count": 188,
   "metadata": {
    "colab": {},
    "colab_type": "code",
    "id": "RTeVe8PhMDk3"
   },
   "outputs": [],
   "source": [
    "X_full_train = df_x.values\n",
    "Y_full_train_st = labels['short-term_memorability'].values    \n",
    "Y_full_train_lt = labels['long-term_memorability'].values"
   ]
  },
  {
   "cell_type": "code",
   "execution_count": 189,
   "metadata": {
    "colab": {
     "base_uri": "https://localhost:8080/",
     "height": 67
    },
    "colab_type": "code",
    "executionInfo": {
     "elapsed": 6002640,
     "status": "ok",
     "timestamp": 1587601119146,
     "user": {
      "displayName": "Kirthy Francis",
      "photoUrl": "https://lh3.googleusercontent.com/a-/AOh14GijNK7FM2xrZUykCoHIPFo4MIEzIh7vdAuLb-2L=s64",
      "userId": "00800941396627043895"
     },
     "user_tz": -60
    },
    "id": "H-LkbOd1MFuI",
    "outputId": "a46e437f-a66d-44f4-b7bd-c52cac9bd970"
   },
   "outputs": [
    {
     "name": "stdout",
     "output_type": "stream",
     "text": [
      "X_train (6000, 6226)\n",
      "Y_train lt (6000,)\n",
      "Y_train st (6000,)\n"
     ]
    }
   ],
   "source": [
    "print('X_train', X_full_train.shape)\n",
    "print('Y_train lt', Y_full_train_lt.shape)\n",
    "print('Y_train st', Y_full_train_st.shape)"
   ]
  },
  {
   "cell_type": "code",
   "execution_count": 190,
   "metadata": {
    "colab": {},
    "colab_type": "code",
    "id": "bZmQpZxyMH55"
   },
   "outputs": [],
   "source": [
    "#Model Params\n",
    "params = {'n_estimators':650, 'max_depth':12, 'min_samples_split':2, 'learning_rate':0.01, 'loss':'lad'}\n",
    "clf_final_st = ensemble.GradientBoostingRegressor(**params)"
   ]
  },
  {
   "cell_type": "code",
   "execution_count": 191,
   "metadata": {
    "colab": {},
    "colab_type": "code",
    "id": "yjO5i0dJMJyC"
   },
   "outputs": [
    {
     "data": {
      "text/plain": [
       "GradientBoostingRegressor(alpha=0.9, ccp_alpha=0.0, criterion='friedman_mse',\n",
       "                          init=None, learning_rate=0.01, loss='lad',\n",
       "                          max_depth=12, max_features=None, max_leaf_nodes=None,\n",
       "                          min_impurity_decrease=0.0, min_impurity_split=None,\n",
       "                          min_samples_leaf=1, min_samples_split=2,\n",
       "                          min_weight_fraction_leaf=0.0, n_estimators=650,\n",
       "                          n_iter_no_change=None, presort='deprecated',\n",
       "                          random_state=None, subsample=1.0, tol=0.0001,\n",
       "                          validation_fraction=0.1, verbose=0, warm_start=False)"
      ]
     },
     "execution_count": 191,
     "metadata": {},
     "output_type": "execute_result"
    }
   ],
   "source": [
    "#fit to training set short term\n",
    "clf_final_st.fit(X_full_train, Y_full_train_st)"
   ]
  },
  {
   "cell_type": "code",
   "execution_count": 192,
   "metadata": {
    "colab": {},
    "colab_type": "code",
    "id": "F2sgFm_zMLms"
   },
   "outputs": [
    {
     "name": "stdout",
     "output_type": "stream",
     "text": [
      "long term:\n",
      "[0.85388672 0.82191784 0.87906372 ... 0.88205003 0.83946111 0.88370721]\n"
     ]
    }
   ],
   "source": [
    "prediction_st = clf_final_st.predict(df_test_x)\n",
    "print('long term:')\n",
    "print(prediction_st)"
   ]
  },
  {
   "cell_type": "code",
   "execution_count": 193,
   "metadata": {
    "colab": {},
    "colab_type": "code",
    "id": "V5cB69UpMOBw"
   },
   "outputs": [],
   "source": [
    "#Model Params\n",
    "params = {'n_estimators':650, 'max_depth':12, 'min_samples_split':2, 'learning_rate':0.01, 'loss':'lad'}\n",
    "clf_final_lt = ensemble.GradientBoostingRegressor(**params)"
   ]
  },
  {
   "cell_type": "code",
   "execution_count": 194,
   "metadata": {
    "colab": {},
    "colab_type": "code",
    "id": "rN3mVfdNMQQG"
   },
   "outputs": [
    {
     "data": {
      "text/plain": [
       "GradientBoostingRegressor(alpha=0.9, ccp_alpha=0.0, criterion='friedman_mse',\n",
       "                          init=None, learning_rate=0.01, loss='lad',\n",
       "                          max_depth=12, max_features=None, max_leaf_nodes=None,\n",
       "                          min_impurity_decrease=0.0, min_impurity_split=None,\n",
       "                          min_samples_leaf=1, min_samples_split=2,\n",
       "                          min_weight_fraction_leaf=0.0, n_estimators=650,\n",
       "                          n_iter_no_change=None, presort='deprecated',\n",
       "                          random_state=None, subsample=1.0, tol=0.0001,\n",
       "                          validation_fraction=0.1, verbose=0, warm_start=False)"
      ]
     },
     "execution_count": 194,
     "metadata": {},
     "output_type": "execute_result"
    }
   ],
   "source": [
    "#fit to training set long term\n",
    "clf_final_lt.fit(X_full_train, Y_full_train_lt)"
   ]
  },
  {
   "cell_type": "code",
   "execution_count": 195,
   "metadata": {
    "colab": {},
    "colab_type": "code",
    "id": "ITOgbp0iMUBP"
   },
   "outputs": [
    {
     "name": "stdout",
     "output_type": "stream",
     "text": [
      "short term:\n",
      "[0.78669624 0.77894768 0.77157225 ... 0.81371258 0.77749282 0.80482015]\n"
     ]
    }
   ],
   "source": [
    "#predict test set long term\n",
    "prediction_lt = clf_final_lt.predict(df_test_x)\n",
    "print('short term:')\n",
    "print(prediction_lt)"
   ]
  },
  {
   "cell_type": "code",
   "execution_count": 196,
   "metadata": {
    "colab": {},
    "colab_type": "code",
    "id": "5kgF6h4zMWmj"
   },
   "outputs": [],
   "source": [
    "#Creating data frames for both st and lt predictions\n",
    "df_predictions_final_st = pd.DataFrame(prediction_st)\n",
    "df_predictions_final_st.columns = ['short-term_memorability']\n",
    "df_predictions_final_lt = pd.DataFrame(prediction_lt)\n",
    "df_predictions_final_lt.columns = ['long-term_memorability']"
   ]
  },
  {
   "cell_type": "code",
   "execution_count": 197,
   "metadata": {
    "colab": {},
    "colab_type": "code",
    "id": "XHSY4zhxQ2le"
   },
   "outputs": [
    {
     "name": "stdout",
     "output_type": "stream",
     "text": [
      "      short-term_memorability\n",
      "0                    0.853887\n",
      "1                    0.821918\n",
      "2                    0.879064\n",
      "3                    0.908420\n",
      "4                    0.770162\n",
      "...                       ...\n",
      "1995                 0.860781\n",
      "1996                 0.893002\n",
      "1997                 0.882050\n",
      "1998                 0.839461\n",
      "1999                 0.883707\n",
      "\n",
      "[2000 rows x 1 columns]\n"
     ]
    }
   ],
   "source": [
    "print(df_predictions_final_st)"
   ]
  },
  {
   "cell_type": "code",
   "execution_count": null,
   "metadata": {
    "colab": {},
    "colab_type": "code",
    "id": "xZjaeDfIQ4rw"
   },
   "outputs": [],
   "source": [
    "print(df_predictions_final_lt)"
   ]
  },
  {
   "cell_type": "code",
   "execution_count": 198,
   "metadata": {
    "colab": {},
    "colab_type": "code",
    "id": "-3RdlrljQ8Io"
   },
   "outputs": [],
   "source": [
    "my_predictions_st = pd.concat([df_test_cap, df_predictions_final_st], axis = 1)  #merges predictions st to captions\n",
    "my_predictions_st = my_predictions_st.drop(\"caption\", axis=1)    #drop captions row"
   ]
  },
  {
   "cell_type": "code",
   "execution_count": 199,
   "metadata": {
    "colab": {},
    "colab_type": "code",
    "id": "iqc3TiJUQ-F1"
   },
   "outputs": [
    {
     "name": "stdout",
     "output_type": "stream",
     "text": [
      "                video  short-term_memorability\n",
      "0      video7494.webm                 0.853887\n",
      "1      video7495.webm                 0.821918\n",
      "2      video7496.webm                 0.879064\n",
      "3      video7497.webm                 0.908420\n",
      "4      video7498.webm                 0.770162\n",
      "...               ...                      ...\n",
      "1995  video10004.webm                 0.860781\n",
      "1996  video10005.webm                 0.893002\n",
      "1997  video10006.webm                 0.882050\n",
      "1998  video10007.webm                 0.839461\n",
      "1999  video10008.webm                 0.883707\n",
      "\n",
      "[2000 rows x 2 columns]\n"
     ]
    }
   ],
   "source": [
    "print(my_predictions_st)"
   ]
  },
  {
   "cell_type": "code",
   "execution_count": 200,
   "metadata": {
    "colab": {},
    "colab_type": "code",
    "id": "6lCLTsy4RBQP"
   },
   "outputs": [],
   "source": [
    "my_predictions_lt = pd.concat([df_test_cap, df_predictions_final_lt], axis = 1)  #merges predictions st to captions\n",
    "my_predictions_lt = my_predictions_lt.drop(\"caption\", axis=1)    #drop captions row"
   ]
  },
  {
   "cell_type": "code",
   "execution_count": 201,
   "metadata": {
    "colab": {},
    "colab_type": "code",
    "id": "-tskk5QWRBxl"
   },
   "outputs": [
    {
     "name": "stdout",
     "output_type": "stream",
     "text": [
      "                video  long-term_memorability\n",
      "0      video7494.webm                0.786696\n",
      "1      video7495.webm                0.778948\n",
      "2      video7496.webm                0.771572\n",
      "3      video7497.webm                0.796987\n",
      "4      video7498.webm                0.753085\n",
      "...               ...                     ...\n",
      "1995  video10004.webm                0.764350\n",
      "1996  video10005.webm                0.799399\n",
      "1997  video10006.webm                0.813713\n",
      "1998  video10007.webm                0.777493\n",
      "1999  video10008.webm                0.804820\n",
      "\n",
      "[2000 rows x 2 columns]\n"
     ]
    }
   ],
   "source": [
    "print(my_predictions_lt)"
   ]
  },
  {
   "cell_type": "code",
   "execution_count": 202,
   "metadata": {
    "colab": {},
    "colab_type": "code",
    "id": "QY4eArFjRD_a"
   },
   "outputs": [],
   "source": [
    "df_predictions_final = pd.merge(my_predictions_st, my_predictions_lt, on='video')\n",
    "df_predictions_final = df_predictions_final.drop(\"video\", axis=1)"
   ]
  },
  {
   "cell_type": "code",
   "execution_count": 203,
   "metadata": {
    "colab": {},
    "colab_type": "code",
    "id": "h_S0w-S2RGFq"
   },
   "outputs": [
    {
     "name": "stdout",
     "output_type": "stream",
     "text": [
      "      short-term_memorability  long-term_memorability\n",
      "0                    0.853887                0.786696\n",
      "1                    0.821918                0.778948\n",
      "2                    0.879064                0.771572\n",
      "3                    0.908420                0.796987\n",
      "4                    0.770162                0.753085\n",
      "...                       ...                     ...\n",
      "1995                 0.860781                0.764350\n",
      "1996                 0.893002                0.799399\n",
      "1997                 0.882050                0.813713\n",
      "1998                 0.839461                0.777493\n",
      "1999                 0.883707                0.804820\n",
      "\n",
      "[2000 rows x 2 columns]\n"
     ]
    }
   ],
   "source": [
    "print(df_predictions_final)    #Here is the data frame containing my short term and long term prediction having dropped the video column"
   ]
  },
  {
   "cell_type": "code",
   "execution_count": 204,
   "metadata": {
    "colab": {},
    "colab_type": "code",
    "id": "ucZlnKRxRH7Z"
   },
   "outputs": [],
   "source": [
    "template=pd.read_csv('D:/MCM_Second_Sem/Machine Learning/CA684_Assignment/ground_truth_template.csv')  #pulls in csv file from google drive and store in template\n",
    "template1 = pd.DataFrame(template)  #create data frame"
   ]
  },
  {
   "cell_type": "code",
   "execution_count": 205,
   "metadata": {
    "colab": {},
    "colab_type": "code",
    "id": "_1YhsrUdRJ-w"
   },
   "outputs": [
    {
     "name": "stdout",
     "output_type": "stream",
     "text": [
      "      video  short-term_memorability  nb_short-term_annotations  \\\n",
      "0      7494                      NaN                         33   \n",
      "1      7495                      NaN                         34   \n",
      "2      7496                      NaN                         32   \n",
      "3      7497                      NaN                         33   \n",
      "4      7498                      NaN                         33   \n",
      "...     ...                      ...                        ...   \n",
      "1995  10004                      NaN                         34   \n",
      "1996  10005                      NaN                         34   \n",
      "1997  10006                      NaN                         34   \n",
      "1998  10007                      NaN                         34   \n",
      "1999  10008                      NaN                         33   \n",
      "\n",
      "      long-term_memorability  nb_long-term_annotations  \n",
      "0                        NaN                        12  \n",
      "1                        NaN                        10  \n",
      "2                        NaN                        13  \n",
      "3                        NaN                        10  \n",
      "4                        NaN                        10  \n",
      "...                      ...                       ...  \n",
      "1995                     NaN                        17  \n",
      "1996                     NaN                         9  \n",
      "1997                     NaN                        12  \n",
      "1998                     NaN                        12  \n",
      "1999                     NaN                        10  \n",
      "\n",
      "[2000 rows x 5 columns]\n"
     ]
    }
   ],
   "source": [
    "print(template1)"
   ]
  },
  {
   "cell_type": "code",
   "execution_count": 206,
   "metadata": {
    "colab": {},
    "colab_type": "code",
    "id": "Yswg-8n5RMH0"
   },
   "outputs": [],
   "source": [
    "ground_truth_values = template1.drop('short-term_memorability', axis=1)   #drop short term memorability row\n",
    "ground_truth_values = ground_truth_values.drop('long-term_memorability', axis=1)   #drop long term memorability row\n",
    "\n",
    "\n",
    "ground_truth_values = pd.concat([ground_truth_values, df_predictions_final], axis = 1)   #merge with my final predictions\n",
    "\n",
    "ground_truth_values = ground_truth_values[['video', 'short-term_memorability','nb_short-term_annotations','long-term_memorability', 'nb_long-term_annotations']]  #rearrange columns to right order"
   ]
  },
  {
   "cell_type": "code",
   "execution_count": 207,
   "metadata": {
    "colab": {},
    "colab_type": "code",
    "id": "cYBKI8qeROH-"
   },
   "outputs": [
    {
     "name": "stdout",
     "output_type": "stream",
     "text": [
      "      video  short-term_memorability  nb_short-term_annotations  \\\n",
      "0      7494                 0.853887                         33   \n",
      "1      7495                 0.821918                         34   \n",
      "2      7496                 0.879064                         32   \n",
      "3      7497                 0.908420                         33   \n",
      "4      7498                 0.770162                         33   \n",
      "...     ...                      ...                        ...   \n",
      "1995  10004                 0.860781                         34   \n",
      "1996  10005                 0.893002                         34   \n",
      "1997  10006                 0.882050                         34   \n",
      "1998  10007                 0.839461                         34   \n",
      "1999  10008                 0.883707                         33   \n",
      "\n",
      "      long-term_memorability  nb_long-term_annotations  \n",
      "0                   0.786696                        12  \n",
      "1                   0.778948                        10  \n",
      "2                   0.771572                        13  \n",
      "3                   0.796987                        10  \n",
      "4                   0.753085                        10  \n",
      "...                      ...                       ...  \n",
      "1995                0.764350                        17  \n",
      "1996                0.799399                         9  \n",
      "1997                0.813713                        12  \n",
      "1998                0.777493                        12  \n",
      "1999                0.804820                        10  \n",
      "\n",
      "[2000 rows x 5 columns]\n"
     ]
    }
   ],
   "source": [
    "print(ground_truth_values)"
   ]
  },
  {
   "cell_type": "code",
   "execution_count": null,
   "metadata": {},
   "outputs": [],
   "source": [
    "ground_truth_values.to_csv('ground_truth_values.csv')"
   ]
  },
  {
   "cell_type": "markdown",
   "metadata": {},
   "source": [
    "# Exploration"
   ]
  },
  {
   "cell_type": "markdown",
   "metadata": {},
   "source": [
    "## Loading and preprocessing Features"
   ]
  },
  {
   "cell_type": "markdown",
   "metadata": {},
   "source": [
    "### 1. Captions"
   ]
  },
  {
   "cell_type": "code",
   "execution_count": 6,
   "metadata": {
    "colab": {},
    "colab_type": "code",
    "id": "zYaEaRdrCme2"
   },
   "outputs": [],
   "source": [
    "# load labels and captions \n",
    "def read_caps(fname):\n",
    "    \"\"\"Load the captions into a dataframe\"\"\"\n",
    "    vn = []\n",
    "    cap = []\n",
    "    df = pd.DataFrame();\n",
    "    with open(fname) as f:\n",
    "        for line in f:\n",
    "            pairs = line.split()\n",
    "            vn.append(pairs[0])\n",
    "            cap.append(pairs[1])\n",
    "        df['video']=vn\n",
    "        df['caption']=cap\n",
    "    return df\n",
    "\n",
    "\n",
    "# load the captions txt file\n",
    "cap_path = 'D:\\MCM_Second_Sem\\Machine Learning\\CA684_Assignment\\Dev-set\\Captions\\dev-set_video-captions.txt'\n",
    "df_cap=read_caps(cap_path)\n",
    "\n",
    "labels=pd.read_csv('D:\\MCM_Second_Sem\\Machine Learning\\CA684_Assignment\\Dev-set\\Ground-truth\\ground-truth.csv')"
   ]
  },
  {
   "cell_type": "code",
   "execution_count": 7,
   "metadata": {
    "colab": {
     "base_uri": "https://localhost:8080/",
     "height": 67
    },
    "colab_type": "code",
    "executionInfo": {
     "elapsed": 60762,
     "status": "ok",
     "timestamp": 1587595175296,
     "user": {
      "displayName": "Kirthy Francis",
      "photoUrl": "https://lh3.googleusercontent.com/a-/AOh14GijNK7FM2xrZUykCoHIPFo4MIEzIh7vdAuLb-2L=s64",
      "userId": "00800941396627043895"
     },
     "user_tz": -60
    },
    "id": "hyeElvS_Cox9",
    "outputId": "77d37361-93cb-48d7-bd5b-f64e60c3884c"
   },
   "outputs": [
    {
     "name": "stderr",
     "output_type": "stream",
     "text": [
      "Counting word occurrences\n",
      "0% [##############################] 100% | ETA: 00:00:00\n",
      "Total time elapsed: 00:00:02\n"
     ]
    }
   ],
   "source": [
    "counts = Counter()\n",
    "# setup prograss tracker\n",
    "pbar = pyprind.ProgBar(len(df_cap['caption']), title='Counting word occurrences')\n",
    "for i, cap in enumerate(df_cap['caption']):\n",
    "    # replace punctuations with space\n",
    "    # convert words to lower case \n",
    "    text = ''.join([c if c not in punctuation else ' ' for c in cap]).lower()\n",
    "    df_cap.loc[i,'caption'] = text\n",
    "    pbar.update()\n",
    "    counts.update(text.split())"
   ]
  },
  {
   "cell_type": "code",
   "execution_count": 8,
   "metadata": {
    "colab": {
     "base_uri": "https://localhost:8080/",
     "height": 34
    },
    "colab_type": "code",
    "executionInfo": {
     "elapsed": 60732,
     "status": "ok",
     "timestamp": 1587595175296,
     "user": {
      "displayName": "Kirthy Francis",
      "photoUrl": "https://lh3.googleusercontent.com/a-/AOh14GijNK7FM2xrZUykCoHIPFo4MIEzIh7vdAuLb-2L=s64",
      "userId": "00800941396627043895"
     },
     "user_tz": -60
    },
    "id": "UD3PVqA5CrGA",
    "outputId": "f58b8e2a-adb8-43f2-ae3e-b90eff5d1981"
   },
   "outputs": [
    {
     "name": "stdout",
     "output_type": "stream",
     "text": [
      "5191\n"
     ]
    }
   ],
   "source": [
    "# build the word index\n",
    "len_token = len(counts)\n",
    "tokenizer = Tokenizer(num_words=len_token)\n",
    "print(len_token)"
   ]
  },
  {
   "cell_type": "code",
   "execution_count": 9,
   "metadata": {
    "colab": {},
    "colab_type": "code",
    "id": "fvk003hoCtQ0"
   },
   "outputs": [],
   "source": [
    "tokenizer.fit_on_texts(list(df_cap.caption.values)) #fit a list of captions to the tokenizer\n",
    "#the tokenizer vectorizes a text corpus, by turning each text into either a sequence of integers"
   ]
  },
  {
   "cell_type": "code",
   "execution_count": 10,
   "metadata": {
    "colab": {},
    "colab_type": "code",
    "id": "ZfYMEJezCu4a"
   },
   "outputs": [],
   "source": [
    "one_hot_res = tokenizer.texts_to_matrix(list(df_cap.caption.values),mode='binary')\n",
    "sequences = tokenizer.texts_to_sequences(list(df_cap.caption.values))"
   ]
  },
  {
   "cell_type": "code",
   "execution_count": 11,
   "metadata": {
    "colab": {},
    "colab_type": "code",
    "id": "9ReGxw25CxJS"
   },
   "outputs": [],
   "source": [
    "# calculating max length\n",
    "max_len = 50"
   ]
  },
  {
   "cell_type": "code",
   "execution_count": 12,
   "metadata": {
    "colab": {
     "base_uri": "https://localhost:8080/",
     "height": 34
    },
    "colab_type": "code",
    "executionInfo": {
     "elapsed": 61121,
     "status": "ok",
     "timestamp": 1587595175730,
     "user": {
      "displayName": "Kirthy Francis",
      "photoUrl": "https://lh3.googleusercontent.com/a-/AOh14GijNK7FM2xrZUykCoHIPFo4MIEzIh7vdAuLb-2L=s64",
      "userId": "00800941396627043895"
     },
     "user_tz": -60
    },
    "id": "qQXQAIaPCzEH",
    "outputId": "5622a437-1611-4ed5-a254-ad305556e2e8"
   },
   "outputs": [
    {
     "data": {
      "text/plain": [
       "(6000, 50)"
      ]
     },
     "execution_count": 12,
     "metadata": {},
     "output_type": "execute_result"
    }
   ],
   "source": [
    "X_seq = np.zeros((len(sequences),max_len))  #creating sequences of tokenized captions (6000 rows of 50 columns, padded with zeros when cpations are not of length 50)\n",
    "for i in range(len(sequences)):\n",
    "    n = len(sequences[i])\n",
    "    if n==0:\n",
    "        print(i)\n",
    "    else:\n",
    "        X_seq[i,-n:] = sequences[i]\n",
    "X_seq.shape"
   ]
  },
  {
   "cell_type": "code",
   "execution_count": 13,
   "metadata": {
    "colab": {},
    "colab_type": "code",
    "id": "EPjpgeDBC0vR"
   },
   "outputs": [],
   "source": [
    "df_seq = pd.DataFrame(X_seq)    #create dataframe with the sequences\n",
    "df_seq = pd.concat([df_cap, df_seq], axis = 1)   #merging sequnces dataframe and the captions dataframe to I can line up video name to each sequence\n",
    "df_seq = df_seq.drop(\"caption\", axis=1)  #removing column with word version of caption so we have a dataframe where the integer sequences are algined with the primary key (video names)"
   ]
  },
  {
   "cell_type": "code",
   "execution_count": 14,
   "metadata": {
    "colab": {
     "base_uri": "https://localhost:8080/",
     "height": 252
    },
    "colab_type": "code",
    "executionInfo": {
     "elapsed": 61296,
     "status": "ok",
     "timestamp": 1587595175939,
     "user": {
      "displayName": "Kirthy Francis",
      "photoUrl": "https://lh3.googleusercontent.com/a-/AOh14GijNK7FM2xrZUykCoHIPFo4MIEzIh7vdAuLb-2L=s64",
      "userId": "00800941396627043895"
     },
     "user_tz": -60
    },
    "id": "2dKRWT1LC2pH",
    "outputId": "2f0af892-9dc9-4d33-a0a4-3bb08b0bc97b"
   },
   "outputs": [
    {
     "data": {
      "text/html": [
       "<div>\n",
       "<style scoped>\n",
       "    .dataframe tbody tr th:only-of-type {\n",
       "        vertical-align: middle;\n",
       "    }\n",
       "\n",
       "    .dataframe tbody tr th {\n",
       "        vertical-align: top;\n",
       "    }\n",
       "\n",
       "    .dataframe thead th {\n",
       "        text-align: right;\n",
       "    }\n",
       "</style>\n",
       "<table border=\"1\" class=\"dataframe\">\n",
       "  <thead>\n",
       "    <tr style=\"text-align: right;\">\n",
       "      <th></th>\n",
       "      <th>video</th>\n",
       "      <th>0</th>\n",
       "      <th>1</th>\n",
       "      <th>2</th>\n",
       "      <th>3</th>\n",
       "      <th>4</th>\n",
       "      <th>5</th>\n",
       "      <th>6</th>\n",
       "      <th>7</th>\n",
       "      <th>8</th>\n",
       "      <th>...</th>\n",
       "      <th>40</th>\n",
       "      <th>41</th>\n",
       "      <th>42</th>\n",
       "      <th>43</th>\n",
       "      <th>44</th>\n",
       "      <th>45</th>\n",
       "      <th>46</th>\n",
       "      <th>47</th>\n",
       "      <th>48</th>\n",
       "      <th>49</th>\n",
       "    </tr>\n",
       "  </thead>\n",
       "  <tbody>\n",
       "    <tr>\n",
       "      <th>0</th>\n",
       "      <td>video3.webm</td>\n",
       "      <td>0.0</td>\n",
       "      <td>0.0</td>\n",
       "      <td>0.0</td>\n",
       "      <td>0.0</td>\n",
       "      <td>0.0</td>\n",
       "      <td>0.0</td>\n",
       "      <td>0.0</td>\n",
       "      <td>0.0</td>\n",
       "      <td>0.0</td>\n",
       "      <td>...</td>\n",
       "      <td>0.0</td>\n",
       "      <td>0.0</td>\n",
       "      <td>0.0</td>\n",
       "      <td>0.0</td>\n",
       "      <td>724.0</td>\n",
       "      <td>7.0</td>\n",
       "      <td>35.0</td>\n",
       "      <td>884.0</td>\n",
       "      <td>384.0</td>\n",
       "      <td>91.0</td>\n",
       "    </tr>\n",
       "    <tr>\n",
       "      <th>1</th>\n",
       "      <td>video4.webm</td>\n",
       "      <td>0.0</td>\n",
       "      <td>0.0</td>\n",
       "      <td>0.0</td>\n",
       "      <td>0.0</td>\n",
       "      <td>0.0</td>\n",
       "      <td>0.0</td>\n",
       "      <td>0.0</td>\n",
       "      <td>0.0</td>\n",
       "      <td>0.0</td>\n",
       "      <td>...</td>\n",
       "      <td>0.0</td>\n",
       "      <td>0.0</td>\n",
       "      <td>2272.0</td>\n",
       "      <td>85.0</td>\n",
       "      <td>259.0</td>\n",
       "      <td>6.0</td>\n",
       "      <td>213.0</td>\n",
       "      <td>1.0</td>\n",
       "      <td>89.0</td>\n",
       "      <td>27.0</td>\n",
       "    </tr>\n",
       "    <tr>\n",
       "      <th>2</th>\n",
       "      <td>video6.webm</td>\n",
       "      <td>0.0</td>\n",
       "      <td>0.0</td>\n",
       "      <td>0.0</td>\n",
       "      <td>0.0</td>\n",
       "      <td>0.0</td>\n",
       "      <td>0.0</td>\n",
       "      <td>0.0</td>\n",
       "      <td>0.0</td>\n",
       "      <td>0.0</td>\n",
       "      <td>...</td>\n",
       "      <td>0.0</td>\n",
       "      <td>0.0</td>\n",
       "      <td>0.0</td>\n",
       "      <td>0.0</td>\n",
       "      <td>0.0</td>\n",
       "      <td>0.0</td>\n",
       "      <td>0.0</td>\n",
       "      <td>0.0</td>\n",
       "      <td>131.0</td>\n",
       "      <td>312.0</td>\n",
       "    </tr>\n",
       "    <tr>\n",
       "      <th>3</th>\n",
       "      <td>video8.webm</td>\n",
       "      <td>0.0</td>\n",
       "      <td>0.0</td>\n",
       "      <td>0.0</td>\n",
       "      <td>0.0</td>\n",
       "      <td>0.0</td>\n",
       "      <td>0.0</td>\n",
       "      <td>0.0</td>\n",
       "      <td>0.0</td>\n",
       "      <td>0.0</td>\n",
       "      <td>...</td>\n",
       "      <td>0.0</td>\n",
       "      <td>0.0</td>\n",
       "      <td>0.0</td>\n",
       "      <td>0.0</td>\n",
       "      <td>0.0</td>\n",
       "      <td>725.0</td>\n",
       "      <td>993.0</td>\n",
       "      <td>3098.0</td>\n",
       "      <td>9.0</td>\n",
       "      <td>165.0</td>\n",
       "    </tr>\n",
       "    <tr>\n",
       "      <th>4</th>\n",
       "      <td>video10.webm</td>\n",
       "      <td>0.0</td>\n",
       "      <td>0.0</td>\n",
       "      <td>0.0</td>\n",
       "      <td>0.0</td>\n",
       "      <td>0.0</td>\n",
       "      <td>0.0</td>\n",
       "      <td>0.0</td>\n",
       "      <td>0.0</td>\n",
       "      <td>0.0</td>\n",
       "      <td>...</td>\n",
       "      <td>0.0</td>\n",
       "      <td>0.0</td>\n",
       "      <td>0.0</td>\n",
       "      <td>0.0</td>\n",
       "      <td>15.0</td>\n",
       "      <td>118.0</td>\n",
       "      <td>3.0</td>\n",
       "      <td>515.0</td>\n",
       "      <td>356.0</td>\n",
       "      <td>27.0</td>\n",
       "    </tr>\n",
       "  </tbody>\n",
       "</table>\n",
       "<p>5 rows × 51 columns</p>\n",
       "</div>"
      ],
      "text/plain": [
       "          video    0    1    2    3    4    5    6    7    8  ...   40   41  \\\n",
       "0   video3.webm  0.0  0.0  0.0  0.0  0.0  0.0  0.0  0.0  0.0  ...  0.0  0.0   \n",
       "1   video4.webm  0.0  0.0  0.0  0.0  0.0  0.0  0.0  0.0  0.0  ...  0.0  0.0   \n",
       "2   video6.webm  0.0  0.0  0.0  0.0  0.0  0.0  0.0  0.0  0.0  ...  0.0  0.0   \n",
       "3   video8.webm  0.0  0.0  0.0  0.0  0.0  0.0  0.0  0.0  0.0  ...  0.0  0.0   \n",
       "4  video10.webm  0.0  0.0  0.0  0.0  0.0  0.0  0.0  0.0  0.0  ...  0.0  0.0   \n",
       "\n",
       "       42    43     44     45     46      47     48     49  \n",
       "0     0.0   0.0  724.0    7.0   35.0   884.0  384.0   91.0  \n",
       "1  2272.0  85.0  259.0    6.0  213.0     1.0   89.0   27.0  \n",
       "2     0.0   0.0    0.0    0.0    0.0     0.0  131.0  312.0  \n",
       "3     0.0   0.0    0.0  725.0  993.0  3098.0    9.0  165.0  \n",
       "4     0.0   0.0   15.0  118.0    3.0   515.0  356.0   27.0  \n",
       "\n",
       "[5 rows x 51 columns]"
      ]
     },
     "execution_count": 14,
     "metadata": {},
     "output_type": "execute_result"
    }
   ],
   "source": [
    "df_seq.head()  #final dataframe for captions"
   ]
  },
  {
   "cell_type": "markdown",
   "metadata": {},
   "source": [
    "### 2. HMP features"
   ]
  },
  {
   "cell_type": "code",
   "execution_count": 15,
   "metadata": {
    "colab": {},
    "colab_type": "code",
    "id": "_evSV-dGC4kK"
   },
   "outputs": [],
   "source": [
    "def read_HMP(fname):\n",
    "    \"\"\"Scan HMP(Histogram of Motion Patterns) features from file\"\"\"\n",
    "    with open(fname) as f:\n",
    "        for line in f:\n",
    "            pairs=line.split()\n",
    "            HMP_temp = { int(p.split(':')[0]) : float(p.split(':')[1]) for p in pairs}\n",
    "    # there are 6075 bins, fill zeros\n",
    "    HMP = np.zeros(6075)\n",
    "    for idx in HMP_temp.keys():\n",
    "        HMP[idx-1] = HMP_temp[idx]            \n",
    "    return HMP"
   ]
  },
  {
   "cell_type": "code",
   "execution_count": 16,
   "metadata": {},
   "outputs": [],
   "source": [
    "vid = labels.video.values  #pull in video labels first\n",
    "\n",
    "hmp_features = pd.DataFrame({'video': vid,\n",
    "                   'HMP': [read_HMP('D:/MCM_Second_Sem/Machine Learning/CA684_Assignment/Dev-set/HMP/'+os.path.splitext(item)[0]+'.txt') for item in vid],\n",
    "                       })"
   ]
  },
  {
   "cell_type": "code",
   "execution_count": 17,
   "metadata": {},
   "outputs": [
    {
     "data": {
      "text/html": [
       "<div>\n",
       "<style scoped>\n",
       "    .dataframe tbody tr th:only-of-type {\n",
       "        vertical-align: middle;\n",
       "    }\n",
       "\n",
       "    .dataframe tbody tr th {\n",
       "        vertical-align: top;\n",
       "    }\n",
       "\n",
       "    .dataframe thead th {\n",
       "        text-align: right;\n",
       "    }\n",
       "</style>\n",
       "<table border=\"1\" class=\"dataframe\">\n",
       "  <thead>\n",
       "    <tr style=\"text-align: right;\">\n",
       "      <th></th>\n",
       "      <th>video</th>\n",
       "      <th>HMP</th>\n",
       "    </tr>\n",
       "  </thead>\n",
       "  <tbody>\n",
       "    <tr>\n",
       "      <th>0</th>\n",
       "      <td>video3.webm</td>\n",
       "      <td>[0.125563, 0.024036, 0.000314, 0.0, 0.015864, ...</td>\n",
       "    </tr>\n",
       "    <tr>\n",
       "      <th>1</th>\n",
       "      <td>video4.webm</td>\n",
       "      <td>[0.007526, 0.001421, 6.8e-05, 0.0, 0.001184, 0...</td>\n",
       "    </tr>\n",
       "    <tr>\n",
       "      <th>2</th>\n",
       "      <td>video6.webm</td>\n",
       "      <td>[0.109584, 0.018978, 0.000289, 0.0, 0.008774, ...</td>\n",
       "    </tr>\n",
       "    <tr>\n",
       "      <th>3</th>\n",
       "      <td>video8.webm</td>\n",
       "      <td>[0.120431, 0.013561, 0.000277, 0.0, 0.018974, ...</td>\n",
       "    </tr>\n",
       "    <tr>\n",
       "      <th>4</th>\n",
       "      <td>video10.webm</td>\n",
       "      <td>[0.005026, 0.001356, 5.5e-05, 0.0, 0.000665, 2...</td>\n",
       "    </tr>\n",
       "  </tbody>\n",
       "</table>\n",
       "</div>"
      ],
      "text/plain": [
       "          video                                                HMP\n",
       "0   video3.webm  [0.125563, 0.024036, 0.000314, 0.0, 0.015864, ...\n",
       "1   video4.webm  [0.007526, 0.001421, 6.8e-05, 0.0, 0.001184, 0...\n",
       "2   video6.webm  [0.109584, 0.018978, 0.000289, 0.0, 0.008774, ...\n",
       "3   video8.webm  [0.120431, 0.013561, 0.000277, 0.0, 0.018974, ...\n",
       "4  video10.webm  [0.005026, 0.001356, 5.5e-05, 0.0, 0.000665, 2..."
      ]
     },
     "execution_count": 17,
     "metadata": {},
     "output_type": "execute_result"
    }
   ],
   "source": [
    "hmp_features.head()"
   ]
  },
  {
   "cell_type": "code",
   "execution_count": 18,
   "metadata": {},
   "outputs": [],
   "source": [
    "feat1 = pd.DataFrame(hmp_features.HMP.apply(pd.Series))  #split out hmp column into individual rows\n",
    "feat2 = pd.concat([hmp_features, feat1], axis = 1)  #merges feat1 and hmp_features (splits out into columns)\n",
    "feat2 = feat2.drop(\"HMP\", axis=1) "
   ]
  },
  {
   "cell_type": "code",
   "execution_count": 19,
   "metadata": {},
   "outputs": [
    {
     "data": {
      "text/html": [
       "<div>\n",
       "<style scoped>\n",
       "    .dataframe tbody tr th:only-of-type {\n",
       "        vertical-align: middle;\n",
       "    }\n",
       "\n",
       "    .dataframe tbody tr th {\n",
       "        vertical-align: top;\n",
       "    }\n",
       "\n",
       "    .dataframe thead th {\n",
       "        text-align: right;\n",
       "    }\n",
       "</style>\n",
       "<table border=\"1\" class=\"dataframe\">\n",
       "  <thead>\n",
       "    <tr style=\"text-align: right;\">\n",
       "      <th></th>\n",
       "      <th>video</th>\n",
       "      <th>0</th>\n",
       "      <th>1</th>\n",
       "      <th>2</th>\n",
       "      <th>3</th>\n",
       "      <th>4</th>\n",
       "      <th>5</th>\n",
       "      <th>6</th>\n",
       "      <th>7</th>\n",
       "      <th>8</th>\n",
       "      <th>...</th>\n",
       "      <th>6065</th>\n",
       "      <th>6066</th>\n",
       "      <th>6067</th>\n",
       "      <th>6068</th>\n",
       "      <th>6069</th>\n",
       "      <th>6070</th>\n",
       "      <th>6071</th>\n",
       "      <th>6072</th>\n",
       "      <th>6073</th>\n",
       "      <th>6074</th>\n",
       "    </tr>\n",
       "  </thead>\n",
       "  <tbody>\n",
       "    <tr>\n",
       "      <th>0</th>\n",
       "      <td>video3.webm</td>\n",
       "      <td>0.125563</td>\n",
       "      <td>0.024036</td>\n",
       "      <td>0.000314</td>\n",
       "      <td>0.0</td>\n",
       "      <td>0.015864</td>\n",
       "      <td>0.000358</td>\n",
       "      <td>0.0</td>\n",
       "      <td>0.000000</td>\n",
       "      <td>0.000086</td>\n",
       "      <td>...</td>\n",
       "      <td>0.000000</td>\n",
       "      <td>0.000393</td>\n",
       "      <td>0.000279</td>\n",
       "      <td>0.000000</td>\n",
       "      <td>0.000289</td>\n",
       "      <td>0.001926</td>\n",
       "      <td>0.000000</td>\n",
       "      <td>0.000086</td>\n",
       "      <td>0.000580</td>\n",
       "      <td>0.000000</td>\n",
       "    </tr>\n",
       "    <tr>\n",
       "      <th>1</th>\n",
       "      <td>video4.webm</td>\n",
       "      <td>0.007526</td>\n",
       "      <td>0.001421</td>\n",
       "      <td>0.000068</td>\n",
       "      <td>0.0</td>\n",
       "      <td>0.001184</td>\n",
       "      <td>0.000143</td>\n",
       "      <td>0.0</td>\n",
       "      <td>0.000000</td>\n",
       "      <td>0.000079</td>\n",
       "      <td>...</td>\n",
       "      <td>0.000053</td>\n",
       "      <td>0.000244</td>\n",
       "      <td>0.000066</td>\n",
       "      <td>0.000000</td>\n",
       "      <td>0.000081</td>\n",
       "      <td>0.000617</td>\n",
       "      <td>0.000094</td>\n",
       "      <td>0.000220</td>\n",
       "      <td>0.000762</td>\n",
       "      <td>0.001224</td>\n",
       "    </tr>\n",
       "    <tr>\n",
       "      <th>2</th>\n",
       "      <td>video6.webm</td>\n",
       "      <td>0.109584</td>\n",
       "      <td>0.018978</td>\n",
       "      <td>0.000289</td>\n",
       "      <td>0.0</td>\n",
       "      <td>0.008774</td>\n",
       "      <td>0.000208</td>\n",
       "      <td>0.0</td>\n",
       "      <td>0.000002</td>\n",
       "      <td>0.000088</td>\n",
       "      <td>...</td>\n",
       "      <td>0.000007</td>\n",
       "      <td>0.000054</td>\n",
       "      <td>0.000045</td>\n",
       "      <td>0.000000</td>\n",
       "      <td>0.000028</td>\n",
       "      <td>0.000291</td>\n",
       "      <td>0.000033</td>\n",
       "      <td>0.000052</td>\n",
       "      <td>0.000258</td>\n",
       "      <td>0.000215</td>\n",
       "    </tr>\n",
       "    <tr>\n",
       "      <th>3</th>\n",
       "      <td>video8.webm</td>\n",
       "      <td>0.120431</td>\n",
       "      <td>0.013561</td>\n",
       "      <td>0.000277</td>\n",
       "      <td>0.0</td>\n",
       "      <td>0.018974</td>\n",
       "      <td>0.000913</td>\n",
       "      <td>0.0</td>\n",
       "      <td>0.000024</td>\n",
       "      <td>0.000713</td>\n",
       "      <td>...</td>\n",
       "      <td>0.000059</td>\n",
       "      <td>0.001110</td>\n",
       "      <td>0.000075</td>\n",
       "      <td>0.000008</td>\n",
       "      <td>0.000333</td>\n",
       "      <td>0.000793</td>\n",
       "      <td>0.000101</td>\n",
       "      <td>0.000588</td>\n",
       "      <td>0.000503</td>\n",
       "      <td>0.000452</td>\n",
       "    </tr>\n",
       "    <tr>\n",
       "      <th>4</th>\n",
       "      <td>video10.webm</td>\n",
       "      <td>0.005026</td>\n",
       "      <td>0.001356</td>\n",
       "      <td>0.000055</td>\n",
       "      <td>0.0</td>\n",
       "      <td>0.000665</td>\n",
       "      <td>0.000029</td>\n",
       "      <td>0.0</td>\n",
       "      <td>0.000000</td>\n",
       "      <td>0.000024</td>\n",
       "      <td>...</td>\n",
       "      <td>0.000009</td>\n",
       "      <td>0.000882</td>\n",
       "      <td>0.000200</td>\n",
       "      <td>0.000009</td>\n",
       "      <td>0.000559</td>\n",
       "      <td>0.001097</td>\n",
       "      <td>0.000018</td>\n",
       "      <td>0.000632</td>\n",
       "      <td>0.001128</td>\n",
       "      <td>0.000064</td>\n",
       "    </tr>\n",
       "  </tbody>\n",
       "</table>\n",
       "<p>5 rows × 6076 columns</p>\n",
       "</div>"
      ],
      "text/plain": [
       "          video         0         1         2    3         4         5    6  \\\n",
       "0   video3.webm  0.125563  0.024036  0.000314  0.0  0.015864  0.000358  0.0   \n",
       "1   video4.webm  0.007526  0.001421  0.000068  0.0  0.001184  0.000143  0.0   \n",
       "2   video6.webm  0.109584  0.018978  0.000289  0.0  0.008774  0.000208  0.0   \n",
       "3   video8.webm  0.120431  0.013561  0.000277  0.0  0.018974  0.000913  0.0   \n",
       "4  video10.webm  0.005026  0.001356  0.000055  0.0  0.000665  0.000029  0.0   \n",
       "\n",
       "          7         8  ...      6065      6066      6067      6068      6069  \\\n",
       "0  0.000000  0.000086  ...  0.000000  0.000393  0.000279  0.000000  0.000289   \n",
       "1  0.000000  0.000079  ...  0.000053  0.000244  0.000066  0.000000  0.000081   \n",
       "2  0.000002  0.000088  ...  0.000007  0.000054  0.000045  0.000000  0.000028   \n",
       "3  0.000024  0.000713  ...  0.000059  0.001110  0.000075  0.000008  0.000333   \n",
       "4  0.000000  0.000024  ...  0.000009  0.000882  0.000200  0.000009  0.000559   \n",
       "\n",
       "       6070      6071      6072      6073      6074  \n",
       "0  0.001926  0.000000  0.000086  0.000580  0.000000  \n",
       "1  0.000617  0.000094  0.000220  0.000762  0.001224  \n",
       "2  0.000291  0.000033  0.000052  0.000258  0.000215  \n",
       "3  0.000793  0.000101  0.000588  0.000503  0.000452  \n",
       "4  0.001097  0.000018  0.000632  0.001128  0.000064  \n",
       "\n",
       "[5 rows x 6076 columns]"
      ]
     },
     "execution_count": 19,
     "metadata": {},
     "output_type": "execute_result"
    }
   ],
   "source": [
    "feat2.head()"
   ]
  },
  {
   "cell_type": "markdown",
   "metadata": {},
   "source": [
    "### 3. C3D Features"
   ]
  },
  {
   "cell_type": "code",
   "execution_count": 20,
   "metadata": {
    "colab": {},
    "colab_type": "code",
    "id": "lBvMi5D2DSTu"
   },
   "outputs": [],
   "source": [
    "def read_C3D(fname):   #function to read c3d vectors into dataframe\n",
    "    with open(fname) as f:\n",
    "        for line in f:\n",
    "            C3D =[float(item) for item in line.split()] # convert to float type, using default separator\n",
    "    return C3D\n",
    "\n",
    "def vname2ID(vnames):  #function to read video name and format correclty for dataframe, which will be used as primary key to merge sequences dataframe and c3d dataframe\n",
    "    vid = [ os.path.splitext(vn)[0]+'.webm' for vn in vnames]\n",
    "    return vid"
   ]
  },
  {
   "cell_type": "code",
   "execution_count": 21,
   "metadata": {
    "colab": {},
    "colab_type": "code",
    "id": "x1t-MUaXDWAe"
   },
   "outputs": [],
   "source": [
    "# Load testing data - this should load in test set of videos (again this can take around 10 mins to run)\n",
    "\n",
    "vid = labels.video.values  #pull in video labels first\n",
    "\n",
    "c3d_features = pd.DataFrame({'video': vid,\n",
    "                   'C3D': [read_C3D('D:/MCM_Second_Sem/Machine Learning/CA684_Assignment/Dev-set/C3D/'+os.path.splitext(item)[0]+'.txt') for item in vid],\n",
    "                       })"
   ]
  },
  {
   "cell_type": "code",
   "execution_count": 22,
   "metadata": {},
   "outputs": [
    {
     "data": {
      "text/html": [
       "<div>\n",
       "<style scoped>\n",
       "    .dataframe tbody tr th:only-of-type {\n",
       "        vertical-align: middle;\n",
       "    }\n",
       "\n",
       "    .dataframe tbody tr th {\n",
       "        vertical-align: top;\n",
       "    }\n",
       "\n",
       "    .dataframe thead th {\n",
       "        text-align: right;\n",
       "    }\n",
       "</style>\n",
       "<table border=\"1\" class=\"dataframe\">\n",
       "  <thead>\n",
       "    <tr style=\"text-align: right;\">\n",
       "      <th></th>\n",
       "      <th>video</th>\n",
       "      <th>C3D</th>\n",
       "    </tr>\n",
       "  </thead>\n",
       "  <tbody>\n",
       "    <tr>\n",
       "      <th>0</th>\n",
       "      <td>video3.webm</td>\n",
       "      <td>[0.02024942, 0.0015778, 0.00082625, 0.00094509...</td>\n",
       "    </tr>\n",
       "    <tr>\n",
       "      <th>1</th>\n",
       "      <td>video4.webm</td>\n",
       "      <td>[0.000118, 0.00089075, 0.00018769, 4.543e-05, ...</td>\n",
       "    </tr>\n",
       "    <tr>\n",
       "      <th>2</th>\n",
       "      <td>video6.webm</td>\n",
       "      <td>[0.01176522, 0.00074577, 0.00078353, 1.328e-05...</td>\n",
       "    </tr>\n",
       "    <tr>\n",
       "      <th>3</th>\n",
       "      <td>video8.webm</td>\n",
       "      <td>[0.00022343, 0.00016499, 7.35e-06, 1.615e-05, ...</td>\n",
       "    </tr>\n",
       "    <tr>\n",
       "      <th>4</th>\n",
       "      <td>video10.webm</td>\n",
       "      <td>[9.006e-05, 0.00061494, 0.00343634, 0.00128092...</td>\n",
       "    </tr>\n",
       "  </tbody>\n",
       "</table>\n",
       "</div>"
      ],
      "text/plain": [
       "          video                                                C3D\n",
       "0   video3.webm  [0.02024942, 0.0015778, 0.00082625, 0.00094509...\n",
       "1   video4.webm  [0.000118, 0.00089075, 0.00018769, 4.543e-05, ...\n",
       "2   video6.webm  [0.01176522, 0.00074577, 0.00078353, 1.328e-05...\n",
       "3   video8.webm  [0.00022343, 0.00016499, 7.35e-06, 1.615e-05, ...\n",
       "4  video10.webm  [9.006e-05, 0.00061494, 0.00343634, 0.00128092..."
      ]
     },
     "execution_count": 22,
     "metadata": {},
     "output_type": "execute_result"
    }
   ],
   "source": [
    "c3d_features.head()"
   ]
  },
  {
   "cell_type": "code",
   "execution_count": 23,
   "metadata": {},
   "outputs": [],
   "source": [
    "features1 = pd.DataFrame(c3d_features.C3D.apply(pd.Series))  #split out c3d column into individual rows\n",
    "features2 = pd.concat([c3d_features, features1], axis = 1)  #merges c3d_features and features1 (splits out into columns)\n",
    "features2 = features2.drop(\"C3D\", axis=1) "
   ]
  },
  {
   "cell_type": "code",
   "execution_count": 24,
   "metadata": {},
   "outputs": [
    {
     "data": {
      "text/html": [
       "<div>\n",
       "<style scoped>\n",
       "    .dataframe tbody tr th:only-of-type {\n",
       "        vertical-align: middle;\n",
       "    }\n",
       "\n",
       "    .dataframe tbody tr th {\n",
       "        vertical-align: top;\n",
       "    }\n",
       "\n",
       "    .dataframe thead th {\n",
       "        text-align: right;\n",
       "    }\n",
       "</style>\n",
       "<table border=\"1\" class=\"dataframe\">\n",
       "  <thead>\n",
       "    <tr style=\"text-align: right;\">\n",
       "      <th></th>\n",
       "      <th>video</th>\n",
       "      <th>0</th>\n",
       "      <th>1</th>\n",
       "      <th>2</th>\n",
       "      <th>3</th>\n",
       "      <th>4</th>\n",
       "      <th>5</th>\n",
       "      <th>6</th>\n",
       "      <th>7</th>\n",
       "      <th>8</th>\n",
       "      <th>...</th>\n",
       "      <th>91</th>\n",
       "      <th>92</th>\n",
       "      <th>93</th>\n",
       "      <th>94</th>\n",
       "      <th>95</th>\n",
       "      <th>96</th>\n",
       "      <th>97</th>\n",
       "      <th>98</th>\n",
       "      <th>99</th>\n",
       "      <th>100</th>\n",
       "    </tr>\n",
       "  </thead>\n",
       "  <tbody>\n",
       "    <tr>\n",
       "      <th>0</th>\n",
       "      <td>video3.webm</td>\n",
       "      <td>0.020249</td>\n",
       "      <td>0.001578</td>\n",
       "      <td>0.000826</td>\n",
       "      <td>0.000945</td>\n",
       "      <td>0.000063</td>\n",
       "      <td>0.000003</td>\n",
       "      <td>0.001162</td>\n",
       "      <td>0.000097</td>\n",
       "      <td>0.000022</td>\n",
       "      <td>...</td>\n",
       "      <td>0.001042</td>\n",
       "      <td>0.000161</td>\n",
       "      <td>0.000257</td>\n",
       "      <td>0.046617</td>\n",
       "      <td>0.000156</td>\n",
       "      <td>0.000006</td>\n",
       "      <td>0.000537</td>\n",
       "      <td>0.000339</td>\n",
       "      <td>0.008437</td>\n",
       "      <td>0.000470</td>\n",
       "    </tr>\n",
       "    <tr>\n",
       "      <th>1</th>\n",
       "      <td>video4.webm</td>\n",
       "      <td>0.000118</td>\n",
       "      <td>0.000891</td>\n",
       "      <td>0.000188</td>\n",
       "      <td>0.000045</td>\n",
       "      <td>0.000063</td>\n",
       "      <td>0.000002</td>\n",
       "      <td>0.000641</td>\n",
       "      <td>0.000011</td>\n",
       "      <td>0.000017</td>\n",
       "      <td>...</td>\n",
       "      <td>0.000582</td>\n",
       "      <td>0.000393</td>\n",
       "      <td>0.000864</td>\n",
       "      <td>0.000947</td>\n",
       "      <td>0.000136</td>\n",
       "      <td>0.000007</td>\n",
       "      <td>0.000360</td>\n",
       "      <td>0.000159</td>\n",
       "      <td>0.001025</td>\n",
       "      <td>0.000020</td>\n",
       "    </tr>\n",
       "    <tr>\n",
       "      <th>2</th>\n",
       "      <td>video6.webm</td>\n",
       "      <td>0.011765</td>\n",
       "      <td>0.000746</td>\n",
       "      <td>0.000784</td>\n",
       "      <td>0.000013</td>\n",
       "      <td>0.000007</td>\n",
       "      <td>0.000028</td>\n",
       "      <td>0.000041</td>\n",
       "      <td>0.000014</td>\n",
       "      <td>0.000041</td>\n",
       "      <td>...</td>\n",
       "      <td>0.000224</td>\n",
       "      <td>0.000003</td>\n",
       "      <td>0.000031</td>\n",
       "      <td>0.002538</td>\n",
       "      <td>0.000104</td>\n",
       "      <td>0.000005</td>\n",
       "      <td>0.000064</td>\n",
       "      <td>0.005380</td>\n",
       "      <td>0.001027</td>\n",
       "      <td>0.001384</td>\n",
       "    </tr>\n",
       "    <tr>\n",
       "      <th>3</th>\n",
       "      <td>video8.webm</td>\n",
       "      <td>0.000223</td>\n",
       "      <td>0.000165</td>\n",
       "      <td>0.000007</td>\n",
       "      <td>0.000016</td>\n",
       "      <td>0.000005</td>\n",
       "      <td>0.000014</td>\n",
       "      <td>0.000154</td>\n",
       "      <td>0.000008</td>\n",
       "      <td>0.000004</td>\n",
       "      <td>...</td>\n",
       "      <td>0.000046</td>\n",
       "      <td>0.000009</td>\n",
       "      <td>0.000023</td>\n",
       "      <td>0.000053</td>\n",
       "      <td>0.000048</td>\n",
       "      <td>0.000019</td>\n",
       "      <td>0.000001</td>\n",
       "      <td>0.000004</td>\n",
       "      <td>0.000380</td>\n",
       "      <td>0.000029</td>\n",
       "    </tr>\n",
       "    <tr>\n",
       "      <th>4</th>\n",
       "      <td>video10.webm</td>\n",
       "      <td>0.000090</td>\n",
       "      <td>0.000615</td>\n",
       "      <td>0.003436</td>\n",
       "      <td>0.001281</td>\n",
       "      <td>0.003551</td>\n",
       "      <td>0.000313</td>\n",
       "      <td>0.000042</td>\n",
       "      <td>0.000018</td>\n",
       "      <td>0.000157</td>\n",
       "      <td>...</td>\n",
       "      <td>0.000037</td>\n",
       "      <td>0.000690</td>\n",
       "      <td>0.000171</td>\n",
       "      <td>0.000231</td>\n",
       "      <td>0.000637</td>\n",
       "      <td>0.000040</td>\n",
       "      <td>0.000061</td>\n",
       "      <td>0.000075</td>\n",
       "      <td>0.000002</td>\n",
       "      <td>0.001323</td>\n",
       "    </tr>\n",
       "  </tbody>\n",
       "</table>\n",
       "<p>5 rows × 102 columns</p>\n",
       "</div>"
      ],
      "text/plain": [
       "          video         0         1         2         3         4         5  \\\n",
       "0   video3.webm  0.020249  0.001578  0.000826  0.000945  0.000063  0.000003   \n",
       "1   video4.webm  0.000118  0.000891  0.000188  0.000045  0.000063  0.000002   \n",
       "2   video6.webm  0.011765  0.000746  0.000784  0.000013  0.000007  0.000028   \n",
       "3   video8.webm  0.000223  0.000165  0.000007  0.000016  0.000005  0.000014   \n",
       "4  video10.webm  0.000090  0.000615  0.003436  0.001281  0.003551  0.000313   \n",
       "\n",
       "          6         7         8  ...        91        92        93        94  \\\n",
       "0  0.001162  0.000097  0.000022  ...  0.001042  0.000161  0.000257  0.046617   \n",
       "1  0.000641  0.000011  0.000017  ...  0.000582  0.000393  0.000864  0.000947   \n",
       "2  0.000041  0.000014  0.000041  ...  0.000224  0.000003  0.000031  0.002538   \n",
       "3  0.000154  0.000008  0.000004  ...  0.000046  0.000009  0.000023  0.000053   \n",
       "4  0.000042  0.000018  0.000157  ...  0.000037  0.000690  0.000171  0.000231   \n",
       "\n",
       "         95        96        97        98        99       100  \n",
       "0  0.000156  0.000006  0.000537  0.000339  0.008437  0.000470  \n",
       "1  0.000136  0.000007  0.000360  0.000159  0.001025  0.000020  \n",
       "2  0.000104  0.000005  0.000064  0.005380  0.001027  0.001384  \n",
       "3  0.000048  0.000019  0.000001  0.000004  0.000380  0.000029  \n",
       "4  0.000637  0.000040  0.000061  0.000075  0.000002  0.001323  \n",
       "\n",
       "[5 rows x 102 columns]"
      ]
     },
     "execution_count": 24,
     "metadata": {},
     "output_type": "execute_result"
    }
   ],
   "source": [
    "features2.head()"
   ]
  },
  {
   "cell_type": "markdown",
   "metadata": {},
   "source": [
    "#### Merge Features"
   ]
  },
  {
   "cell_type": "code",
   "execution_count": 25,
   "metadata": {},
   "outputs": [],
   "source": [
    "df_x2 = pd.merge(df_seq, features2, on='video') #captions + C3D"
   ]
  },
  {
   "cell_type": "code",
   "execution_count": 26,
   "metadata": {},
   "outputs": [],
   "source": [
    "data_frames = [df_seq, features2, feat2]\n",
    "df_merged = reduce(lambda  left,right: pd.merge(left,right,on=['video'],\n",
    "                                            how='outer'), data_frames)"
   ]
  },
  {
   "cell_type": "code",
   "execution_count": 27,
   "metadata": {
    "scrolled": true
   },
   "outputs": [
    {
     "data": {
      "text/html": [
       "<div>\n",
       "<style scoped>\n",
       "    .dataframe tbody tr th:only-of-type {\n",
       "        vertical-align: middle;\n",
       "    }\n",
       "\n",
       "    .dataframe tbody tr th {\n",
       "        vertical-align: top;\n",
       "    }\n",
       "\n",
       "    .dataframe thead th {\n",
       "        text-align: right;\n",
       "    }\n",
       "</style>\n",
       "<table border=\"1\" class=\"dataframe\">\n",
       "  <thead>\n",
       "    <tr style=\"text-align: right;\">\n",
       "      <th></th>\n",
       "      <th>video</th>\n",
       "      <th>0_x</th>\n",
       "      <th>1_x</th>\n",
       "      <th>2_x</th>\n",
       "      <th>3_x</th>\n",
       "      <th>4_x</th>\n",
       "      <th>5_x</th>\n",
       "      <th>6_x</th>\n",
       "      <th>7_x</th>\n",
       "      <th>8_x</th>\n",
       "      <th>...</th>\n",
       "      <th>6065</th>\n",
       "      <th>6066</th>\n",
       "      <th>6067</th>\n",
       "      <th>6068</th>\n",
       "      <th>6069</th>\n",
       "      <th>6070</th>\n",
       "      <th>6071</th>\n",
       "      <th>6072</th>\n",
       "      <th>6073</th>\n",
       "      <th>6074</th>\n",
       "    </tr>\n",
       "  </thead>\n",
       "  <tbody>\n",
       "    <tr>\n",
       "      <th>0</th>\n",
       "      <td>video3.webm</td>\n",
       "      <td>0.0</td>\n",
       "      <td>0.0</td>\n",
       "      <td>0.0</td>\n",
       "      <td>0.0</td>\n",
       "      <td>0.0</td>\n",
       "      <td>0.0</td>\n",
       "      <td>0.0</td>\n",
       "      <td>0.0</td>\n",
       "      <td>0.0</td>\n",
       "      <td>...</td>\n",
       "      <td>0.000000</td>\n",
       "      <td>0.000393</td>\n",
       "      <td>0.000279</td>\n",
       "      <td>0.000000</td>\n",
       "      <td>0.000289</td>\n",
       "      <td>0.001926</td>\n",
       "      <td>0.000000</td>\n",
       "      <td>0.000086</td>\n",
       "      <td>0.000580</td>\n",
       "      <td>0.000000</td>\n",
       "    </tr>\n",
       "    <tr>\n",
       "      <th>1</th>\n",
       "      <td>video4.webm</td>\n",
       "      <td>0.0</td>\n",
       "      <td>0.0</td>\n",
       "      <td>0.0</td>\n",
       "      <td>0.0</td>\n",
       "      <td>0.0</td>\n",
       "      <td>0.0</td>\n",
       "      <td>0.0</td>\n",
       "      <td>0.0</td>\n",
       "      <td>0.0</td>\n",
       "      <td>...</td>\n",
       "      <td>0.000053</td>\n",
       "      <td>0.000244</td>\n",
       "      <td>0.000066</td>\n",
       "      <td>0.000000</td>\n",
       "      <td>0.000081</td>\n",
       "      <td>0.000617</td>\n",
       "      <td>0.000094</td>\n",
       "      <td>0.000220</td>\n",
       "      <td>0.000762</td>\n",
       "      <td>0.001224</td>\n",
       "    </tr>\n",
       "    <tr>\n",
       "      <th>2</th>\n",
       "      <td>video6.webm</td>\n",
       "      <td>0.0</td>\n",
       "      <td>0.0</td>\n",
       "      <td>0.0</td>\n",
       "      <td>0.0</td>\n",
       "      <td>0.0</td>\n",
       "      <td>0.0</td>\n",
       "      <td>0.0</td>\n",
       "      <td>0.0</td>\n",
       "      <td>0.0</td>\n",
       "      <td>...</td>\n",
       "      <td>0.000007</td>\n",
       "      <td>0.000054</td>\n",
       "      <td>0.000045</td>\n",
       "      <td>0.000000</td>\n",
       "      <td>0.000028</td>\n",
       "      <td>0.000291</td>\n",
       "      <td>0.000033</td>\n",
       "      <td>0.000052</td>\n",
       "      <td>0.000258</td>\n",
       "      <td>0.000215</td>\n",
       "    </tr>\n",
       "    <tr>\n",
       "      <th>3</th>\n",
       "      <td>video8.webm</td>\n",
       "      <td>0.0</td>\n",
       "      <td>0.0</td>\n",
       "      <td>0.0</td>\n",
       "      <td>0.0</td>\n",
       "      <td>0.0</td>\n",
       "      <td>0.0</td>\n",
       "      <td>0.0</td>\n",
       "      <td>0.0</td>\n",
       "      <td>0.0</td>\n",
       "      <td>...</td>\n",
       "      <td>0.000059</td>\n",
       "      <td>0.001110</td>\n",
       "      <td>0.000075</td>\n",
       "      <td>0.000008</td>\n",
       "      <td>0.000333</td>\n",
       "      <td>0.000793</td>\n",
       "      <td>0.000101</td>\n",
       "      <td>0.000588</td>\n",
       "      <td>0.000503</td>\n",
       "      <td>0.000452</td>\n",
       "    </tr>\n",
       "    <tr>\n",
       "      <th>4</th>\n",
       "      <td>video10.webm</td>\n",
       "      <td>0.0</td>\n",
       "      <td>0.0</td>\n",
       "      <td>0.0</td>\n",
       "      <td>0.0</td>\n",
       "      <td>0.0</td>\n",
       "      <td>0.0</td>\n",
       "      <td>0.0</td>\n",
       "      <td>0.0</td>\n",
       "      <td>0.0</td>\n",
       "      <td>...</td>\n",
       "      <td>0.000009</td>\n",
       "      <td>0.000882</td>\n",
       "      <td>0.000200</td>\n",
       "      <td>0.000009</td>\n",
       "      <td>0.000559</td>\n",
       "      <td>0.001097</td>\n",
       "      <td>0.000018</td>\n",
       "      <td>0.000632</td>\n",
       "      <td>0.001128</td>\n",
       "      <td>0.000064</td>\n",
       "    </tr>\n",
       "  </tbody>\n",
       "</table>\n",
       "<p>5 rows × 6227 columns</p>\n",
       "</div>"
      ],
      "text/plain": [
       "          video  0_x  1_x  2_x  3_x  4_x  5_x  6_x  7_x  8_x  ...      6065  \\\n",
       "0   video3.webm  0.0  0.0  0.0  0.0  0.0  0.0  0.0  0.0  0.0  ...  0.000000   \n",
       "1   video4.webm  0.0  0.0  0.0  0.0  0.0  0.0  0.0  0.0  0.0  ...  0.000053   \n",
       "2   video6.webm  0.0  0.0  0.0  0.0  0.0  0.0  0.0  0.0  0.0  ...  0.000007   \n",
       "3   video8.webm  0.0  0.0  0.0  0.0  0.0  0.0  0.0  0.0  0.0  ...  0.000059   \n",
       "4  video10.webm  0.0  0.0  0.0  0.0  0.0  0.0  0.0  0.0  0.0  ...  0.000009   \n",
       "\n",
       "       6066      6067      6068      6069      6070      6071      6072  \\\n",
       "0  0.000393  0.000279  0.000000  0.000289  0.001926  0.000000  0.000086   \n",
       "1  0.000244  0.000066  0.000000  0.000081  0.000617  0.000094  0.000220   \n",
       "2  0.000054  0.000045  0.000000  0.000028  0.000291  0.000033  0.000052   \n",
       "3  0.001110  0.000075  0.000008  0.000333  0.000793  0.000101  0.000588   \n",
       "4  0.000882  0.000200  0.000009  0.000559  0.001097  0.000018  0.000632   \n",
       "\n",
       "       6073      6074  \n",
       "0  0.000580  0.000000  \n",
       "1  0.000762  0.001224  \n",
       "2  0.000258  0.000215  \n",
       "3  0.000503  0.000452  \n",
       "4  0.001128  0.000064  \n",
       "\n",
       "[5 rows x 6227 columns]"
      ]
     },
     "execution_count": 27,
     "metadata": {},
     "output_type": "execute_result"
    }
   ],
   "source": [
    "df_merged.head()"
   ]
  },
  {
   "cell_type": "code",
   "execution_count": 28,
   "metadata": {
    "colab": {},
    "colab_type": "code",
    "id": "Y-V5nep3FBdM"
   },
   "outputs": [],
   "source": [
    "df_x = df_merged.drop('video', axis = 1)  #drop video column"
   ]
  },
  {
   "cell_type": "code",
   "execution_count": 30,
   "metadata": {
    "colab": {
     "base_uri": "https://localhost:8080/",
     "height": 244
    },
    "colab_type": "code",
    "executionInfo": {
     "elapsed": 67623,
     "status": "ok",
     "timestamp": 1587595182440,
     "user": {
      "displayName": "Kirthy Francis",
      "photoUrl": "https://lh3.googleusercontent.com/a-/AOh14GijNK7FM2xrZUykCoHIPFo4MIEzIh7vdAuLb-2L=s64",
      "userId": "00800941396627043895"
     },
     "user_tz": -60
    },
    "id": "Djp-uFKpFDPR",
    "outputId": "5631b641-01b5-4762-e477-5a4d81767dc2"
   },
   "outputs": [
    {
     "data": {
      "text/html": [
       "<div>\n",
       "<style scoped>\n",
       "    .dataframe tbody tr th:only-of-type {\n",
       "        vertical-align: middle;\n",
       "    }\n",
       "\n",
       "    .dataframe tbody tr th {\n",
       "        vertical-align: top;\n",
       "    }\n",
       "\n",
       "    .dataframe thead th {\n",
       "        text-align: right;\n",
       "    }\n",
       "</style>\n",
       "<table border=\"1\" class=\"dataframe\">\n",
       "  <thead>\n",
       "    <tr style=\"text-align: right;\">\n",
       "      <th></th>\n",
       "      <th>0_x</th>\n",
       "      <th>1_x</th>\n",
       "      <th>2_x</th>\n",
       "      <th>3_x</th>\n",
       "      <th>4_x</th>\n",
       "      <th>5_x</th>\n",
       "      <th>6_x</th>\n",
       "      <th>7_x</th>\n",
       "      <th>8_x</th>\n",
       "      <th>9_x</th>\n",
       "      <th>...</th>\n",
       "      <th>6065</th>\n",
       "      <th>6066</th>\n",
       "      <th>6067</th>\n",
       "      <th>6068</th>\n",
       "      <th>6069</th>\n",
       "      <th>6070</th>\n",
       "      <th>6071</th>\n",
       "      <th>6072</th>\n",
       "      <th>6073</th>\n",
       "      <th>6074</th>\n",
       "    </tr>\n",
       "  </thead>\n",
       "  <tbody>\n",
       "    <tr>\n",
       "      <th>0</th>\n",
       "      <td>0.0</td>\n",
       "      <td>0.0</td>\n",
       "      <td>0.0</td>\n",
       "      <td>0.0</td>\n",
       "      <td>0.0</td>\n",
       "      <td>0.0</td>\n",
       "      <td>0.0</td>\n",
       "      <td>0.0</td>\n",
       "      <td>0.0</td>\n",
       "      <td>0.0</td>\n",
       "      <td>...</td>\n",
       "      <td>0.000000</td>\n",
       "      <td>0.000393</td>\n",
       "      <td>0.000279</td>\n",
       "      <td>0.000000</td>\n",
       "      <td>0.000289</td>\n",
       "      <td>0.001926</td>\n",
       "      <td>0.000000</td>\n",
       "      <td>0.000086</td>\n",
       "      <td>0.000580</td>\n",
       "      <td>0.000000</td>\n",
       "    </tr>\n",
       "    <tr>\n",
       "      <th>1</th>\n",
       "      <td>0.0</td>\n",
       "      <td>0.0</td>\n",
       "      <td>0.0</td>\n",
       "      <td>0.0</td>\n",
       "      <td>0.0</td>\n",
       "      <td>0.0</td>\n",
       "      <td>0.0</td>\n",
       "      <td>0.0</td>\n",
       "      <td>0.0</td>\n",
       "      <td>0.0</td>\n",
       "      <td>...</td>\n",
       "      <td>0.000053</td>\n",
       "      <td>0.000244</td>\n",
       "      <td>0.000066</td>\n",
       "      <td>0.000000</td>\n",
       "      <td>0.000081</td>\n",
       "      <td>0.000617</td>\n",
       "      <td>0.000094</td>\n",
       "      <td>0.000220</td>\n",
       "      <td>0.000762</td>\n",
       "      <td>0.001224</td>\n",
       "    </tr>\n",
       "    <tr>\n",
       "      <th>2</th>\n",
       "      <td>0.0</td>\n",
       "      <td>0.0</td>\n",
       "      <td>0.0</td>\n",
       "      <td>0.0</td>\n",
       "      <td>0.0</td>\n",
       "      <td>0.0</td>\n",
       "      <td>0.0</td>\n",
       "      <td>0.0</td>\n",
       "      <td>0.0</td>\n",
       "      <td>0.0</td>\n",
       "      <td>...</td>\n",
       "      <td>0.000007</td>\n",
       "      <td>0.000054</td>\n",
       "      <td>0.000045</td>\n",
       "      <td>0.000000</td>\n",
       "      <td>0.000028</td>\n",
       "      <td>0.000291</td>\n",
       "      <td>0.000033</td>\n",
       "      <td>0.000052</td>\n",
       "      <td>0.000258</td>\n",
       "      <td>0.000215</td>\n",
       "    </tr>\n",
       "    <tr>\n",
       "      <th>3</th>\n",
       "      <td>0.0</td>\n",
       "      <td>0.0</td>\n",
       "      <td>0.0</td>\n",
       "      <td>0.0</td>\n",
       "      <td>0.0</td>\n",
       "      <td>0.0</td>\n",
       "      <td>0.0</td>\n",
       "      <td>0.0</td>\n",
       "      <td>0.0</td>\n",
       "      <td>0.0</td>\n",
       "      <td>...</td>\n",
       "      <td>0.000059</td>\n",
       "      <td>0.001110</td>\n",
       "      <td>0.000075</td>\n",
       "      <td>0.000008</td>\n",
       "      <td>0.000333</td>\n",
       "      <td>0.000793</td>\n",
       "      <td>0.000101</td>\n",
       "      <td>0.000588</td>\n",
       "      <td>0.000503</td>\n",
       "      <td>0.000452</td>\n",
       "    </tr>\n",
       "    <tr>\n",
       "      <th>4</th>\n",
       "      <td>0.0</td>\n",
       "      <td>0.0</td>\n",
       "      <td>0.0</td>\n",
       "      <td>0.0</td>\n",
       "      <td>0.0</td>\n",
       "      <td>0.0</td>\n",
       "      <td>0.0</td>\n",
       "      <td>0.0</td>\n",
       "      <td>0.0</td>\n",
       "      <td>0.0</td>\n",
       "      <td>...</td>\n",
       "      <td>0.000009</td>\n",
       "      <td>0.000882</td>\n",
       "      <td>0.000200</td>\n",
       "      <td>0.000009</td>\n",
       "      <td>0.000559</td>\n",
       "      <td>0.001097</td>\n",
       "      <td>0.000018</td>\n",
       "      <td>0.000632</td>\n",
       "      <td>0.001128</td>\n",
       "      <td>0.000064</td>\n",
       "    </tr>\n",
       "  </tbody>\n",
       "</table>\n",
       "<p>5 rows × 6226 columns</p>\n",
       "</div>"
      ],
      "text/plain": [
       "   0_x  1_x  2_x  3_x  4_x  5_x  6_x  7_x  8_x  9_x  ...      6065      6066  \\\n",
       "0  0.0  0.0  0.0  0.0  0.0  0.0  0.0  0.0  0.0  0.0  ...  0.000000  0.000393   \n",
       "1  0.0  0.0  0.0  0.0  0.0  0.0  0.0  0.0  0.0  0.0  ...  0.000053  0.000244   \n",
       "2  0.0  0.0  0.0  0.0  0.0  0.0  0.0  0.0  0.0  0.0  ...  0.000007  0.000054   \n",
       "3  0.0  0.0  0.0  0.0  0.0  0.0  0.0  0.0  0.0  0.0  ...  0.000059  0.001110   \n",
       "4  0.0  0.0  0.0  0.0  0.0  0.0  0.0  0.0  0.0  0.0  ...  0.000009  0.000882   \n",
       "\n",
       "       6067      6068      6069      6070      6071      6072      6073  \\\n",
       "0  0.000279  0.000000  0.000289  0.001926  0.000000  0.000086  0.000580   \n",
       "1  0.000066  0.000000  0.000081  0.000617  0.000094  0.000220  0.000762   \n",
       "2  0.000045  0.000000  0.000028  0.000291  0.000033  0.000052  0.000258   \n",
       "3  0.000075  0.000008  0.000333  0.000793  0.000101  0.000588  0.000503   \n",
       "4  0.000200  0.000009  0.000559  0.001097  0.000018  0.000632  0.001128   \n",
       "\n",
       "       6074  \n",
       "0  0.000000  \n",
       "1  0.001224  \n",
       "2  0.000215  \n",
       "3  0.000452  \n",
       "4  0.000064  \n",
       "\n",
       "[5 rows x 6226 columns]"
      ]
     },
     "execution_count": 30,
     "metadata": {},
     "output_type": "execute_result"
    }
   ],
   "source": [
    "df_x.head()"
   ]
  },
  {
   "cell_type": "markdown",
   "metadata": {},
   "source": [
    "# Applying features to models to find best model"
   ]
  },
  {
   "cell_type": "markdown",
   "metadata": {
    "colab_type": "text",
    "id": "644cwk772vh7"
   },
   "source": [
    "### Running models on Captions"
   ]
  },
  {
   "cell_type": "code",
   "execution_count": 29,
   "metadata": {
    "colab": {},
    "colab_type": "code",
    "id": "bGmcWedd2XBa"
   },
   "outputs": [],
   "source": [
    "df_seq=df_seq.drop('video', axis = 1)"
   ]
  },
  {
   "cell_type": "code",
   "execution_count": 76,
   "metadata": {
    "colab": {},
    "colab_type": "code",
    "id": "XxHYgc5Z1Yj4"
   },
   "outputs": [],
   "source": [
    "Y_st = labels['short-term_memorability'].values # st targets\n",
    "Y_lt = labels['long-term_memorability'].values  # lt targets\n",
    "X = df_seq.values # sequences & C3D merged"
   ]
  },
  {
   "cell_type": "code",
   "execution_count": 77,
   "metadata": {
    "colab": {},
    "colab_type": "code",
    "id": "PS0QB1Ql1fkT"
   },
   "outputs": [],
   "source": [
    "X_train_st, X_test_st, Y_train_st, Y_test_st = train_test_split(X,Y_st, test_size=0.2, random_state=42) \n",
    "#splitting the short term dev data into a train and validate split of 80 to 20 with a random state for reproducability\n",
    "\n",
    "X_train_lt, X_test_lt, Y_train_lt, Y_test_lt = train_test_split(X,Y_lt, test_size=0.2, random_state=42) \n",
    "# #splitting the long term dev data into a train and validate split of 80 to 20 with a random state for reproducability"
   ]
  },
  {
   "cell_type": "code",
   "execution_count": 78,
   "metadata": {
    "colab": {
     "base_uri": "https://localhost:8080/",
     "height": 84
    },
    "colab_type": "code",
    "executionInfo": {
     "elapsed": 70947,
     "status": "ok",
     "timestamp": 1587595186127,
     "user": {
      "displayName": "Kirthy Francis",
      "photoUrl": "https://lh3.googleusercontent.com/a-/AOh14GijNK7FM2xrZUykCoHIPFo4MIEzIh7vdAuLb-2L=s64",
      "userId": "00800941396627043895"
     },
     "user_tz": -60
    },
    "id": "aa8ysnkX1tF2",
    "outputId": "b30d067d-959c-43ab-b015-a3eae7ba144c",
    "scrolled": true
   },
   "outputs": [
    {
     "name": "stdout",
     "output_type": "stream",
     "text": [
      "X_train (4800, 50)\n",
      "X_test (1200, 50)\n",
      "Y_train (4800,)\n",
      "Y_test (1200,)\n"
     ]
    }
   ],
   "source": [
    "#Just testing to see shape of data split for Short Term\n",
    "print('X_train', X_train_st.shape)\n",
    "print('X_test', X_test_st.shape)\n",
    "print('Y_train', Y_train_st.shape)\n",
    "print('Y_test', Y_test_st.shape)"
   ]
  },
  {
   "cell_type": "code",
   "execution_count": 79,
   "metadata": {
    "colab": {
     "base_uri": "https://localhost:8080/",
     "height": 84
    },
    "colab_type": "code",
    "executionInfo": {
     "elapsed": 70929,
     "status": "ok",
     "timestamp": 1587595186128,
     "user": {
      "displayName": "Kirthy Francis",
      "photoUrl": "https://lh3.googleusercontent.com/a-/AOh14GijNK7FM2xrZUykCoHIPFo4MIEzIh7vdAuLb-2L=s64",
      "userId": "00800941396627043895"
     },
     "user_tz": -60
    },
    "id": "JMLxUuWL10Lu",
    "outputId": "3e848459-acc1-4d26-9e24-9587afb92155"
   },
   "outputs": [
    {
     "name": "stdout",
     "output_type": "stream",
     "text": [
      "X_train (4800, 50)\n",
      "X_test (1200, 50)\n",
      "Y_train (4800,)\n",
      "Y_test (1200,)\n"
     ]
    }
   ],
   "source": [
    "#Just testing to see shape of data split for Long Term\n",
    "print('X_train', X_train_lt.shape)\n",
    "print('X_test', X_test_lt.shape)\n",
    "print('Y_train', Y_train_lt.shape)\n",
    "print('Y_test', Y_test_lt.shape)"
   ]
  },
  {
   "cell_type": "markdown",
   "metadata": {},
   "source": [
    "#### Linear Regressor Model on Captions"
   ]
  },
  {
   "cell_type": "code",
   "execution_count": 36,
   "metadata": {
    "colab": {
     "base_uri": "https://localhost:8080/",
     "height": 34
    },
    "colab_type": "code",
    "executionInfo": {
     "elapsed": 70901,
     "status": "ok",
     "timestamp": 1587595186128,
     "user": {
      "displayName": "Kirthy Francis",
      "photoUrl": "https://lh3.googleusercontent.com/a-/AOh14GijNK7FM2xrZUykCoHIPFo4MIEzIh7vdAuLb-2L=s64",
      "userId": "00800941396627043895"
     },
     "user_tz": -60
    },
    "id": "QMqEYgpZ13Kw",
    "outputId": "41cf9e63-401b-41e2-ef34-5e4092018ab2"
   },
   "outputs": [
    {
     "name": "stdout",
     "output_type": "stream",
     "text": [
      "Linear Regressor Short Term:\n",
      "The Spearman's correlation coefficient is: -0.003\n"
     ]
    }
   ],
   "source": [
    "LMregressor = LinearRegression()\n",
    "LMregressor.fit(X_train_st, Y_train_st)\n",
    "y_pred = LMregressor.predict(X_test_st)\n",
    "print('Linear Regressor Short Term:')\n",
    "Get_score(y_pred, Y_test_st)"
   ]
  },
  {
   "cell_type": "code",
   "execution_count": 37,
   "metadata": {
    "colab": {
     "base_uri": "https://localhost:8080/",
     "height": 34
    },
    "colab_type": "code",
    "executionInfo": {
     "elapsed": 70901,
     "status": "ok",
     "timestamp": 1587595186128,
     "user": {
      "displayName": "Kirthy Francis",
      "photoUrl": "https://lh3.googleusercontent.com/a-/AOh14GijNK7FM2xrZUykCoHIPFo4MIEzIh7vdAuLb-2L=s64",
      "userId": "00800941396627043895"
     },
     "user_tz": -60
    },
    "id": "QMqEYgpZ13Kw",
    "outputId": "41cf9e63-401b-41e2-ef34-5e4092018ab2"
   },
   "outputs": [
    {
     "name": "stdout",
     "output_type": "stream",
     "text": [
      "Linear Regressor Long Term:\n",
      "The Spearman's correlation coefficient is: -0.042\n"
     ]
    }
   ],
   "source": [
    "LMregressor = LinearRegression()\n",
    "LMregressor.fit(X_train_lt, Y_train_lt)\n",
    "y_pred = LMregressor.predict(X_test_lt)\n",
    "print('Linear Regressor Long Term:')\n",
    "Get_score(y_pred, Y_test_lt)"
   ]
  },
  {
   "cell_type": "markdown",
   "metadata": {},
   "source": [
    "#### Decision Tree Regressor Model on Captions"
   ]
  },
  {
   "cell_type": "code",
   "execution_count": 38,
   "metadata": {
    "colab": {
     "base_uri": "https://localhost:8080/",
     "height": 118
    },
    "colab_type": "code",
    "executionInfo": {
     "elapsed": 71062,
     "status": "ok",
     "timestamp": 1587595186336,
     "user": {
      "displayName": "Kirthy Francis",
      "photoUrl": "https://lh3.googleusercontent.com/a-/AOh14GijNK7FM2xrZUykCoHIPFo4MIEzIh7vdAuLb-2L=s64",
      "userId": "00800941396627043895"
     },
     "user_tz": -60
    },
    "id": "EMjPJnDW1-R4",
    "outputId": "d03f1491-cb16-4411-8634-bc35fb99f98a",
    "scrolled": true
   },
   "outputs": [
    {
     "name": "stdout",
     "output_type": "stream",
     "text": [
      "Decision Tree Regressor Short Term:\n",
      "The Spearman's correlation coefficient is: 0.143\n"
     ]
    }
   ],
   "source": [
    "DTregressor = DecisionTreeRegressor()\n",
    "DTregressor.fit(X_train_st, Y_train_st)\n",
    "y_pred = DTregressor.predict(X_test_st)\n",
    "print('Decision Tree Regressor Short Term:')\n",
    "Get_score(y_pred, Y_test_st)"
   ]
  },
  {
   "cell_type": "code",
   "execution_count": 39,
   "metadata": {
    "colab": {
     "base_uri": "https://localhost:8080/",
     "height": 118
    },
    "colab_type": "code",
    "executionInfo": {
     "elapsed": 71062,
     "status": "ok",
     "timestamp": 1587595186336,
     "user": {
      "displayName": "Kirthy Francis",
      "photoUrl": "https://lh3.googleusercontent.com/a-/AOh14GijNK7FM2xrZUykCoHIPFo4MIEzIh7vdAuLb-2L=s64",
      "userId": "00800941396627043895"
     },
     "user_tz": -60
    },
    "id": "EMjPJnDW1-R4",
    "outputId": "d03f1491-cb16-4411-8634-bc35fb99f98a",
    "scrolled": true
   },
   "outputs": [
    {
     "name": "stdout",
     "output_type": "stream",
     "text": [
      "Decision Tree Regressor Long Term:\n",
      "The Spearman's correlation coefficient is: 0.058\n"
     ]
    }
   ],
   "source": [
    "DTregressor = DecisionTreeRegressor()\n",
    "DTregressor.fit(X_train_lt, Y_train_lt)\n",
    "y_pred = DTregressor.predict(X_test_lt)\n",
    "print('Decision Tree Regressor Long Term:')\n",
    "Get_score(y_pred, Y_test_lt)"
   ]
  },
  {
   "cell_type": "markdown",
   "metadata": {},
   "source": [
    "#### Random Forest Regressor Model on Captions"
   ]
  },
  {
   "cell_type": "code",
   "execution_count": 161,
   "metadata": {
    "colab": {
     "base_uri": "https://localhost:8080/",
     "height": 134
    },
    "colab_type": "code",
    "executionInfo": {
     "elapsed": 75425,
     "status": "ok",
     "timestamp": 1587595190738,
     "user": {
      "displayName": "Kirthy Francis",
      "photoUrl": "https://lh3.googleusercontent.com/a-/AOh14GijNK7FM2xrZUykCoHIPFo4MIEzIh7vdAuLb-2L=s64",
      "userId": "00800941396627043895"
     },
     "user_tz": -60
    },
    "id": "ubQg_y3v4E7G",
    "outputId": "10146330-b8c7-4270-ea11-58f21c4d2a88"
   },
   "outputs": [
    {
     "name": "stdout",
     "output_type": "stream",
     "text": [
      "Random Forest Regressor Short Term:\n",
      "The Spearman's correlation coefficient is: 0.254\n"
     ]
    }
   ],
   "source": [
    "RFregressor = RandomForestRegressor(n_jobs=-1,n_estimators=100)\n",
    "RFregressor.fit(X_train_st, Y_train_st)\n",
    "y_pred = RFregressor.predict(X_test_st)\n",
    "print('Random Forest Regressor Short Term:')\n",
    "Get_score(y_pred, Y_test_st)"
   ]
  },
  {
   "cell_type": "code",
   "execution_count": 162,
   "metadata": {
    "colab": {
     "base_uri": "https://localhost:8080/",
     "height": 134
    },
    "colab_type": "code",
    "executionInfo": {
     "elapsed": 75425,
     "status": "ok",
     "timestamp": 1587595190738,
     "user": {
      "displayName": "Kirthy Francis",
      "photoUrl": "https://lh3.googleusercontent.com/a-/AOh14GijNK7FM2xrZUykCoHIPFo4MIEzIh7vdAuLb-2L=s64",
      "userId": "00800941396627043895"
     },
     "user_tz": -60
    },
    "id": "ubQg_y3v4E7G",
    "outputId": "10146330-b8c7-4270-ea11-58f21c4d2a88"
   },
   "outputs": [
    {
     "name": "stdout",
     "output_type": "stream",
     "text": [
      "Random Forest Regressor Long Term:\n",
      "The Spearman's correlation coefficient is: 0.083\n"
     ]
    }
   ],
   "source": [
    "RFregressor = RandomForestRegressor(n_jobs=-1,n_estimators=100)\n",
    "RFregressor.fit(X_train_lt, Y_train_lt)\n",
    "y_pred = RFregressor.predict(X_test_lt)\n",
    "print('Random Forest Regressor Long Term:')\n",
    "Get_score(y_pred, Y_test_lt)"
   ]
  },
  {
   "cell_type": "markdown",
   "metadata": {},
   "source": [
    "#### XGBoost Regressor Model on Captions"
   ]
  },
  {
   "cell_type": "code",
   "execution_count": 80,
   "metadata": {},
   "outputs": [
    {
     "name": "stdout",
     "output_type": "stream",
     "text": [
      "XG Boosting Regressor Short Term:\n",
      "The Spearman's correlation coefficient is: 0.246\n"
     ]
    }
   ],
   "source": [
    "xg_reg = xgb.XGBRegressor(nthread=-1, learning_rate = 1, max_depth = 5, alpha = 10, n_estimators = 100, objective ='reg:squarederror')\n",
    "xg_reg.fit(X_train_st,Y_train_st)\n",
    "preds_y = xg_reg.predict(X_test_st)\n",
    "print('XG Boosting Regressor Short Term:')\n",
    "Get_score(preds_y, Y_test_st)"
   ]
  },
  {
   "cell_type": "code",
   "execution_count": 81,
   "metadata": {
    "scrolled": true
   },
   "outputs": [
    {
     "name": "stdout",
     "output_type": "stream",
     "text": [
      "XG Boosting Regressor Long Term:\n",
      "The Spearman's correlation coefficient is: 0.132\n"
     ]
    }
   ],
   "source": [
    "xg_reg = xgb.XGBRegressor(nthread=-1, learning_rate = 1, max_depth = 5, alpha = 10, n_estimators = 100, objective ='reg:squarederror')\n",
    "xg_reg.fit(X_train_lt,Y_train_lt)\n",
    "preds_y = xg_reg.predict(X_test_lt)\n",
    "print('XG Boosting Regressor Long Term:')\n",
    "Get_score(preds_y, Y_test_lt)"
   ]
  },
  {
   "cell_type": "markdown",
   "metadata": {},
   "source": [
    "#### Gradient Boosting Regressor Model on Captions"
   ]
  },
  {
   "cell_type": "code",
   "execution_count": 45,
   "metadata": {},
   "outputs": [],
   "source": [
    "clf = ensemble.GradientBoostingRegressor(n_estimators=650, max_depth=12, min_samples_split=2, learning_rate=0.01, loss='lad')"
   ]
  },
  {
   "cell_type": "code",
   "execution_count": 46,
   "metadata": {},
   "outputs": [
    {
     "name": "stdout",
     "output_type": "stream",
     "text": [
      "Gradient Boosting Regressor Short Term:\n",
      "The Spearman's correlation coefficient is: 0.250\n",
      "None\n"
     ]
    }
   ],
   "source": [
    "clf.fit(X_train_st, Y_train_st)\n",
    "print('Gradient Boosting Regressor Short Term:')\n",
    "print(Get_score(clf.predict(X_test_st), Y_test_st))"
   ]
  },
  {
   "cell_type": "code",
   "execution_count": 47,
   "metadata": {},
   "outputs": [
    {
     "name": "stdout",
     "output_type": "stream",
     "text": [
      "Gradient Boosting Regressor Long Term:\n",
      "The Spearman's correlation coefficient is: 0.075\n",
      "None\n"
     ]
    }
   ],
   "source": [
    "clf.fit(X_train_lt, Y_train_lt)\n",
    "print('Gradient Boosting Regressor Long Term:')\n",
    "print(Get_score(clf.predict(X_test_lt), Y_test_lt))"
   ]
  },
  {
   "cell_type": "markdown",
   "metadata": {
    "colab_type": "text",
    "id": "644cwk772vh7"
   },
   "source": [
    "### Running models on C3D"
   ]
  },
  {
   "cell_type": "code",
   "execution_count": 36,
   "metadata": {},
   "outputs": [],
   "source": [
    "features2=features2.drop('video', axis = 1)"
   ]
  },
  {
   "cell_type": "code",
   "execution_count": 82,
   "metadata": {
    "colab": {},
    "colab_type": "code",
    "id": "kjY0DI1d2puC"
   },
   "outputs": [],
   "source": [
    "Y_st = labels['short-term_memorability'].values # st targets\n",
    "Y_lt = labels['long-term_memorability'].values  # lt targets\n",
    "X = features2.values # sequences & C3D merged"
   ]
  },
  {
   "cell_type": "code",
   "execution_count": 83,
   "metadata": {
    "colab": {},
    "colab_type": "code",
    "id": "HaXCTpQ_2puE"
   },
   "outputs": [],
   "source": [
    "X_train_st, X_test_st, Y_train_st, Y_test_st = train_test_split(X,Y_st, test_size=0.2, random_state=42) \n",
    "#splitting the short term dev data into a train and validate split of 80 to 20 with a random state for reproducability\n",
    "\n",
    "X_train_lt, X_test_lt, Y_train_lt, Y_test_lt = train_test_split(X,Y_lt, test_size=0.2, random_state=42) \n",
    "# #splitting the long term dev data into a train and validate split of 80 to 20 with a random state for reproducability"
   ]
  },
  {
   "cell_type": "code",
   "execution_count": 84,
   "metadata": {
    "colab": {
     "base_uri": "https://localhost:8080/",
     "height": 84
    },
    "colab_type": "code",
    "executionInfo": {
     "elapsed": 78102,
     "status": "ok",
     "timestamp": 1587595193567,
     "user": {
      "displayName": "Kirthy Francis",
      "photoUrl": "https://lh3.googleusercontent.com/a-/AOh14GijNK7FM2xrZUykCoHIPFo4MIEzIh7vdAuLb-2L=s64",
      "userId": "00800941396627043895"
     },
     "user_tz": -60
    },
    "id": "43qR9jc12puI",
    "outputId": "f6d2e1bb-7946-4c03-8f0b-168f9e901e8a"
   },
   "outputs": [
    {
     "name": "stdout",
     "output_type": "stream",
     "text": [
      "X_train (4800, 101)\n",
      "X_test (1200, 101)\n",
      "Y_train (4800,)\n",
      "Y_test (1200,)\n"
     ]
    }
   ],
   "source": [
    "#Just testing to see shape of data split for Short Term\n",
    "print('X_train', X_train_st.shape)\n",
    "print('X_test', X_test_st.shape)\n",
    "print('Y_train', Y_train_st.shape)\n",
    "print('Y_test', Y_test_st.shape)"
   ]
  },
  {
   "cell_type": "code",
   "execution_count": 85,
   "metadata": {
    "colab": {
     "base_uri": "https://localhost:8080/",
     "height": 84
    },
    "colab_type": "code",
    "executionInfo": {
     "elapsed": 78087,
     "status": "ok",
     "timestamp": 1587595193568,
     "user": {
      "displayName": "Kirthy Francis",
      "photoUrl": "https://lh3.googleusercontent.com/a-/AOh14GijNK7FM2xrZUykCoHIPFo4MIEzIh7vdAuLb-2L=s64",
      "userId": "00800941396627043895"
     },
     "user_tz": -60
    },
    "id": "K8lsBUJU2puK",
    "outputId": "57acbd1e-c94f-4d57-88b8-3438ee833650"
   },
   "outputs": [
    {
     "name": "stdout",
     "output_type": "stream",
     "text": [
      "X_train (4800, 101)\n",
      "X_test (1200, 101)\n",
      "Y_train (4800,)\n",
      "Y_test (1200,)\n"
     ]
    }
   ],
   "source": [
    "#Just testing to see shape of data split for Long Term\n",
    "print('X_train', X_train_lt.shape)\n",
    "print('X_test', X_test_lt.shape)\n",
    "print('Y_train', Y_train_lt.shape)\n",
    "print('Y_test', Y_test_lt.shape)"
   ]
  },
  {
   "cell_type": "markdown",
   "metadata": {},
   "source": [
    "#### Linear Regressor Model on C3D"
   ]
  },
  {
   "cell_type": "code",
   "execution_count": 53,
   "metadata": {
    "colab": {
     "base_uri": "https://localhost:8080/",
     "height": 34
    },
    "colab_type": "code",
    "executionInfo": {
     "elapsed": 70901,
     "status": "ok",
     "timestamp": 1587595186128,
     "user": {
      "displayName": "Kirthy Francis",
      "photoUrl": "https://lh3.googleusercontent.com/a-/AOh14GijNK7FM2xrZUykCoHIPFo4MIEzIh7vdAuLb-2L=s64",
      "userId": "00800941396627043895"
     },
     "user_tz": -60
    },
    "id": "QMqEYgpZ13Kw",
    "outputId": "41cf9e63-401b-41e2-ef34-5e4092018ab2"
   },
   "outputs": [
    {
     "name": "stdout",
     "output_type": "stream",
     "text": [
      "Linear Regressor Short Term:\n",
      "The Spearman's correlation coefficient is: 0.277\n"
     ]
    }
   ],
   "source": [
    "LMregressor = LinearRegression()\n",
    "LMregressor.fit(X_train_st, Y_train_st)\n",
    "y_pred = LMregressor.predict(X_test_st)\n",
    "print('Linear Regressor Short Term:')\n",
    "Get_score(y_pred, Y_test_st)"
   ]
  },
  {
   "cell_type": "code",
   "execution_count": 54,
   "metadata": {
    "colab": {
     "base_uri": "https://localhost:8080/",
     "height": 34
    },
    "colab_type": "code",
    "executionInfo": {
     "elapsed": 70901,
     "status": "ok",
     "timestamp": 1587595186128,
     "user": {
      "displayName": "Kirthy Francis",
      "photoUrl": "https://lh3.googleusercontent.com/a-/AOh14GijNK7FM2xrZUykCoHIPFo4MIEzIh7vdAuLb-2L=s64",
      "userId": "00800941396627043895"
     },
     "user_tz": -60
    },
    "id": "QMqEYgpZ13Kw",
    "outputId": "41cf9e63-401b-41e2-ef34-5e4092018ab2"
   },
   "outputs": [
    {
     "name": "stdout",
     "output_type": "stream",
     "text": [
      "Linear Regressor Long Term:\n",
      "The Spearman's correlation coefficient is: 0.103\n"
     ]
    }
   ],
   "source": [
    "LMregressor = LinearRegression()\n",
    "LMregressor.fit(X_train_lt, Y_train_lt)\n",
    "y_pred = LMregressor.predict(X_test_lt)\n",
    "print('Linear Regressor Long Term:')\n",
    "Get_score(y_pred, Y_test_lt)"
   ]
  },
  {
   "cell_type": "markdown",
   "metadata": {},
   "source": [
    "#### Decision Tree Regressor Model  on C3D"
   ]
  },
  {
   "cell_type": "code",
   "execution_count": 55,
   "metadata": {
    "colab": {
     "base_uri": "https://localhost:8080/",
     "height": 118
    },
    "colab_type": "code",
    "executionInfo": {
     "elapsed": 71062,
     "status": "ok",
     "timestamp": 1587595186336,
     "user": {
      "displayName": "Kirthy Francis",
      "photoUrl": "https://lh3.googleusercontent.com/a-/AOh14GijNK7FM2xrZUykCoHIPFo4MIEzIh7vdAuLb-2L=s64",
      "userId": "00800941396627043895"
     },
     "user_tz": -60
    },
    "id": "EMjPJnDW1-R4",
    "outputId": "d03f1491-cb16-4411-8634-bc35fb99f98a",
    "scrolled": true
   },
   "outputs": [
    {
     "name": "stdout",
     "output_type": "stream",
     "text": [
      "Decision Tree Regressor Short Term:\n",
      "The Spearman's correlation coefficient is: 0.124\n"
     ]
    }
   ],
   "source": [
    "DTregressor = DecisionTreeRegressor()\n",
    "DTregressor.fit(X_train_st, Y_train_st)\n",
    "y_pred = DTregressor.predict(X_test_st)\n",
    "print('Decision Tree Regressor Short Term:')\n",
    "Get_score(y_pred, Y_test_st)"
   ]
  },
  {
   "cell_type": "code",
   "execution_count": 56,
   "metadata": {
    "colab": {
     "base_uri": "https://localhost:8080/",
     "height": 118
    },
    "colab_type": "code",
    "executionInfo": {
     "elapsed": 71062,
     "status": "ok",
     "timestamp": 1587595186336,
     "user": {
      "displayName": "Kirthy Francis",
      "photoUrl": "https://lh3.googleusercontent.com/a-/AOh14GijNK7FM2xrZUykCoHIPFo4MIEzIh7vdAuLb-2L=s64",
      "userId": "00800941396627043895"
     },
     "user_tz": -60
    },
    "id": "EMjPJnDW1-R4",
    "outputId": "d03f1491-cb16-4411-8634-bc35fb99f98a",
    "scrolled": true
   },
   "outputs": [
    {
     "name": "stdout",
     "output_type": "stream",
     "text": [
      "Decision Tree Regressor Long Term:\n",
      "The Spearman's correlation coefficient is: 0.033\n"
     ]
    }
   ],
   "source": [
    "DTregressor = DecisionTreeRegressor()\n",
    "DTregressor.fit(X_train_lt, Y_train_lt)\n",
    "y_pred = DTregressor.predict(X_test_lt)\n",
    "print('Decision Tree Regressor Long Term:')\n",
    "Get_score(y_pred, Y_test_lt)"
   ]
  },
  {
   "cell_type": "markdown",
   "metadata": {},
   "source": [
    "#### Random Forest Regressor Model  on C3D"
   ]
  },
  {
   "cell_type": "code",
   "execution_count": 167,
   "metadata": {
    "colab": {
     "base_uri": "https://localhost:8080/",
     "height": 134
    },
    "colab_type": "code",
    "executionInfo": {
     "elapsed": 75425,
     "status": "ok",
     "timestamp": 1587595190738,
     "user": {
      "displayName": "Kirthy Francis",
      "photoUrl": "https://lh3.googleusercontent.com/a-/AOh14GijNK7FM2xrZUykCoHIPFo4MIEzIh7vdAuLb-2L=s64",
      "userId": "00800941396627043895"
     },
     "user_tz": -60
    },
    "id": "ubQg_y3v4E7G",
    "outputId": "10146330-b8c7-4270-ea11-58f21c4d2a88"
   },
   "outputs": [
    {
     "name": "stdout",
     "output_type": "stream",
     "text": [
      "Random Forest Regressor Short Term:\n",
      "The Spearman's correlation coefficient is: 0.332\n"
     ]
    }
   ],
   "source": [
    "RFregressor = RandomForestRegressor(n_jobs=-1,n_estimators=100)\n",
    "RFregressor.fit(X_train_st, Y_train_st)\n",
    "y_pred = RFregressor.predict(X_test_st)\n",
    "print('Random Forest Regressor Short Term:')\n",
    "Get_score(y_pred, Y_test_st)"
   ]
  },
  {
   "cell_type": "code",
   "execution_count": 168,
   "metadata": {
    "colab": {
     "base_uri": "https://localhost:8080/",
     "height": 134
    },
    "colab_type": "code",
    "executionInfo": {
     "elapsed": 75425,
     "status": "ok",
     "timestamp": 1587595190738,
     "user": {
      "displayName": "Kirthy Francis",
      "photoUrl": "https://lh3.googleusercontent.com/a-/AOh14GijNK7FM2xrZUykCoHIPFo4MIEzIh7vdAuLb-2L=s64",
      "userId": "00800941396627043895"
     },
     "user_tz": -60
    },
    "id": "ubQg_y3v4E7G",
    "outputId": "10146330-b8c7-4270-ea11-58f21c4d2a88"
   },
   "outputs": [
    {
     "name": "stdout",
     "output_type": "stream",
     "text": [
      "Random Forest Regressor Long Term:\n",
      "The Spearman's correlation coefficient is: 0.113\n"
     ]
    }
   ],
   "source": [
    "RFregressor = RandomForestRegressor(n_jobs=-1,n_estimators=100)\n",
    "RFregressor.fit(X_train_lt, Y_train_lt)\n",
    "y_pred = RFregressor.predict(X_test_lt)\n",
    "print('Random Forest Regressor Long Term:')\n",
    "Get_score(y_pred, Y_test_lt)"
   ]
  },
  {
   "cell_type": "markdown",
   "metadata": {},
   "source": [
    "#### XGBoost Regressor Model on C3D"
   ]
  },
  {
   "cell_type": "code",
   "execution_count": 86,
   "metadata": {},
   "outputs": [
    {
     "name": "stdout",
     "output_type": "stream",
     "text": [
      "XG Boosting Regressor Short Term:\n",
      "The Spearman's correlation coefficient is: 0.151\n"
     ]
    }
   ],
   "source": [
    "xg_reg = xgb.XGBRegressor(nthread=-1, learning_rate = 1, max_depth = 5, alpha = 10, n_estimators = 100, objective ='reg:squarederror')\n",
    "xg_reg.fit(X_train_st,Y_train_st)\n",
    "preds_y = xg_reg.predict(X_test_st)\n",
    "print('XG Boosting Regressor Short Term:')\n",
    "Get_score(preds_y, Y_test_st)"
   ]
  },
  {
   "cell_type": "code",
   "execution_count": 87,
   "metadata": {},
   "outputs": [
    {
     "name": "stdout",
     "output_type": "stream",
     "text": [
      "XG Boosting Regressor Long Term:\n",
      "The Spearman's correlation coefficient is: 0.034\n"
     ]
    }
   ],
   "source": [
    "xg_reg = xgb.XGBRegressor(nthread=-1, learning_rate = 1, max_depth = 5, alpha = 10, n_estimators = 100, objective ='reg:squarederror')\n",
    "xg_reg.fit(X_train_lt,Y_train_lt)\n",
    "preds_y = xg_reg.predict(X_test_lt)\n",
    "print('XG Boosting Regressor Long Term:')\n",
    "Get_score(preds_y, Y_test_lt)"
   ]
  },
  {
   "cell_type": "markdown",
   "metadata": {},
   "source": [
    "#### Gradient Boosting Regressor Model on C3D"
   ]
  },
  {
   "cell_type": "code",
   "execution_count": 61,
   "metadata": {},
   "outputs": [],
   "source": [
    "clf = ensemble.GradientBoostingRegressor(n_estimators=650, max_depth=12, min_samples_split=2, learning_rate=0.01, loss='lad')"
   ]
  },
  {
   "cell_type": "code",
   "execution_count": 62,
   "metadata": {},
   "outputs": [
    {
     "name": "stdout",
     "output_type": "stream",
     "text": [
      "Gradient Boosting Regressor Short Term:\n",
      "The Spearman's correlation coefficient is: 0.320\n",
      "None\n"
     ]
    }
   ],
   "source": [
    "clf.fit(X_train_st, Y_train_st)\n",
    "print('Gradient Boosting Regressor Short Term:')\n",
    "print(Get_score(clf.predict(X_test_st), Y_test_st))"
   ]
  },
  {
   "cell_type": "code",
   "execution_count": 63,
   "metadata": {},
   "outputs": [
    {
     "name": "stdout",
     "output_type": "stream",
     "text": [
      "Gradient Boosting Regressor Long Term:\n",
      "The Spearman's correlation coefficient is: 0.097\n",
      "None\n"
     ]
    }
   ],
   "source": [
    "clf.fit(X_train_lt, Y_train_lt)\n",
    "print('Gradient Boosting Regressor Long Term:')\n",
    "print(Get_score(clf.predict(X_test_lt), Y_test_lt))"
   ]
  },
  {
   "cell_type": "markdown",
   "metadata": {
    "colab_type": "text",
    "id": "nQt0VMd-21B1"
   },
   "source": [
    "### Running models on HMP"
   ]
  },
  {
   "cell_type": "code",
   "execution_count": 43,
   "metadata": {},
   "outputs": [],
   "source": [
    "feat2=feat2.drop('video', axis = 1)"
   ]
  },
  {
   "cell_type": "code",
   "execution_count": 88,
   "metadata": {
    "colab": {},
    "colab_type": "code",
    "id": "az3_alli20Gv"
   },
   "outputs": [],
   "source": [
    "Y_st = labels['short-term_memorability'].values # st targets\n",
    "Y_lt = labels['long-term_memorability'].values  # lt targets\n",
    "X = feat2.values # HMP features"
   ]
  },
  {
   "cell_type": "code",
   "execution_count": 89,
   "metadata": {
    "colab": {},
    "colab_type": "code",
    "id": "LduUJiNR20Gy"
   },
   "outputs": [],
   "source": [
    "X_train_st, X_test_st, Y_train_st, Y_test_st = train_test_split(X,Y_st, test_size=0.2, random_state=42) \n",
    "#splitting the short term dev data into a train and validate split of 80 to 20 with a random state for reproducability\n",
    "\n",
    "X_train_lt, X_test_lt, Y_train_lt, Y_test_lt = train_test_split(X,Y_lt, test_size=0.2, random_state=42) \n",
    "# #splitting the long term dev data into a train and validate split of 80 to 20 with a random state for reproducability"
   ]
  },
  {
   "cell_type": "code",
   "execution_count": 90,
   "metadata": {
    "colab": {
     "base_uri": "https://localhost:8080/",
     "height": 84
    },
    "colab_type": "code",
    "executionInfo": {
     "elapsed": 148193,
     "status": "ok",
     "timestamp": 1587595263922,
     "user": {
      "displayName": "Kirthy Francis",
      "photoUrl": "https://lh3.googleusercontent.com/a-/AOh14GijNK7FM2xrZUykCoHIPFo4MIEzIh7vdAuLb-2L=s64",
      "userId": "00800941396627043895"
     },
     "user_tz": -60
    },
    "id": "YoKTgVGq20Gz",
    "outputId": "81a48fef-386a-4085-93ba-2219e3e9c380"
   },
   "outputs": [
    {
     "name": "stdout",
     "output_type": "stream",
     "text": [
      "X_train (4800, 6075)\n",
      "X_test (1200, 6075)\n",
      "Y_train (4800,)\n",
      "Y_test (1200,)\n"
     ]
    }
   ],
   "source": [
    "#testing to see shape of data split for Short Term\n",
    "print('X_train', X_train_st.shape)\n",
    "print('X_test', X_test_st.shape)\n",
    "print('Y_train', Y_train_st.shape)\n",
    "print('Y_test', Y_test_st.shape)"
   ]
  },
  {
   "cell_type": "code",
   "execution_count": 91,
   "metadata": {
    "colab": {
     "base_uri": "https://localhost:8080/",
     "height": 84
    },
    "colab_type": "code",
    "executionInfo": {
     "elapsed": 148167,
     "status": "ok",
     "timestamp": 1587595263925,
     "user": {
      "displayName": "Kirthy Francis",
      "photoUrl": "https://lh3.googleusercontent.com/a-/AOh14GijNK7FM2xrZUykCoHIPFo4MIEzIh7vdAuLb-2L=s64",
      "userId": "00800941396627043895"
     },
     "user_tz": -60
    },
    "id": "i5bM8Jtn20G1",
    "outputId": "6c6391d4-cf74-4e7f-be25-dcdb15da9ef1",
    "scrolled": true
   },
   "outputs": [
    {
     "name": "stdout",
     "output_type": "stream",
     "text": [
      "X_train (4800, 6075)\n",
      "X_test (1200, 6075)\n",
      "Y_train (4800,)\n",
      "Y_test (1200,)\n"
     ]
    }
   ],
   "source": [
    "#testing to see shape of data split for Long Term\n",
    "print('X_train', X_train_lt.shape)\n",
    "print('X_test', X_test_lt.shape)\n",
    "print('Y_train', Y_train_lt.shape)\n",
    "print('Y_test', Y_test_lt.shape)"
   ]
  },
  {
   "cell_type": "markdown",
   "metadata": {},
   "source": [
    "#### Linear Regressor Model  on HMP"
   ]
  },
  {
   "cell_type": "code",
   "execution_count": 69,
   "metadata": {
    "colab": {
     "base_uri": "https://localhost:8080/",
     "height": 34
    },
    "colab_type": "code",
    "executionInfo": {
     "elapsed": 70901,
     "status": "ok",
     "timestamp": 1587595186128,
     "user": {
      "displayName": "Kirthy Francis",
      "photoUrl": "https://lh3.googleusercontent.com/a-/AOh14GijNK7FM2xrZUykCoHIPFo4MIEzIh7vdAuLb-2L=s64",
      "userId": "00800941396627043895"
     },
     "user_tz": -60
    },
    "id": "QMqEYgpZ13Kw",
    "outputId": "41cf9e63-401b-41e2-ef34-5e4092018ab2"
   },
   "outputs": [
    {
     "name": "stdout",
     "output_type": "stream",
     "text": [
      "Linear Regressor Short Term:\n",
      "The Spearman's correlation coefficient is: 0.036\n"
     ]
    }
   ],
   "source": [
    "LMregressor = LinearRegression(n_jobs=-1)\n",
    "LMregressor.fit(X_train_st, Y_train_st)\n",
    "y_pred = LMregressor.predict(X_test_st)\n",
    "print('Linear Regressor Short Term:')\n",
    "Get_score(y_pred, Y_test_st)"
   ]
  },
  {
   "cell_type": "code",
   "execution_count": 70,
   "metadata": {
    "colab": {
     "base_uri": "https://localhost:8080/",
     "height": 34
    },
    "colab_type": "code",
    "executionInfo": {
     "elapsed": 70901,
     "status": "ok",
     "timestamp": 1587595186128,
     "user": {
      "displayName": "Kirthy Francis",
      "photoUrl": "https://lh3.googleusercontent.com/a-/AOh14GijNK7FM2xrZUykCoHIPFo4MIEzIh7vdAuLb-2L=s64",
      "userId": "00800941396627043895"
     },
     "user_tz": -60
    },
    "id": "QMqEYgpZ13Kw",
    "outputId": "41cf9e63-401b-41e2-ef34-5e4092018ab2"
   },
   "outputs": [
    {
     "name": "stdout",
     "output_type": "stream",
     "text": [
      "Linear Regressor Long Term:\n",
      "The Spearman's correlation coefficient is: -0.004\n"
     ]
    }
   ],
   "source": [
    "LMregressor = LinearRegression(n_jobs=-1)\n",
    "LMregressor.fit(X_train_lt, Y_train_lt)\n",
    "y_pred = LMregressor.predict(X_test_lt)\n",
    "print('Linear Regressor Long Term:')\n",
    "Get_score(y_pred, Y_test_lt)"
   ]
  },
  {
   "cell_type": "markdown",
   "metadata": {},
   "source": [
    "#### Decision Tree Regressor Model  on HMP"
   ]
  },
  {
   "cell_type": "code",
   "execution_count": 71,
   "metadata": {
    "colab": {
     "base_uri": "https://localhost:8080/",
     "height": 118
    },
    "colab_type": "code",
    "executionInfo": {
     "elapsed": 71062,
     "status": "ok",
     "timestamp": 1587595186336,
     "user": {
      "displayName": "Kirthy Francis",
      "photoUrl": "https://lh3.googleusercontent.com/a-/AOh14GijNK7FM2xrZUykCoHIPFo4MIEzIh7vdAuLb-2L=s64",
      "userId": "00800941396627043895"
     },
     "user_tz": -60
    },
    "id": "EMjPJnDW1-R4",
    "outputId": "d03f1491-cb16-4411-8634-bc35fb99f98a",
    "scrolled": true
   },
   "outputs": [
    {
     "name": "stdout",
     "output_type": "stream",
     "text": [
      "Decision Tree Regressor Short Term:\n",
      "The Spearman's correlation coefficient is: 0.109\n"
     ]
    }
   ],
   "source": [
    "DTregressor = DecisionTreeRegressor()\n",
    "DTregressor.fit(X_train_st, Y_train_st)\n",
    "y_pred = DTregressor.predict(X_test_st)\n",
    "print('Decision Tree Regressor Short Term:')\n",
    "Get_score(y_pred, Y_test_st)"
   ]
  },
  {
   "cell_type": "code",
   "execution_count": 72,
   "metadata": {
    "colab": {
     "base_uri": "https://localhost:8080/",
     "height": 118
    },
    "colab_type": "code",
    "executionInfo": {
     "elapsed": 71062,
     "status": "ok",
     "timestamp": 1587595186336,
     "user": {
      "displayName": "Kirthy Francis",
      "photoUrl": "https://lh3.googleusercontent.com/a-/AOh14GijNK7FM2xrZUykCoHIPFo4MIEzIh7vdAuLb-2L=s64",
      "userId": "00800941396627043895"
     },
     "user_tz": -60
    },
    "id": "EMjPJnDW1-R4",
    "outputId": "d03f1491-cb16-4411-8634-bc35fb99f98a",
    "scrolled": true
   },
   "outputs": [
    {
     "name": "stdout",
     "output_type": "stream",
     "text": [
      "Decision Tree Regressor Long Term:\n",
      "The Spearman's correlation coefficient is: 0.042\n"
     ]
    }
   ],
   "source": [
    "DTregressor = DecisionTreeRegressor()\n",
    "DTregressor.fit(X_train_lt, Y_train_lt)\n",
    "y_pred = DTregressor.predict(X_test_lt)\n",
    "print('Decision Tree Regressor Long Term:')\n",
    "Get_score(y_pred, Y_test_lt)"
   ]
  },
  {
   "cell_type": "markdown",
   "metadata": {},
   "source": [
    "#### Random Forest Regressor Model on HMP"
   ]
  },
  {
   "cell_type": "code",
   "execution_count": 173,
   "metadata": {
    "colab": {
     "base_uri": "https://localhost:8080/",
     "height": 134
    },
    "colab_type": "code",
    "executionInfo": {
     "elapsed": 75425,
     "status": "ok",
     "timestamp": 1587595190738,
     "user": {
      "displayName": "Kirthy Francis",
      "photoUrl": "https://lh3.googleusercontent.com/a-/AOh14GijNK7FM2xrZUykCoHIPFo4MIEzIh7vdAuLb-2L=s64",
      "userId": "00800941396627043895"
     },
     "user_tz": -60
    },
    "id": "ubQg_y3v4E7G",
    "outputId": "10146330-b8c7-4270-ea11-58f21c4d2a88"
   },
   "outputs": [
    {
     "name": "stdout",
     "output_type": "stream",
     "text": [
      "Random Forest Regressor Short Term:\n",
      "The Spearman's correlation coefficient is: 0.309\n"
     ]
    }
   ],
   "source": [
    "RFregressor = RandomForestRegressor(n_jobs=-1,n_estimators=100)\n",
    "RFregressor.fit(X_train_st, Y_train_st)\n",
    "y_pred = RFregressor.predict(X_test_st)\n",
    "print('Random Forest Regressor Short Term:')\n",
    "Get_score(y_pred, Y_test_st)"
   ]
  },
  {
   "cell_type": "code",
   "execution_count": 174,
   "metadata": {
    "colab": {
     "base_uri": "https://localhost:8080/",
     "height": 134
    },
    "colab_type": "code",
    "executionInfo": {
     "elapsed": 75425,
     "status": "ok",
     "timestamp": 1587595190738,
     "user": {
      "displayName": "Kirthy Francis",
      "photoUrl": "https://lh3.googleusercontent.com/a-/AOh14GijNK7FM2xrZUykCoHIPFo4MIEzIh7vdAuLb-2L=s64",
      "userId": "00800941396627043895"
     },
     "user_tz": -60
    },
    "id": "ubQg_y3v4E7G",
    "outputId": "10146330-b8c7-4270-ea11-58f21c4d2a88"
   },
   "outputs": [
    {
     "name": "stdout",
     "output_type": "stream",
     "text": [
      "Random Forest Regressor Long Term:\n",
      "The Spearman's correlation coefficient is: 0.114\n"
     ]
    }
   ],
   "source": [
    "RFregressor = RandomForestRegressor(n_jobs=-1,n_estimators=100)\n",
    "RFregressor.fit(X_train_lt, Y_train_lt)\n",
    "y_pred = RFregressor.predict(X_test_lt)\n",
    "print('Random Forest Regressor Long Term:')\n",
    "Get_score(y_pred, Y_test_lt)"
   ]
  },
  {
   "cell_type": "markdown",
   "metadata": {},
   "source": [
    "#### XGBoost Regressor Model  on HMP"
   ]
  },
  {
   "cell_type": "code",
   "execution_count": 92,
   "metadata": {},
   "outputs": [
    {
     "name": "stdout",
     "output_type": "stream",
     "text": [
      "XG Boosting Regressor Short Term:\n",
      "The Spearman's correlation coefficient is: 0.202\n"
     ]
    }
   ],
   "source": [
    "xg_reg = xgb.XGBRegressor(nthread=-1, learning_rate = 1, max_depth = 5, alpha = 10, n_estimators = 100, objective ='reg:squarederror')\n",
    "xg_reg.fit(X_train_st,Y_train_st)\n",
    "preds_y = xg_reg.predict(X_test_st)\n",
    "print('XG Boosting Regressor Short Term:')\n",
    "Get_score(preds_y, Y_test_st)"
   ]
  },
  {
   "cell_type": "code",
   "execution_count": 93,
   "metadata": {},
   "outputs": [
    {
     "name": "stdout",
     "output_type": "stream",
     "text": [
      "XG Boosting Regressor Long Term:\n",
      "The Spearman's correlation coefficient is: 0.076\n"
     ]
    }
   ],
   "source": [
    "xg_reg = xgb.XGBRegressor(nthread=-1, learning_rate = 1, max_depth = 5, alpha = 10, n_estimators = 100, objective ='reg:squarederror')\n",
    "xg_reg.fit(X_train_lt,Y_train_lt)\n",
    "preds_y = xg_reg.predict(X_test_lt)\n",
    "print('XG Boosting Regressor Long Term:')\n",
    "Get_score(preds_y, Y_test_lt)"
   ]
  },
  {
   "cell_type": "markdown",
   "metadata": {},
   "source": [
    "#### Gradient Boosting Regressor Model on HMP"
   ]
  },
  {
   "cell_type": "code",
   "execution_count": 137,
   "metadata": {},
   "outputs": [],
   "source": [
    "clf = ensemble.GradientBoostingRegressor(n_estimators=650, max_depth=12, min_samples_split=2, learning_rate=0.01, loss='lad')"
   ]
  },
  {
   "cell_type": "code",
   "execution_count": 138,
   "metadata": {},
   "outputs": [
    {
     "name": "stdout",
     "output_type": "stream",
     "text": [
      "Gradient Boosting Regressor Short Term:\n",
      "The Spearman's correlation coefficient is: 0.279\n",
      "None\n"
     ]
    }
   ],
   "source": [
    "clf.fit(X_train_st, Y_train_st)\n",
    "print('Gradient Boosting Regressor Short Term:')\n",
    "print(Get_score(clf.predict(X_test_st), Y_test_st))"
   ]
  },
  {
   "cell_type": "code",
   "execution_count": 139,
   "metadata": {},
   "outputs": [
    {
     "name": "stdout",
     "output_type": "stream",
     "text": [
      "Gradient Boosting Regressor Long Term:\n",
      "The Spearman's correlation coefficient is: 0.123\n",
      "None\n"
     ]
    }
   ],
   "source": [
    "clf.fit(X_train_lt, Y_train_lt)\n",
    "print('Gradient Boosting Regressor Long Term:')\n",
    "print(Get_score(clf.predict(X_test_lt), Y_test_lt))"
   ]
  },
  {
   "cell_type": "markdown",
   "metadata": {
    "colab_type": "text",
    "id": "mfTgqf164hr2"
   },
   "source": [
    "### Running models on Captions + C3D"
   ]
  },
  {
   "cell_type": "code",
   "execution_count": 62,
   "metadata": {},
   "outputs": [],
   "source": [
    "df_x2 = df_x2.drop('video', axis = 1)  #drop video column"
   ]
  },
  {
   "cell_type": "code",
   "execution_count": 94,
   "metadata": {
    "colab": {},
    "colab_type": "code",
    "id": "cMFmDj7b4oZO"
   },
   "outputs": [],
   "source": [
    "Y_st = labels['short-term_memorability'].values # st targets\n",
    "Y_lt = labels['long-term_memorability'].values  # lt targets\n",
    "X = df_x2.values # sequences & C3D merged"
   ]
  },
  {
   "cell_type": "code",
   "execution_count": 95,
   "metadata": {
    "colab": {},
    "colab_type": "code",
    "id": "AwCN7lcR4oZR"
   },
   "outputs": [],
   "source": [
    "X_train_st, X_test_st, Y_train_st, Y_test_st = train_test_split(X,Y_st, test_size=0.2, random_state=42) \n",
    "#splitting the short term dev data into a train and validate split of 80 to 20 with a random state for reproducability\n",
    "\n",
    "X_train_lt, X_test_lt, Y_train_lt, Y_test_lt = train_test_split(X,Y_lt, test_size=0.2, random_state=42) \n",
    "# #splitting the long term dev data into a train and validate split of 80 to 20 with a random state for reproducability"
   ]
  },
  {
   "cell_type": "code",
   "execution_count": 96,
   "metadata": {
    "colab": {
     "base_uri": "https://localhost:8080/",
     "height": 84
    },
    "colab_type": "code",
    "executionInfo": {
     "elapsed": 3375747,
     "status": "ok",
     "timestamp": 1587598491704,
     "user": {
      "displayName": "Kirthy Francis",
      "photoUrl": "https://lh3.googleusercontent.com/a-/AOh14GijNK7FM2xrZUykCoHIPFo4MIEzIh7vdAuLb-2L=s64",
      "userId": "00800941396627043895"
     },
     "user_tz": -60
    },
    "id": "c1j6qXKD4oZT",
    "outputId": "1671ec98-ebe6-49d4-a9e5-f270c7946cf0"
   },
   "outputs": [
    {
     "name": "stdout",
     "output_type": "stream",
     "text": [
      "X_train (4800, 151)\n",
      "X_test (1200, 151)\n",
      "Y_train (4800,)\n",
      "Y_test (1200,)\n"
     ]
    }
   ],
   "source": [
    "#Just testing to see shape of data split for Short Term\n",
    "print('X_train', X_train_st.shape)\n",
    "print('X_test', X_test_st.shape)\n",
    "print('Y_train', Y_train_st.shape)\n",
    "print('Y_test', Y_test_st.shape)"
   ]
  },
  {
   "cell_type": "code",
   "execution_count": 97,
   "metadata": {
    "colab": {
     "base_uri": "https://localhost:8080/",
     "height": 84
    },
    "colab_type": "code",
    "executionInfo": {
     "elapsed": 3375740,
     "status": "ok",
     "timestamp": 1587598491705,
     "user": {
      "displayName": "Kirthy Francis",
      "photoUrl": "https://lh3.googleusercontent.com/a-/AOh14GijNK7FM2xrZUykCoHIPFo4MIEzIh7vdAuLb-2L=s64",
      "userId": "00800941396627043895"
     },
     "user_tz": -60
    },
    "id": "XSe4ox6K4oZU",
    "outputId": "d4d0a020-fc0c-41c2-d0bb-6423b5c55f26"
   },
   "outputs": [
    {
     "name": "stdout",
     "output_type": "stream",
     "text": [
      "X_train (4800, 151)\n",
      "X_test (1200, 151)\n",
      "Y_train (4800,)\n",
      "Y_test (1200,)\n"
     ]
    }
   ],
   "source": [
    "#Just testing to see shape of data split for Long Term\n",
    "print('X_train', X_train_lt.shape)\n",
    "print('X_test', X_test_lt.shape)\n",
    "print('Y_train', Y_train_lt.shape)\n",
    "print('Y_test', Y_test_lt.shape)"
   ]
  },
  {
   "cell_type": "markdown",
   "metadata": {},
   "source": [
    "#### Linear Regressor Model on Captions + C3D"
   ]
  },
  {
   "cell_type": "code",
   "execution_count": 85,
   "metadata": {
    "colab": {
     "base_uri": "https://localhost:8080/",
     "height": 34
    },
    "colab_type": "code",
    "executionInfo": {
     "elapsed": 70901,
     "status": "ok",
     "timestamp": 1587595186128,
     "user": {
      "displayName": "Kirthy Francis",
      "photoUrl": "https://lh3.googleusercontent.com/a-/AOh14GijNK7FM2xrZUykCoHIPFo4MIEzIh7vdAuLb-2L=s64",
      "userId": "00800941396627043895"
     },
     "user_tz": -60
    },
    "id": "QMqEYgpZ13Kw",
    "outputId": "41cf9e63-401b-41e2-ef34-5e4092018ab2"
   },
   "outputs": [
    {
     "name": "stdout",
     "output_type": "stream",
     "text": [
      "Linear Regressor Short Term:\n",
      "The Spearman's correlation coefficient is: 0.273\n"
     ]
    }
   ],
   "source": [
    "LMregressor = LinearRegression(n_jobs=-1)\n",
    "LMregressor.fit(X_train_st, Y_train_st)\n",
    "y_pred = LMregressor.predict(X_test_st)\n",
    "print('Linear Regressor Short Term:')\n",
    "Get_score(y_pred, Y_test_st)"
   ]
  },
  {
   "cell_type": "code",
   "execution_count": 86,
   "metadata": {
    "colab": {
     "base_uri": "https://localhost:8080/",
     "height": 34
    },
    "colab_type": "code",
    "executionInfo": {
     "elapsed": 70901,
     "status": "ok",
     "timestamp": 1587595186128,
     "user": {
      "displayName": "Kirthy Francis",
      "photoUrl": "https://lh3.googleusercontent.com/a-/AOh14GijNK7FM2xrZUykCoHIPFo4MIEzIh7vdAuLb-2L=s64",
      "userId": "00800941396627043895"
     },
     "user_tz": -60
    },
    "id": "QMqEYgpZ13Kw",
    "outputId": "41cf9e63-401b-41e2-ef34-5e4092018ab2"
   },
   "outputs": [
    {
     "name": "stdout",
     "output_type": "stream",
     "text": [
      "Linear Regressor Long Term:\n",
      "The Spearman's correlation coefficient is: 0.081\n"
     ]
    }
   ],
   "source": [
    "LMregressor = LinearRegression(n_jobs=-1)\n",
    "LMregressor.fit(X_train_lt, Y_train_lt)\n",
    "y_pred = LMregressor.predict(X_test_lt)\n",
    "print('Linear Regressor Long Term:')\n",
    "Get_score(y_pred, Y_test_lt)"
   ]
  },
  {
   "cell_type": "markdown",
   "metadata": {},
   "source": [
    "#### Decision Tree Regressor Model on Captions + C3D"
   ]
  },
  {
   "cell_type": "code",
   "execution_count": 87,
   "metadata": {
    "colab": {
     "base_uri": "https://localhost:8080/",
     "height": 118
    },
    "colab_type": "code",
    "executionInfo": {
     "elapsed": 71062,
     "status": "ok",
     "timestamp": 1587595186336,
     "user": {
      "displayName": "Kirthy Francis",
      "photoUrl": "https://lh3.googleusercontent.com/a-/AOh14GijNK7FM2xrZUykCoHIPFo4MIEzIh7vdAuLb-2L=s64",
      "userId": "00800941396627043895"
     },
     "user_tz": -60
    },
    "id": "EMjPJnDW1-R4",
    "outputId": "d03f1491-cb16-4411-8634-bc35fb99f98a",
    "scrolled": true
   },
   "outputs": [
    {
     "name": "stdout",
     "output_type": "stream",
     "text": [
      "Decision Tree Regressor Short Term:\n",
      "The Spearman's correlation coefficient is: 0.086\n"
     ]
    }
   ],
   "source": [
    "DTregressor = DecisionTreeRegressor()\n",
    "DTregressor.fit(X_train_st, Y_train_st)\n",
    "y_pred = DTregressor.predict(X_test_st)\n",
    "print('Decision Tree Regressor Short Term:')\n",
    "Get_score(y_pred, Y_test_st)"
   ]
  },
  {
   "cell_type": "code",
   "execution_count": 88,
   "metadata": {
    "colab": {
     "base_uri": "https://localhost:8080/",
     "height": 118
    },
    "colab_type": "code",
    "executionInfo": {
     "elapsed": 71062,
     "status": "ok",
     "timestamp": 1587595186336,
     "user": {
      "displayName": "Kirthy Francis",
      "photoUrl": "https://lh3.googleusercontent.com/a-/AOh14GijNK7FM2xrZUykCoHIPFo4MIEzIh7vdAuLb-2L=s64",
      "userId": "00800941396627043895"
     },
     "user_tz": -60
    },
    "id": "EMjPJnDW1-R4",
    "outputId": "d03f1491-cb16-4411-8634-bc35fb99f98a",
    "scrolled": true
   },
   "outputs": [
    {
     "name": "stdout",
     "output_type": "stream",
     "text": [
      "Decision Tree Regressor Long Term:\n",
      "The Spearman's correlation coefficient is: 0.011\n"
     ]
    }
   ],
   "source": [
    "DTregressor = DecisionTreeRegressor()\n",
    "DTregressor.fit(X_train_lt, Y_train_lt)\n",
    "y_pred = DTregressor.predict(X_test_lt)\n",
    "print('Decision Tree Regressor Long Term:')\n",
    "Get_score(y_pred, Y_test_lt)"
   ]
  },
  {
   "cell_type": "markdown",
   "metadata": {},
   "source": [
    "#### Random Forest Regressor Model on Captions + C3D"
   ]
  },
  {
   "cell_type": "code",
   "execution_count": 179,
   "metadata": {
    "colab": {
     "base_uri": "https://localhost:8080/",
     "height": 134
    },
    "colab_type": "code",
    "executionInfo": {
     "elapsed": 75425,
     "status": "ok",
     "timestamp": 1587595190738,
     "user": {
      "displayName": "Kirthy Francis",
      "photoUrl": "https://lh3.googleusercontent.com/a-/AOh14GijNK7FM2xrZUykCoHIPFo4MIEzIh7vdAuLb-2L=s64",
      "userId": "00800941396627043895"
     },
     "user_tz": -60
    },
    "id": "ubQg_y3v4E7G",
    "outputId": "10146330-b8c7-4270-ea11-58f21c4d2a88"
   },
   "outputs": [
    {
     "name": "stdout",
     "output_type": "stream",
     "text": [
      "Random Forest Regressor Short Term:\n",
      "The Spearman's correlation coefficient is: 0.303\n"
     ]
    }
   ],
   "source": [
    "RFregressor = RandomForestRegressor(n_jobs=-1,n_estimators=100)\n",
    "RFregressor.fit(X_train_st, Y_train_st)\n",
    "y_pred = RFregressor.predict(X_test_st)\n",
    "print('Random Forest Regressor Short Term:')\n",
    "Get_score(y_pred, Y_test_st)"
   ]
  },
  {
   "cell_type": "code",
   "execution_count": 180,
   "metadata": {
    "colab": {
     "base_uri": "https://localhost:8080/",
     "height": 134
    },
    "colab_type": "code",
    "executionInfo": {
     "elapsed": 75425,
     "status": "ok",
     "timestamp": 1587595190738,
     "user": {
      "displayName": "Kirthy Francis",
      "photoUrl": "https://lh3.googleusercontent.com/a-/AOh14GijNK7FM2xrZUykCoHIPFo4MIEzIh7vdAuLb-2L=s64",
      "userId": "00800941396627043895"
     },
     "user_tz": -60
    },
    "id": "ubQg_y3v4E7G",
    "outputId": "10146330-b8c7-4270-ea11-58f21c4d2a88"
   },
   "outputs": [
    {
     "name": "stdout",
     "output_type": "stream",
     "text": [
      "Random Forest Regressor Long Term:\n",
      "The Spearman's correlation coefficient is: 0.116\n"
     ]
    }
   ],
   "source": [
    "RFregressor = RandomForestRegressor(n_jobs=-1,n_estimators=100)\n",
    "RFregressor.fit(X_train_lt, Y_train_lt)\n",
    "y_pred = RFregressor.predict(X_test_lt)\n",
    "print('Random Forest Regressor Long Term:')\n",
    "Get_score(y_pred, Y_test_lt)"
   ]
  },
  {
   "cell_type": "markdown",
   "metadata": {},
   "source": [
    "#### XGBoost Regressor Model on Captions + C3D"
   ]
  },
  {
   "cell_type": "code",
   "execution_count": 98,
   "metadata": {},
   "outputs": [
    {
     "name": "stdout",
     "output_type": "stream",
     "text": [
      "XG Boosting Regressor Short Term:\n",
      "The Spearman's correlation coefficient is: 0.154\n"
     ]
    }
   ],
   "source": [
    "xg_reg = xgb.XGBRegressor(nthread=-1, learning_rate = 1, max_depth = 5, alpha = 10, n_estimators = 100, objective ='reg:squarederror')\n",
    "xg_reg.fit(X_train_st,Y_train_st)\n",
    "preds_y = xg_reg.predict(X_test_st)\n",
    "print('XG Boosting Regressor Short Term:')\n",
    "Get_score(preds_y, Y_test_st)"
   ]
  },
  {
   "cell_type": "code",
   "execution_count": 100,
   "metadata": {
    "scrolled": true
   },
   "outputs": [
    {
     "name": "stdout",
     "output_type": "stream",
     "text": [
      "XG Boosting Regressor Long Term:\n",
      "The Spearman's correlation coefficient is: 0.029\n"
     ]
    }
   ],
   "source": [
    "xg_reg = xgb.XGBRegressor(nthread=-1, learning_rate = 1, max_depth = 5, alpha = 10, n_estimators = 100, objective ='reg:squarederror')\n",
    "xg_reg.fit(X_train_lt,Y_train_lt)\n",
    "preds_y = xg_reg.predict(X_test_lt)\n",
    "print('XG Boosting Regressor Long Term:')\n",
    "Get_score(preds_y, Y_test_lt)"
   ]
  },
  {
   "cell_type": "markdown",
   "metadata": {},
   "source": [
    "#### Gradient Boosting Regressor Model on Captions + C3D"
   ]
  },
  {
   "cell_type": "code",
   "execution_count": 144,
   "metadata": {},
   "outputs": [],
   "source": [
    "clf = ensemble.GradientBoostingRegressor(n_estimators=650, max_depth=12, min_samples_split=2, learning_rate=0.01, loss='lad')"
   ]
  },
  {
   "cell_type": "code",
   "execution_count": 145,
   "metadata": {},
   "outputs": [
    {
     "name": "stdout",
     "output_type": "stream",
     "text": [
      "Gradient Boosting Regressor Short Term:\n",
      "The Spearman's correlation coefficient is: 0.323\n",
      "None\n"
     ]
    }
   ],
   "source": [
    "clf.fit(X_train_st, Y_train_st)\n",
    "print('Gradient Boosting Regressor Short Term:')\n",
    "print(Get_score(clf.predict(X_test_st), Y_test_st))"
   ]
  },
  {
   "cell_type": "code",
   "execution_count": 146,
   "metadata": {},
   "outputs": [
    {
     "name": "stdout",
     "output_type": "stream",
     "text": [
      "Gradient Boosting Regressor Long Term:\n",
      "The Spearman's correlation coefficient is: 0.104\n",
      "None\n"
     ]
    }
   ],
   "source": [
    "clf.fit(X_train_lt, Y_train_lt)\n",
    "print('Gradient Boosting Regressor Long Term:')\n",
    "print(Get_score(clf.predict(X_test_lt), Y_test_lt))"
   ]
  },
  {
   "cell_type": "markdown",
   "metadata": {
    "colab_type": "text",
    "id": "dIouliLL3gQg"
   },
   "source": [
    "### Running models on Captions + C3D + HMP"
   ]
  },
  {
   "cell_type": "code",
   "execution_count": 101,
   "metadata": {
    "colab": {},
    "colab_type": "code",
    "id": "Xe7DGnLsLo_D"
   },
   "outputs": [],
   "source": [
    "Y_st = labels['short-term_memorability'].values # st targets\n",
    "Y_lt = labels['long-term_memorability'].values  # lt targets\n",
    "X = df_x.values # sequences & C3D merged"
   ]
  },
  {
   "cell_type": "code",
   "execution_count": 102,
   "metadata": {
    "colab": {},
    "colab_type": "code",
    "id": "tqtjj6lxLphG"
   },
   "outputs": [],
   "source": [
    "X_train_st, X_test_st, Y_train_st, Y_test_st = train_test_split(X,Y_st, test_size=0.2, random_state=42) \n",
    "#splitting the short term dev data into a train and validate split of 80 to 20 with a random state for reproducability\n",
    "\n",
    "X_train_lt, X_test_lt, Y_train_lt, Y_test_lt = train_test_split(X,Y_lt, test_size=0.2, random_state=42) \n",
    "# #splitting the long term dev data into a train and validate split of 80 to 20 with a random state for reproducability"
   ]
  },
  {
   "cell_type": "code",
   "execution_count": 103,
   "metadata": {
    "colab": {
     "base_uri": "https://localhost:8080/",
     "height": 84
    },
    "colab_type": "code",
    "executionInfo": {
     "elapsed": 3453357,
     "status": "ok",
     "timestamp": 1587598569502,
     "user": {
      "displayName": "Kirthy Francis",
      "photoUrl": "https://lh3.googleusercontent.com/a-/AOh14GijNK7FM2xrZUykCoHIPFo4MIEzIh7vdAuLb-2L=s64",
      "userId": "00800941396627043895"
     },
     "user_tz": -60
    },
    "id": "uQf0Mc-tLrWJ",
    "outputId": "98bd9dd5-5476-4838-81bc-0b862101146d"
   },
   "outputs": [
    {
     "name": "stdout",
     "output_type": "stream",
     "text": [
      "X_train (4800, 6226)\n",
      "X_test (1200, 6226)\n",
      "Y_train (4800,)\n",
      "Y_test (1200,)\n"
     ]
    }
   ],
   "source": [
    "#Just testing to see shape of data split for Short Term\n",
    "print('X_train', X_train_st.shape)\n",
    "print('X_test', X_test_st.shape)\n",
    "print('Y_train', Y_train_st.shape)\n",
    "print('Y_test', Y_test_st.shape)"
   ]
  },
  {
   "cell_type": "code",
   "execution_count": 104,
   "metadata": {
    "colab": {
     "base_uri": "https://localhost:8080/",
     "height": 84
    },
    "colab_type": "code",
    "executionInfo": {
     "elapsed": 3453349,
     "status": "ok",
     "timestamp": 1587598569502,
     "user": {
      "displayName": "Kirthy Francis",
      "photoUrl": "https://lh3.googleusercontent.com/a-/AOh14GijNK7FM2xrZUykCoHIPFo4MIEzIh7vdAuLb-2L=s64",
      "userId": "00800941396627043895"
     },
     "user_tz": -60
    },
    "id": "Vrv8ShXQLtgQ",
    "outputId": "c559410c-2e2f-42b0-b325-1128bfc27fe0"
   },
   "outputs": [
    {
     "name": "stdout",
     "output_type": "stream",
     "text": [
      "X_train (4800, 6226)\n",
      "X_test (1200, 6226)\n",
      "Y_train (4800,)\n",
      "Y_test (1200,)\n"
     ]
    }
   ],
   "source": [
    "#Just testing to see shape of data split for Long Term\n",
    "print('X_train', X_train_lt.shape)\n",
    "print('X_test', X_test_lt.shape)\n",
    "print('Y_train', Y_train_lt.shape)\n",
    "print('Y_test', Y_test_lt.shape)"
   ]
  },
  {
   "cell_type": "markdown",
   "metadata": {},
   "source": [
    "#### Linear Regressor Model on Captions + C3D + HMP"
   ]
  },
  {
   "cell_type": "code",
   "execution_count": 97,
   "metadata": {
    "colab": {
     "base_uri": "https://localhost:8080/",
     "height": 34
    },
    "colab_type": "code",
    "executionInfo": {
     "elapsed": 70901,
     "status": "ok",
     "timestamp": 1587595186128,
     "user": {
      "displayName": "Kirthy Francis",
      "photoUrl": "https://lh3.googleusercontent.com/a-/AOh14GijNK7FM2xrZUykCoHIPFo4MIEzIh7vdAuLb-2L=s64",
      "userId": "00800941396627043895"
     },
     "user_tz": -60
    },
    "id": "QMqEYgpZ13Kw",
    "outputId": "41cf9e63-401b-41e2-ef34-5e4092018ab2"
   },
   "outputs": [
    {
     "name": "stdout",
     "output_type": "stream",
     "text": [
      "Linear Regressor Short Term:\n",
      "The Spearman's correlation coefficient is: -0.019\n"
     ]
    }
   ],
   "source": [
    "LMregressor = LinearRegression(n_jobs=-1)\n",
    "LMregressor.fit(X_train_st, Y_train_st)\n",
    "y_pred = LMregressor.predict(X_test_st)\n",
    "print('Linear Regressor Short Term:')\n",
    "Get_score(y_pred, Y_test_st)"
   ]
  },
  {
   "cell_type": "code",
   "execution_count": 98,
   "metadata": {
    "colab": {
     "base_uri": "https://localhost:8080/",
     "height": 34
    },
    "colab_type": "code",
    "executionInfo": {
     "elapsed": 70901,
     "status": "ok",
     "timestamp": 1587595186128,
     "user": {
      "displayName": "Kirthy Francis",
      "photoUrl": "https://lh3.googleusercontent.com/a-/AOh14GijNK7FM2xrZUykCoHIPFo4MIEzIh7vdAuLb-2L=s64",
      "userId": "00800941396627043895"
     },
     "user_tz": -60
    },
    "id": "QMqEYgpZ13Kw",
    "outputId": "41cf9e63-401b-41e2-ef34-5e4092018ab2"
   },
   "outputs": [
    {
     "name": "stdout",
     "output_type": "stream",
     "text": [
      "Linear Regressor Long Term:\n",
      "The Spearman's correlation coefficient is: 0.001\n"
     ]
    }
   ],
   "source": [
    "LMregressor = LinearRegression(n_jobs=-1)\n",
    "LMregressor.fit(X_train_lt, Y_train_lt)\n",
    "y_pred = LMregressor.predict(X_test_lt)\n",
    "print('Linear Regressor Long Term:')\n",
    "Get_score(y_pred, Y_test_lt)"
   ]
  },
  {
   "cell_type": "markdown",
   "metadata": {},
   "source": [
    "#### Decision Tree Regressor Model on Captions + C3D + HMP"
   ]
  },
  {
   "cell_type": "code",
   "execution_count": 99,
   "metadata": {
    "colab": {
     "base_uri": "https://localhost:8080/",
     "height": 118
    },
    "colab_type": "code",
    "executionInfo": {
     "elapsed": 71062,
     "status": "ok",
     "timestamp": 1587595186336,
     "user": {
      "displayName": "Kirthy Francis",
      "photoUrl": "https://lh3.googleusercontent.com/a-/AOh14GijNK7FM2xrZUykCoHIPFo4MIEzIh7vdAuLb-2L=s64",
      "userId": "00800941396627043895"
     },
     "user_tz": -60
    },
    "id": "EMjPJnDW1-R4",
    "outputId": "d03f1491-cb16-4411-8634-bc35fb99f98a",
    "scrolled": true
   },
   "outputs": [
    {
     "name": "stdout",
     "output_type": "stream",
     "text": [
      "Decision Tree Regressor Short Term:\n",
      "The Spearman's correlation coefficient is: 0.085\n"
     ]
    }
   ],
   "source": [
    "DTregressor = DecisionTreeRegressor()\n",
    "DTregressor.fit(X_train_st, Y_train_st)\n",
    "y_pred = DTregressor.predict(X_test_st)\n",
    "print('Decision Tree Regressor Short Term:')\n",
    "Get_score(y_pred, Y_test_st)"
   ]
  },
  {
   "cell_type": "code",
   "execution_count": 100,
   "metadata": {
    "colab": {
     "base_uri": "https://localhost:8080/",
     "height": 118
    },
    "colab_type": "code",
    "executionInfo": {
     "elapsed": 71062,
     "status": "ok",
     "timestamp": 1587595186336,
     "user": {
      "displayName": "Kirthy Francis",
      "photoUrl": "https://lh3.googleusercontent.com/a-/AOh14GijNK7FM2xrZUykCoHIPFo4MIEzIh7vdAuLb-2L=s64",
      "userId": "00800941396627043895"
     },
     "user_tz": -60
    },
    "id": "EMjPJnDW1-R4",
    "outputId": "d03f1491-cb16-4411-8634-bc35fb99f98a",
    "scrolled": true
   },
   "outputs": [
    {
     "name": "stdout",
     "output_type": "stream",
     "text": [
      "Decision Tree Regressor Long Term:\n",
      "The Spearman's correlation coefficient is: 0.044\n"
     ]
    }
   ],
   "source": [
    "DTregressor = DecisionTreeRegressor()\n",
    "DTregressor.fit(X_train_lt, Y_train_lt)\n",
    "y_pred = DTregressor.predict(X_test_lt)\n",
    "print('Decision Tree Regressor Long Term:')\n",
    "Get_score(y_pred, Y_test_lt)"
   ]
  },
  {
   "cell_type": "markdown",
   "metadata": {},
   "source": [
    "#### Random Forest Regressor Model on Captions + C3D + HMP"
   ]
  },
  {
   "cell_type": "code",
   "execution_count": 185,
   "metadata": {
    "colab": {
     "base_uri": "https://localhost:8080/",
     "height": 134
    },
    "colab_type": "code",
    "executionInfo": {
     "elapsed": 75425,
     "status": "ok",
     "timestamp": 1587595190738,
     "user": {
      "displayName": "Kirthy Francis",
      "photoUrl": "https://lh3.googleusercontent.com/a-/AOh14GijNK7FM2xrZUykCoHIPFo4MIEzIh7vdAuLb-2L=s64",
      "userId": "00800941396627043895"
     },
     "user_tz": -60
    },
    "id": "ubQg_y3v4E7G",
    "outputId": "10146330-b8c7-4270-ea11-58f21c4d2a88"
   },
   "outputs": [
    {
     "name": "stdout",
     "output_type": "stream",
     "text": [
      "Random Forest Regressor Short Term:\n",
      "The Spearman's correlation coefficient is: 0.341\n"
     ]
    }
   ],
   "source": [
    "RFregressor = RandomForestRegressor(n_jobs=-1,n_estimators=100)\n",
    "RFregressor.fit(X_train_st, Y_train_st)\n",
    "y_pred = RFregressor.predict(X_test_st)\n",
    "print('Random Forest Regressor Short Term:')\n",
    "Get_score(y_pred, Y_test_st)"
   ]
  },
  {
   "cell_type": "code",
   "execution_count": 186,
   "metadata": {
    "colab": {
     "base_uri": "https://localhost:8080/",
     "height": 134
    },
    "colab_type": "code",
    "executionInfo": {
     "elapsed": 75425,
     "status": "ok",
     "timestamp": 1587595190738,
     "user": {
      "displayName": "Kirthy Francis",
      "photoUrl": "https://lh3.googleusercontent.com/a-/AOh14GijNK7FM2xrZUykCoHIPFo4MIEzIh7vdAuLb-2L=s64",
      "userId": "00800941396627043895"
     },
     "user_tz": -60
    },
    "id": "ubQg_y3v4E7G",
    "outputId": "10146330-b8c7-4270-ea11-58f21c4d2a88"
   },
   "outputs": [
    {
     "name": "stdout",
     "output_type": "stream",
     "text": [
      "Random Forest Regressor Long Term:\n",
      "The Spearman's correlation coefficient is: 0.132\n"
     ]
    }
   ],
   "source": [
    "RFregressor = RandomForestRegressor(n_jobs=-1,n_estimators=100)\n",
    "RFregressor.fit(X_train_lt, Y_train_lt)\n",
    "y_pred = RFregressor.predict(X_test_lt)\n",
    "print('Random Forest Regressor Long Term:')\n",
    "Get_score(y_pred, Y_test_lt)"
   ]
  },
  {
   "cell_type": "markdown",
   "metadata": {},
   "source": [
    "#### XGBoost Regressor Model on Captions + C3D + HMP"
   ]
  },
  {
   "cell_type": "code",
   "execution_count": 106,
   "metadata": {},
   "outputs": [
    {
     "name": "stdout",
     "output_type": "stream",
     "text": [
      "XG Boosting Regressor Short Term:\n",
      "The Spearman's correlation coefficient is: 0.170\n"
     ]
    }
   ],
   "source": [
    "xg_reg = xgb.XGBRegressor(nthread=-1, learning_rate = 1, max_depth = 5, alpha = 10, n_estimators = 100, objective ='reg:squarederror')\n",
    "xg_reg.fit(X_train_st,Y_train_st)\n",
    "preds_y = xg_reg.predict(X_test_st)\n",
    "print('XG Boosting Regressor Short Term:')\n",
    "Get_score(preds_y, Y_test_st)"
   ]
  },
  {
   "cell_type": "code",
   "execution_count": 105,
   "metadata": {},
   "outputs": [
    {
     "name": "stdout",
     "output_type": "stream",
     "text": [
      "XG Boosting Regressor Long Term:\n",
      "The Spearman's correlation coefficient is: 0.075\n"
     ]
    }
   ],
   "source": [
    "xg_reg = xgb.XGBRegressor(nthread=-1, learning_rate = 1, max_depth = 5, alpha = 10, n_estimators = 100, objective ='reg:squarederror')\n",
    "xg_reg.fit(X_train_lt,Y_train_lt)\n",
    "preds_y = xg_reg.predict(X_test_lt)\n",
    "print('XG Boosting Regressor Long Term:')\n",
    "Get_score(preds_y, Y_test_lt)"
   ]
  },
  {
   "cell_type": "markdown",
   "metadata": {},
   "source": [
    "#### Gradient Boosting Regressor Model on Captions + C3D + HMP"
   ]
  },
  {
   "cell_type": "code",
   "execution_count": 151,
   "metadata": {},
   "outputs": [],
   "source": [
    "clf = ensemble.GradientBoostingRegressor(n_estimators=650, max_depth=12, min_samples_split=2, learning_rate=0.01, loss='lad')"
   ]
  },
  {
   "cell_type": "code",
   "execution_count": 152,
   "metadata": {},
   "outputs": [
    {
     "name": "stdout",
     "output_type": "stream",
     "text": [
      "Gradient Boosting Regressor Short Term:\n",
      "The Spearman's correlation coefficient is: 0.350\n",
      "None\n"
     ]
    }
   ],
   "source": [
    "clf.fit(X_train_st, Y_train_st)\n",
    "print('Gradient Boosting Regressor Short Term:')\n",
    "print(Get_score(clf.predict(X_test_st), Y_test_st))"
   ]
  },
  {
   "cell_type": "code",
   "execution_count": 153,
   "metadata": {},
   "outputs": [
    {
     "name": "stdout",
     "output_type": "stream",
     "text": [
      "Gradient Boosting Regressor Long Term:\n",
      "The Spearman's correlation coefficient is: 0.142\n",
      "None\n"
     ]
    }
   ],
   "source": [
    "clf.fit(X_train_lt, Y_train_lt)\n",
    "print('Gradient Boosting Regressor Long Term:')\n",
    "print(Get_score(clf.predict(X_test_lt), Y_test_lt))"
   ]
  }
 ],
 "metadata": {
  "accelerator": "TPU",
  "colab": {
   "authorship_tag": "ABX9TyMqXgdp2Vt34DkSMAFbHK8T",
   "collapsed_sections": [],
   "name": "Assg.ipynb",
   "provenance": []
  },
  "kernelspec": {
   "display_name": "Python 3",
   "language": "python",
   "name": "python3"
  },
  "language_info": {
   "codemirror_mode": {
    "name": "ipython",
    "version": 3
   },
   "file_extension": ".py",
   "mimetype": "text/x-python",
   "name": "python",
   "nbconvert_exporter": "python",
   "pygments_lexer": "ipython3",
   "version": "3.7.6"
  }
 },
 "nbformat": 4,
 "nbformat_minor": 1
}
